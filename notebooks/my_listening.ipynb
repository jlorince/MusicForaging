{
 "cells": [
  {
   "cell_type": "code",
   "execution_count": 296,
   "metadata": {
    "collapsed": false
   },
   "outputs": [
    {
     "name": "stderr",
     "output_type": "stream",
     "text": [
      "/Users/jaredlorince/anaconda/lib/python2.7/site-packages/IPython/core/magics/extension.py:47: UserWarning: %install_ext` is deprecated, please distribute your extension as a python package.\n",
      "  \"as a python package.\", UserWarning)\n"
     ]
    },
    {
     "name": "stdout",
     "output_type": "stream",
     "text": [
      "Installed autotime.py. To use it, type:\n",
      "  %load_ext autotime\n"
     ]
    }
   ],
   "source": [
    "import pandas as pd\n",
    "import graphlab as gl\n",
    "import numpy as np\n",
    "from IPython.core.display import display\n",
    "from scipy.spatial.distance import cosine,euclidean,pdist,squareform,sqeuclidean\n",
    "from sklearn.metrics.pairwise import pairwise_distances\n",
    "from matplotlib import pyplot as plt\n",
    "%matplotlib inline\n",
    "from scipy.stats import entropy\n",
    "from numpy.linalg import norm\n",
    "from jenks import jenks\n",
    "from itertools import chain,tee, izip\n",
    "from urllib import unquote_plus\n",
    "from titlecase import titlecase\n",
    "from itertools import combinations\n",
    "import itertools\n",
    "import seaborn\n",
    "from scikits.bootstrap import ci\n",
    "import pyclust\n",
    "\n",
    "%install_ext https://raw.github.com/cpcloud/ipython-autotime/master/autotime.py\n",
    "%load_ext autotime"
   ]
  },
  {
   "cell_type": "code",
   "execution_count": 297,
   "metadata": {
    "collapsed": false
   },
   "outputs": [
    {
     "name": "stdout",
     "output_type": "stream",
     "text": [
      "time: 1.25 ms\n"
     ]
    }
   ],
   "source": [
    "# GLOBAL PARAMS\n",
    "SESSION_THRESHOLD = 99e99 # 30 minutes\n",
    "MIN_LENGTH = 5 # Minimum number of scrobbles in a patch"
   ]
  },
  {
   "cell_type": "code",
   "execution_count": 10,
   "metadata": {
    "collapsed": false
   },
   "outputs": [],
   "source": [
    "### Load some example data\n",
    "fi = \"../testData/mylistening.txt\"\n",
    "#fi = \"../testData/test_listening_data.tsv\"\n",
    "me = pd.read_table(fi,header=None,\n",
    "            names=['user_id','item_id','artist_id','ts'],parse_dates=['ts']).sort_values(by='ts')\n",
    "### Build artist_name:artist_idx dict from \n",
    "artist_idx = {}\n",
    "for line in open('../GenreModeling/data/vocab_idx'):\n",
    "    line = line.strip().split('\\t')\n",
    "    artist_idx[line[0]] = int(line[1])\n",
    "### Load artist feature matrix\n",
    "features = np.load('../GenreModeling/data/features/lda_artists/features_190.npy')"
   ]
  },
  {
   "cell_type": "code",
   "execution_count": 11,
   "metadata": {
    "collapsed": false
   },
   "outputs": [],
   "source": [
    "### Build artist_id:artist_name and artist_name:artist_idx dicts from database data\n",
    "artist_ids = {}\n",
    "artist_names = {}\n",
    "for line in open('../GenreModeling/data/artist_ids'):\n",
    "    line = line.strip().split('\\t')\n",
    "    artist_ids[int(line[0])] = line[1]\n",
    "    artist_names[line[1]] = int(line[0])\n",
    "    \n",
    "# Lookup function to get features for a given artist ID or artist name\n",
    "def get_features(aid=None,artist_name=None):\n",
    "    if artist_name is None:\n",
    "        artist_name = artist_ids.get(aid)\n",
    "        if not artist_name: \n",
    "            return np.repeat(np.nan,features.shape[1])\n",
    "    return features[artist_idx[artist_name]]\n",
    "\n",
    "# Function for Jensen Shannon Distance (Sqrt of Jensen Shannon Divergence)\n",
    "def JSD(P, Q):\n",
    "    if np.all(np.isnan(P)) or np.all(np.isnan(Q)):\n",
    "        return np.nan\n",
    "    _P = P / norm(P, ord=1)\n",
    "    _Q = Q / norm(Q, ord=1)\n",
    "    _M = 0.5 * (_P + _Q)\n",
    "    return np.sqrt(np.clip(0.5 * (entropy(_P, _M) + entropy(_Q, _M)),0,1))\n",
    "\n",
    "# Function to calculate distance between any two artists \n",
    "def calc_sim(artist1,artist2,metric='cosine'):\n",
    "    if np.isnan(artist1) or np.isnan(artist2):\n",
    "        return np.nan\n",
    "    if artist1==artist2:\n",
    "        return 0.0\n",
    "    features1 = get_features(artist1)\n",
    "    if np.all(np.isnan(features1)): return np.nan\n",
    "    features2 = get_features(artist2)\n",
    "    if np.all(np.isnan(features2)): return np.nan\n",
    "    if metric == 'JSD':\n",
    "        return JSD(features1,features2)\n",
    "    elif metric == 'cosine':\n",
    "        return cosine(features1,features2)\n",
    "    elif metric == 'euclidean':\n",
    "        return sqeuclidean(features1,features2)\n",
    "\n",
    "# for proper formatting of artist names\n",
    "def formatter(s):\n",
    "    if s:\n",
    "        try: return titlecase(unquote_plus(s))\n",
    "        except: return s\n",
    "    return 'UNKNOWN'\n",
    "\n",
    "# Just a clean format for presenting example dataframes \n",
    "def pres_format(input_df):\n",
    "    df = input_df.copy()\n",
    "    df = df[['ts','artist_name','dist']].reset_index(drop=True)\n",
    "    df.columns = ['timestamp','artist','distance']\n",
    "    df['artist'] = df['artist'].apply(formatter)\n",
    "#    df['previous artist'] = df['previous artist'].apply(formatter)\n",
    "    return df"
   ]
  },
  {
   "cell_type": "code",
   "execution_count": 187,
   "metadata": {
    "collapsed": false
   },
   "outputs": [],
   "source": [
    "# All pre-formatting of data\n",
    "new = me.copy()\n",
    "new['artist_idx'] = new['artist_id'].apply(lambda x: artist_idx.get(artist_ids.get(x)))\n",
    "new['before'] = new.shift(1)['artist_id']\n",
    "new['td'] = new['ts']-new.shift(1)['ts']\n",
    "new['td'] = new['td'].astype(int) / 10**9\n",
    "new['artist_name'] = new.apply(lambda row: artist_ids.get(row['artist_id']),axis=1)\n",
    "new['before_name'] = new.shift(1)['artist_name']\n",
    "new = new[['ts','artist_id','before','td','artist_name','before_name']]\n",
    "new['dist'] = new.apply(lambda row: calc_sim(row['artist_id'],row['before']),axis=1)\n",
    "new['features'] = new['artist_name'].apply(lambda a: get_features(artist_name=a))\n",
    "new = new.reset_index(drop=True)"
   ]
  },
  {
   "cell_type": "code",
   "execution_count": 13,
   "metadata": {
    "collapsed": false
   },
   "outputs": [],
   "source": [
    "### Add session index information\n",
    "session_idx = 0\n",
    "session_indices = []\n",
    "for val in new['td']>=SESSION_THRESHOLD:\n",
    "    if val:\n",
    "        session_idx +=1\n",
    "    session_indices.append(session_idx)\n",
    "new['session'] = session_indices\n",
    "\n",
    "### deletes session shorter than MIN_LENGTH\n",
    "#session_counts = new['session'].value_counts()\n",
    "#new = new[new['session'].isin(session_counts[session_counts>=MIN_LENGTH].index)]"
   ]
  },
  {
   "cell_type": "code",
   "execution_count": 14,
   "metadata": {
    "collapsed": true
   },
   "outputs": [],
   "source": [
    "### Get top artist info\n",
    "\n",
    "top_artists = new['artist_id'].value_counts().reset_index()\n",
    "top_artists.columns = ['artist_id','scrobbles']\n",
    "top_artists['artist_name'] = top_artists['artist_id'].apply(lambda x: artist_ids.get(x))\n"
   ]
  },
  {
   "cell_type": "code",
   "execution_count": 15,
   "metadata": {
    "collapsed": false,
    "scrolled": false
   },
   "outputs": [],
   "source": [
    "### If we want to remove sessions with unknown artists (but let's not for now)\n",
    "def remove_sessions_with_unknowns(df):\n",
    "    if df['artist_name'].hasnans:\n",
    "        return None\n",
    "    else:\n",
    "        return df\n",
    "#new = new.groupby('session').apply(remove_sessions_with_unknowns).reset_index(drop=True)\n"
   ]
  },
  {
   "cell_type": "code",
   "execution_count": 16,
   "metadata": {
    "collapsed": false,
    "scrolled": false
   },
   "outputs": [],
   "source": [
    "### Add patch index information\n",
    "def pairwise(iterable):\n",
    "    \"s -> (s0,s1), (s1,s2), (s2, s3), ...\"\n",
    "    a, b = tee(iterable)\n",
    "    next(b, None)\n",
    "    return izip(a, b)\n",
    "\n",
    "s=20\n",
    "dist_thresh = 0.2\n",
    "\n",
    "def patch_segmenter(df,shuffle=True):\n",
    "    l = df['artist_id']\n",
    "    indices = list(np.array([len(list(v)) for g,v in itertools.groupby(l)][:-1]).cumsum())\n",
    "    new_indices = []\n",
    "\n",
    "    for b in indices:\n",
    "        try:\n",
    "            dist = cosine(df.iloc[b]['features'],df.iloc[b-1]['features'])\n",
    "        except ValueError:\n",
    "            dist = 1.\n",
    "        #print b,test.iloc[b-1]['artist_name'],test.iloc[b]['artist_name'],dist\n",
    "        if dist >= dist_thresh:\n",
    "            new_indices.append(b)\n",
    "    \n",
    "    \n",
    "    if new_indices:\n",
    "\n",
    "        last_patch = False\n",
    "        final_indices = []\n",
    "        for i,(a,b) in enumerate(pairwise([0]+new_indices+[len(df)])):\n",
    "            if b-a>=MIN_LENGTH:\n",
    "                final_indices.append(a)\n",
    "                last_patch = True\n",
    "            else:\n",
    "                if last_patch:\n",
    "                    final_indices.append(a)\n",
    "                last_patch = False\n",
    "        \n",
    "        return final_indices,new_indices\n",
    "    return new_indices,new_indices\n",
    "        \n",
    "test = new.copy()\n",
    "indices_shuffle = np.zeros(len(test),dtype=int)\n",
    "indices_simple = np.zeros(len(test),dtype=int)\n",
    "offset_shuffle = 0\n",
    "idx_shuffle=0\n",
    "offset_simple = 0\n",
    "idx_simple=0\n",
    "\n",
    "for session in test.groupby('session'):\n",
    "    result_shuffle,result_simple = patch_segmenter(session[1])\n",
    "    n=len(session[1])\n",
    "    \n",
    "    if len(result_shuffle)==0:\n",
    "        indices_shuffle[offset_shuffle:offset_shuffle+n] = idx_shuffle\n",
    "        idx_shuffle+=1\n",
    "    else:\n",
    "        indices_shuffle[offset_shuffle:offset_shuffle+result_shuffle[0]] = idx_shuffle\n",
    "        idx_shuffle+=1\n",
    "        for v, w in pairwise(result_shuffle):\n",
    "            indices_shuffle[offset_shuffle+v:offset_shuffle+w] = idx_shuffle\n",
    "            idx_shuffle+=1\n",
    "        indices_shuffle[offset_shuffle+result_shuffle[-1]:offset_shuffle+result_shuffle[-1]+n] = idx_shuffle\n",
    "        idx_shuffle+=1\n",
    "    offset_shuffle += n\n",
    "\n",
    "    if len(result_simple)==0:\n",
    "        indices_simple[offset_simple:offset_simple+n] = idx_simple\n",
    "        idx_simple+=1\n",
    "    else:\n",
    "        indices_simple[offset_simple:offset_simple+result_simple[0]] = idx_simple\n",
    "        idx_simple+=1\n",
    "        for v, w in pairwise(result_simple):\n",
    "            indices_simple[offset_simple+v:offset_simple+w] = idx_simple\n",
    "            idx_simple+=1\n",
    "        indices_simple[offset_simple+result_simple[-1]:offset_simple+result_simple[-1]+n] = idx_simple\n",
    "        idx_simple+=1\n",
    "    offset_simple += n\n",
    "\n",
    "\n",
    "    \n",
    "if result_shuffle:\n",
    "    indices_shuffle[offset_shuffle+result_shuffle[-1]:] = idx_shuffle\n",
    "else:\n",
    "    indices_shuffle[offset_shuffle:] = idx_shuffle\n",
    "    \n",
    "if result_simple:\n",
    "    indices_simple[offset_simple+result_simple[-1]:] = idx_simple\n",
    "else:\n",
    "    indices_simple[offset_simple:] = idx_simple\n",
    "\n",
    "test['patch_idx_shuffle'] = indices_shuffle\n",
    "test['patch_idx_simple'] = indices_simple"
   ]
  },
  {
   "cell_type": "code",
   "execution_count": 17,
   "metadata": {
    "collapsed": false
   },
   "outputs": [],
   "source": [
    "# add artist block info\n",
    "### https://stackoverflow.com/questions/14358567/finding-consecutive-segments-in-a-pandas-data-frame\n",
    "\n",
    "test['block'] = (test['artist_id'].shift(1) != test['artist_id']).astype(int).cumsum()\n"
   ]
  },
  {
   "cell_type": "code",
   "execution_count": 322,
   "metadata": {
    "collapsed": false
   },
   "outputs": [
    {
     "name": "stdout",
     "output_type": "stream",
     "text": [
      "time: 4.16 s\n"
     ]
    }
   ],
   "source": [
    "# patch summary data methods\n",
    "\n",
    "def patch_stats(df,agg_stats=True):\n",
    "    first = df.iloc[0]\n",
    "    n = len(df)\n",
    "    start = first['ts']\n",
    "    if agg_stats:\n",
    "        artists = df['artist_id'].values\n",
    "        if (n==1) or (len(df['artist_id'].unique())==1):\n",
    "            centroid = first['features']\n",
    "            if np.any(np.isnan(centroid)):\n",
    "                diversity = np.nan\n",
    "            else:\n",
    "                diversity = 0.\n",
    "        else:\n",
    "            #diversity = (len(df['artist_id'].unique())/float(len(df))) * df['dist'][1:].mean()\n",
    "            features = np.array([get_features(i) for i in df['artist_id']])\n",
    "            centroid = np.nanmean(features,axis=0)\n",
    "            diversity = np.nanmean(pdist(features,metric='cosine'))\n",
    "            #diversity = (((len(df['artist_id'].unique())-1)/float(len(df)-1)) + df['dist'][1:].mean())/2.\n",
    "            #centroid = np.nanmean([get_features(i) for i in df['artist_id']],axis=0)\n",
    "        \n",
    "        return pd.Series({'artists':df['artist_name'].values,'diversity':diversity,'centroid':centroid,'start_ts':start,'n':n})\n",
    "    else:\n",
    "        artist = first['artist_id']\n",
    "        return pd.Series({'start_ts':start,'n':n,'artist_idx':artist})\n",
    "    \n",
    "\n",
    "basis = 'patch_idx_shuffle'\n",
    "#basis = 'block'\n",
    "if basis=='block': agg_stats=False\n",
    "else: agg_stats = True\n",
    "result = test.groupby(basis).apply(patch_stats,agg_stats)#.reset_index(level=1,drop=True)\n",
    "result['start_idx'] = result['n'].cumsum().shift(1).fillna(0).astype(int)\n",
    "    \n",
    "\n"
   ]
  },
  {
   "cell_type": "code",
   "execution_count": 333,
   "metadata": {
    "collapsed": false
   },
   "outputs": [
    {
     "data": {
      "text/html": [
       "<div>\n",
       "<table border=\"1\" class=\"dataframe\">\n",
       "  <thead>\n",
       "    <tr style=\"text-align: right;\">\n",
       "      <th></th>\n",
       "      <th>artists</th>\n",
       "      <th>centroid</th>\n",
       "      <th>diversity</th>\n",
       "      <th>n</th>\n",
       "      <th>start_ts</th>\n",
       "      <th>start_idx</th>\n",
       "      <th>hasnans</th>\n",
       "    </tr>\n",
       "    <tr>\n",
       "      <th>patch_idx_shuffle</th>\n",
       "      <th></th>\n",
       "      <th></th>\n",
       "      <th></th>\n",
       "      <th></th>\n",
       "      <th></th>\n",
       "      <th></th>\n",
       "      <th></th>\n",
       "    </tr>\n",
       "  </thead>\n",
       "  <tbody>\n",
       "    <tr>\n",
       "      <th>0</th>\n",
       "      <td>[queens+of+the+stone+age, lupe+fiasco, black+eyed+peas, aesop+rock, at+the+drive-in, the+beatles, stone+temple+pilots, fatboy+slim, queens+of+the+stone+age, sonic+youth, incubus, the+cure, the+smiths, filter, frou+frou, beck, sigur+r%c3%b3s, the+white+stripes, modest+mouse, fatboy+slim, atmosphe...</td>\n",
       "      <td>[0.00220395499965, 0.00644255506066, 0.00795062232861, 0.0602358277526, 0.00931239083077, 0.00212124853657, 0.000912060163624, 0.00701014326012, 0.00622539380428, 0.00360955458255, 0.000620703006641, 0.00107212178776, 0.0072051818611, 0.00103023098976, 0.00860338324806, 0.0028280875034, 0.005253...</td>\n",
       "      <td>0.730417</td>\n",
       "      <td>69</td>\n",
       "      <td>2007-02-24 22:54:28</td>\n",
       "      <td>0</td>\n",
       "      <td>False</td>\n",
       "    </tr>\n",
       "    <tr>\n",
       "      <th>1</th>\n",
       "      <td>[the+mars+volta, the+mars+volta, the+mars+volta, the+mars+volta, the+mars+volta, the+mars+volta, the+mars+volta, the+mars+volta, the+mars+volta, the+mars+volta, the+mars+volta, the+mars+volta, the+mars+volta, the+mars+volta, the+mars+volta, the+mars+volta]</td>\n",
       "      <td>[5.32254464546e-06, 0.00297989085737, 9.17680111286e-08, 0.0661254776686, 0.00109785742434, 4.40302917395e-05, 0.00889555051235, 0.0821846593728, 0.00104520093955, 0.000942328999075, 0.000139927863369, 9.17680111286e-08, 9.17680111286e-08, 9.17680111286e-08, 4.99585052584e-05, 0.00109227792926, ...</td>\n",
       "      <td>0.000000</td>\n",
       "      <td>16</td>\n",
       "      <td>2007-02-26 07:07:20</td>\n",
       "      <td>69</td>\n",
       "      <td>False</td>\n",
       "    </tr>\n",
       "    <tr>\n",
       "      <th>2</th>\n",
       "      <td>[at+the+drive-in, at+the+drive-in, at+the+drive-in, at+the+drive-in, at+the+drive-in, at+the+drive-in, at+the+drive-in, at+the+drive-in, at+the+drive-in, at+the+drive-in, at+the+drive-in, at+the+drive-in, at+the+drive-in]</td>\n",
       "      <td>[1.79202689245e-07, 0.017360152999, 1.79202689245e-07, 0.0247343795019, 3.58405378489e-06, 0.000491839700901, 0.000271205349903, 0.111559444381, 2.06083092631e-05, 0.000950132658375, 1.79202689245e-07, 1.79202689245e-07, 1.79202689245e-07, 1.79202689245e-07, 0.0121160013414, 2.19702497014e-05, 1...</td>\n",
       "      <td>0.000000</td>\n",
       "      <td>13</td>\n",
       "      <td>2007-02-26 09:01:11</td>\n",
       "      <td>85</td>\n",
       "      <td>False</td>\n",
       "    </tr>\n",
       "    <tr>\n",
       "      <th>3</th>\n",
       "      <td>[system+of+a+down, system+of+a+down, system+of+a+down, system+of+a+down, black+sabbath, radiohead, orbital, the+shins, louis+armstrong, lewis+black, the+offspring, iron+&amp;+wine]</td>\n",
       "      <td>[0.00053988837863, 0.00230712601993, 0.0017630642265, 0.0473314787743, 0.0239609085906, 0.00070462599421, 0.000626210457107, 0.00342837607809, 0.0015253902483, 0.00434602458679, 0.00130260309064, 0.000577528840562, 0.00931453698202, 0.00130360685643, 0.00674372449379, 0.000555670045193, 0.001781...</td>\n",
       "      <td>0.718714</td>\n",
       "      <td>12</td>\n",
       "      <td>2007-02-26 20:55:48</td>\n",
       "      <td>98</td>\n",
       "      <td>False</td>\n",
       "    </tr>\n",
       "    <tr>\n",
       "      <th>4</th>\n",
       "      <td>[tool, tool, tool, tool, tool, tool, tool, tool]</td>\n",
       "      <td>[4.18075798112e-08, 4.18075798112e-08, 6.05708216305e-05, 0.0613921900665, 0.020610409395, 4.18075798112e-08, 0.0259105904102, 0.0484982391233, 0.000203552744585, 4.18075798112e-08, 0.000129996488665, 0.000133014995927, 5.18413989659e-07, 4.18075798112e-08, 0.000190366633912, 3.06031484218e-06, ...</td>\n",
       "      <td>0.000000</td>\n",
       "      <td>8</td>\n",
       "      <td>2007-02-27 04:25:49</td>\n",
       "      <td>110</td>\n",
       "      <td>False</td>\n",
       "    </tr>\n",
       "  </tbody>\n",
       "</table>\n",
       "</div>"
      ],
      "text/plain": [
       "                                                                                                                                                                                                                                                                                                                       artists  \\\n",
       "patch_idx_shuffle                                                                                                                                                                                                                                                                                                                \n",
       "0                  [queens+of+the+stone+age, lupe+fiasco, black+eyed+peas, aesop+rock, at+the+drive-in, the+beatles, stone+temple+pilots, fatboy+slim, queens+of+the+stone+age, sonic+youth, incubus, the+cure, the+smiths, filter, frou+frou, beck, sigur+r%c3%b3s, the+white+stripes, modest+mouse, fatboy+slim, atmosphe...   \n",
       "1                                                             [the+mars+volta, the+mars+volta, the+mars+volta, the+mars+volta, the+mars+volta, the+mars+volta, the+mars+volta, the+mars+volta, the+mars+volta, the+mars+volta, the+mars+volta, the+mars+volta, the+mars+volta, the+mars+volta, the+mars+volta, the+mars+volta]   \n",
       "2                                                                                                [at+the+drive-in, at+the+drive-in, at+the+drive-in, at+the+drive-in, at+the+drive-in, at+the+drive-in, at+the+drive-in, at+the+drive-in, at+the+drive-in, at+the+drive-in, at+the+drive-in, at+the+drive-in, at+the+drive-in]   \n",
       "3                                                                                                                                             [system+of+a+down, system+of+a+down, system+of+a+down, system+of+a+down, black+sabbath, radiohead, orbital, the+shins, louis+armstrong, lewis+black, the+offspring, iron+&+wine]   \n",
       "4                                                                                                                                                                                                                                                                             [tool, tool, tool, tool, tool, tool, tool, tool]   \n",
       "\n",
       "                                                                                                                                                                                                                                                                                                                      centroid  \\\n",
       "patch_idx_shuffle                                                                                                                                                                                                                                                                                                                \n",
       "0                  [0.00220395499965, 0.00644255506066, 0.00795062232861, 0.0602358277526, 0.00931239083077, 0.00212124853657, 0.000912060163624, 0.00701014326012, 0.00622539380428, 0.00360955458255, 0.000620703006641, 0.00107212178776, 0.0072051818611, 0.00103023098976, 0.00860338324806, 0.0028280875034, 0.005253...   \n",
       "1                  [5.32254464546e-06, 0.00297989085737, 9.17680111286e-08, 0.0661254776686, 0.00109785742434, 4.40302917395e-05, 0.00889555051235, 0.0821846593728, 0.00104520093955, 0.000942328999075, 0.000139927863369, 9.17680111286e-08, 9.17680111286e-08, 9.17680111286e-08, 4.99585052584e-05, 0.00109227792926, ...   \n",
       "2                  [1.79202689245e-07, 0.017360152999, 1.79202689245e-07, 0.0247343795019, 3.58405378489e-06, 0.000491839700901, 0.000271205349903, 0.111559444381, 2.06083092631e-05, 0.000950132658375, 1.79202689245e-07, 1.79202689245e-07, 1.79202689245e-07, 1.79202689245e-07, 0.0121160013414, 2.19702497014e-05, 1...   \n",
       "3                  [0.00053988837863, 0.00230712601993, 0.0017630642265, 0.0473314787743, 0.0239609085906, 0.00070462599421, 0.000626210457107, 0.00342837607809, 0.0015253902483, 0.00434602458679, 0.00130260309064, 0.000577528840562, 0.00931453698202, 0.00130360685643, 0.00674372449379, 0.000555670045193, 0.001781...   \n",
       "4                  [4.18075798112e-08, 4.18075798112e-08, 6.05708216305e-05, 0.0613921900665, 0.020610409395, 4.18075798112e-08, 0.0259105904102, 0.0484982391233, 0.000203552744585, 4.18075798112e-08, 0.000129996488665, 0.000133014995927, 5.18413989659e-07, 4.18075798112e-08, 0.000190366633912, 3.06031484218e-06, ...   \n",
       "\n",
       "                   diversity   n             start_ts  start_idx hasnans  \n",
       "patch_idx_shuffle                                                         \n",
       "0                   0.730417  69  2007-02-24 22:54:28          0   False  \n",
       "1                   0.000000  16  2007-02-26 07:07:20         69   False  \n",
       "2                   0.000000  13  2007-02-26 09:01:11         85   False  \n",
       "3                   0.718714  12  2007-02-26 20:55:48         98   False  \n",
       "4                   0.000000   8  2007-02-27 04:25:49        110   False  "
      ]
     },
     "execution_count": 333,
     "metadata": {},
     "output_type": "execute_result"
    },
    {
     "name": "stdout",
     "output_type": "stream",
     "text": [
      "time: 56.1 ms\n"
     ]
    }
   ],
   "source": [
    "result.head()\n",
    "result['hasnans'] = result['centroid'].apply(lambda arr: np.any(np.isnan(arr)))\n",
    "result.head()"
   ]
  },
  {
   "cell_type": "code",
   "execution_count": 110,
   "metadata": {
    "collapsed": false,
    "scrolled": false
   },
   "outputs": [
    {
     "name": "stdout",
     "output_type": "stream",
     "text": [
      "[  2.10942375e-15   2.62132607e-01   3.00786723e-01 ...,   7.78344835e-01\n",
      "   5.35706911e-01   8.26286910e-01]\n"
     ]
    },
    {
     "data": {
      "text/plain": [
       "array(['the+mars+volta', 'the+mars+volta', 'the+mars+volta',\n",
       "       'the+mars+volta', 'the+mars+volta', 'the+mars+volta'], dtype=object)"
      ]
     },
     "execution_count": 110,
     "metadata": {},
     "output_type": "execute_result"
    }
   ],
   "source": [
    "pd.options.display.max_colwidth = 300\n",
    "x = np.array([a for a in result[(result['diversity']<=0.2)&(result['n']>=MIN_LENGTH)]['centroid']])\n",
    "n=3444000.\n",
    "dists=squareform(pairwise_distances(x,metric='cosine'),checks=False)\n",
    "print pairwise_distances(x,metric='cosine')[0]\n",
    "result[(result['diversity']<=0.2)&(result['n']>=MIN_LENGTH)].iloc[1488]['artists']"
   ]
  },
  {
   "cell_type": "code",
   "execution_count": 117,
   "metadata": {
    "collapsed": false,
    "scrolled": false
   },
   "outputs": [
    {
     "data": {
      "text/plain": [
       "[<matplotlib.lines.Line2D at 0x131b36790>]"
      ]
     },
     "execution_count": 117,
     "metadata": {},
     "output_type": "execute_result"
    },
    {
     "data": {
      "image/png": "[encoded data removed]",
      "text/plain": [
       "<matplotlib.figure.Figure at 0x12f6cc810>"
      ]
     },
     "metadata": {},
     "output_type": "display_data"
    }
   ],
   "source": [
    "vals,bins = np.histogram(result[(result['n']>=5)&(result['diversity']>0)]['diversity'],bins = np.arange(0,1.01,0.01))\n",
    "plt.plot(bins[:-1],vals)\n",
    "#plt.gca().set_yscale('log')"
   ]
  },
  {
   "cell_type": "code",
   "execution_count": null,
   "metadata": {
    "collapsed": true
   },
   "outputs": [],
   "source": []
  },
  {
   "cell_type": "code",
   "execution_count": null,
   "metadata": {
    "collapsed": false
   },
   "outputs": [],
   "source": [
    "brks2 = jenks(result[result['n']>=5]['diversity'].dropna(),2)\n",
    "brks3 = jenks(result[result['n']>=5]['diversity'].dropna(),3)\n",
    "print brks2,brks3\n",
    "#ax = seaborn.distplot(result[result['n']>=5]['diversity'].dropna(),norm_hist=False,bins=25)\n",
    "ax = seaborn.distplot(result[(result['n']>=5)&(result['diversity']>0)]['diversity'].dropna(),bins=25)\n",
    "# ax.axvline(brks2[1],c='k',ls='--')\n",
    "# ax.axvline(brks3[1],c='r',ls='--')\n",
    "# ax.axvline(brks3[2],c='r',ls='--')\n",
    "#ax.axvline(brks[2],c='k',ls='--')\n",
    "#ax.set_yscale('log')\n",
    "ax.set_xlim(0,1);\n"
   ]
  },
  {
   "cell_type": "code",
   "execution_count": 239,
   "metadata": {
    "collapsed": false
   },
   "outputs": [
    {
     "data": {
      "text/plain": [
       "<matplotlib.axes._subplots.AxesSubplot at 0x1462aa490>"
      ]
     },
     "execution_count": 239,
     "metadata": {},
     "output_type": "execute_result"
    },
    {
     "data": {
      "image/png": "[encoded data removed]",
      "text/plain": [
       "<matplotlib.figure.Figure at 0x13e7a4c10>"
      ]
     },
     "metadata": {},
     "output_type": "display_data"
    }
   ],
   "source": [
    "#seaborn.distplot(new['dist'][new['dist']>0],norm_hist=False)\n",
    "seaborn.distplot(new['dist'].dropna())"
   ]
  },
  {
   "cell_type": "code",
   "execution_count": 4,
   "metadata": {
    "collapsed": false
   },
   "outputs": [
    {
     "name": "stderr",
     "output_type": "stream",
     "text": [
      "/Users/jaredlorince/anaconda/lib/python2.7/site-packages/ipykernel/__main__.py:4: DeprecationWarning: using a non-integer number instead of an integer will result in an error in the future\n",
      "/Users/jaredlorince/anaconda/lib/python2.7/site-packages/ipykernel/__main__.py:5: DeprecationWarning: using a non-integer number instead of an integer will result in an error in the future\n"
     ]
    }
   ],
   "source": [
    "def calc_dist(idx_1,idx_2,metric='cosine'):\n",
    "    if np.isnan(idx_1) or np.isnan(idx_2):\n",
    "        return np.nan\n",
    "    features1 = features[idx_1]\n",
    "    features2 = features[idx_2]\n",
    "\n",
    "    if metric == 'JSD':\n",
    "        return self.JSD(features1,features2)\n",
    "    elif metric == 'cosine':\n",
    "        return cosine(features1,features2)\n",
    "    elif metric == 'euclidean':\n",
    "        return euclidean(features1,features2)\n",
    "\n",
    "randhop = pd.DataFrame({'a':np.random.randint(0,112312,100000000)})\n",
    "randhop['prev'] = randhop['a'].shift(1)\n",
    "randhop['dist'] = randhop.apply(lambda row: calc_dist(row['a'],row['prev']),axis=1)\n",
    "#seaborn.distplot(randhop['dist'].dropna(),kde=False,norm_hist=False)"
   ]
  },
  {
   "cell_type": "code",
   "execution_count": 541,
   "metadata": {
    "collapsed": false
   },
   "outputs": [
    {
     "name": "stdout",
     "output_type": "stream",
     "text": [
      "time: 2.29 s\n"
     ]
    }
   ],
   "source": [
    "n=100\n",
    "dhash = {}\n",
    "def hash_handler(a,frst):\n",
    "    if frst>a:\n",
    "        frst,a = a,frst\n",
    "    if frst not in dhash:\n",
    "        dhash[frst] = {}\n",
    "        result = calc_sim(frst,a)\n",
    "        dhash[frst][a] = result\n",
    "    else:\n",
    "        result = dhash[frst].get(a)\n",
    "        if result is None:\n",
    "            result = calc_sim(frst,a)\n",
    "            dhash[frst][a] = result\n",
    "\n",
    "    return result\n",
    "\n",
    "def cos_nan(arr1,arr2):\n",
    "    if np.any(np.isnan(arr1)) or np.any(np.isnan(arr2)):\n",
    "        return np.nan\n",
    "    else:\n",
    "        return cosine(arr1,arr2)\n",
    "    \n",
    "\n",
    "method = 'W'\n",
    "\n",
    "### block level\n",
    "if method == 'block':\n",
    "    blocks = test[['artist_id','block']].groupby('block').first()    \n",
    "### listen level\n",
    "if method == 'listens':\n",
    "    blocks = test.copy()\n",
    "### Day / week / month level\n",
    "if method in ('D','W','M'): \n",
    "    #blocks = test[['ts','features']].set_index('ts').resample(method).apply(grouper)\n",
    "    blocks = test.set_index('ts')['features'].resample(method).aggregate(lambda ser: np.nanmean(np.vstack(ser.values),axis=0) if len(ser)>0 else np.repeat(np.nan,190))\n",
    "\n",
    "\n",
    "### RANDOMIZATION\n",
    "idx = np.array(blocks.index)\n",
    "np.random.shuffle(idx)\n",
    "random_blocks = blocks.reindex(idx)\n",
    "\n",
    "new_result = []\n",
    "\n",
    "for i in xrange(len(blocks)-n):\n",
    "        \n",
    "    if method in ('D','W','M'):\n",
    "        first = random_blocks.iloc[i]\n",
    "        new_result.append(np.array(blocks[i+1:i+n+1].apply(lambda val: cos_nan(val,first))))\n",
    "        \n",
    "    else:\n",
    "        first = random_blocks['artist_id'].iloc[i]\n",
    "        new_result.append(np.array(blocks['artist_id'][i+1:i+n+1].apply(lambda val: hash_handler(val,first))))\n",
    "\n",
    "new_result_random = []\n",
    "\n",
    "\n",
    "\n",
    "for i in xrange(len(blocks)-n):\n",
    "    \n",
    "    \n",
    "    \n",
    "    if method in ('D','W','M'):\n",
    "        first = random_blocks.iloc[i]\n",
    "        new_result_random.append(np.array(random_blocks[i+1:i+n+1].apply(lambda val: cos_nan(val,first))))\n",
    "    else:\n",
    "        first = random_blocks['artist_id'].iloc[i]\n",
    "        new_result_random.append(np.array(random_blocks['artist_id'][i+1:i+n+1].apply(lambda val: hash_handler(val,first))))"
   ]
  },
  {
   "cell_type": "code",
   "execution_count": 537,
   "metadata": {
    "collapsed": false
   },
   "outputs": [
    {
     "data": {
      "text/plain": [
       "u'0.18.0'"
      ]
     },
     "execution_count": 537,
     "metadata": {},
     "output_type": "execute_result"
    },
    {
     "name": "stdout",
     "output_type": "stream",
     "text": [
      "time: 22 ms\n"
     ]
    }
   ],
   "source": [
    "def bootstrap(data, num_samples, statistic, alpha=0.05):\n",
    "    \"\"\"Returns bootstrap estimate of 100.0*(1-alpha) CI for statistic.\"\"\"\n",
    "    n = len(data)\n",
    "    idx = np.random.randint(0, n, (num_samples, n))\n",
    "    samples = data[idx]\n",
    "    stat = np.sort(statistic(samples, 1))\n",
    "    return (stat[int((alpha/2.0)*num_samples)],\n",
    "            stat[int((1-alpha/2.0)*num_samples)])\n",
    "pd.__version__"
   ]
  },
  {
   "cell_type": "code",
   "execution_count": 539,
   "metadata": {
    "collapsed": false
   },
   "outputs": [
    {
     "name": "stdout",
     "output_type": "stream",
     "text": [
      "(206, 100) (206, 100)\n",
      "time: 5.77 ms\n"
     ]
    }
   ],
   "source": [
    "result_arr = np.vstack(new_result)\n",
    "result_arr_rand = np.vstack(new_result_random)\n",
    "print result_arr.shape,result_arr_rand.shape\n",
    "#result_arr\n",
    "# ci_lower = []\n",
    "# ci_upper = []\n",
    "# for i in xrange(result_arr.shape[1]):\n",
    "#     #lower,upper = ci(result_arr[:,i],statfunction=np.nanmean,n_samples=1000)\n",
    "#     lower,upper = bootstrap(result_arr[:,i],num_samples=1000,statistic=np.nanmean)\n",
    "#     ci_lower.append(lower)\n",
    "#     ci_upper.append(upper)"
   ]
  },
  {
   "cell_type": "code",
   "execution_count": 540,
   "metadata": {
    "collapsed": false
   },
   "outputs": [
    {
     "data": {
      "text/plain": [
       "<matplotlib.text.Text at 0x150d42f50>"
      ]
     },
     "execution_count": 540,
     "metadata": {},
     "output_type": "execute_result"
    },
    {
     "data": {
      "image/png": "[encoded data removed]",
      "text/plain": [
       "<matplotlib.figure.Figure at 0x172649c10>"
      ]
     },
     "metadata": {},
     "output_type": "display_data"
    },
    {
     "name": "stdout",
     "output_type": "stream",
     "text": [
      "time: 261 ms\n"
     ]
    }
   ],
   "source": [
    "fig,ax = plt.subplots(1,1)\n",
    "ax.plot(np.nanmean(result_arr,0))\n",
    "ax.plot(np.nanmean(result_arr_rand,0),ls='--')\n",
    "#ax.fill_between(xrange(100),ci_lower,ci_upper,alpha=0.5)\n",
    "ax.set_xlabel('Listening blocks (N) since block B_0')\n",
    "ax.set_ylabel('Mean distance between block B_0 and block B+N')"
   ]
  },
  {
   "cell_type": "code",
   "execution_count": 248,
   "metadata": {
    "collapsed": false
   },
   "outputs": [
    {
     "name": "stderr",
     "output_type": "stream",
     "text": [
      "/Users/jaredlorince/anaconda/lib/python2.7/site-packages/ipykernel/__main__.py:1: FutureWarning: how in .resample() is deprecated\n",
      "the new syntax is .resample(...).mean()\n",
      "  if __name__ == '__main__':\n",
      "/Users/jaredlorince/anaconda/lib/python2.7/site-packages/ipykernel/__main__.py:2: FutureWarning: how in .resample() is deprecated\n",
      "the new syntax is .resample(...).mean()\n",
      "  from ipykernel import kernelapp as app\n"
     ]
    },
    {
     "data": {
      "text/plain": [
       "<matplotlib.axes._subplots.AxesSubplot at 0x1539f8710>"
      ]
     },
     "execution_count": 248,
     "metadata": {},
     "output_type": "execute_result"
    },
    {
     "data": {
      "image/png": "[encoded data removed]",
      "text/plain": [
       "<matplotlib.figure.Figure at 0x1474cc890>"
      ]
     },
     "metadata": {},
     "output_type": "display_data"
    },
    {
     "data": {
      "image/png": "[encoded data removed]",
      "text/plain": [
       "<matplotlib.figure.Figure at 0x1539f8f50>"
      ]
     },
     "metadata": {},
     "output_type": "display_data"
    }
   ],
   "source": [
    "test[['ts','dist']].set_index('ts').resample('M',how='mean').plot()\n",
    "test.groupby('block').first()[['ts','dist']].set_index('ts').resample('M',how='mean').plot()"
   ]
  },
  {
   "cell_type": "code",
   "execution_count": 138,
   "metadata": {
    "collapsed": false
   },
   "outputs": [
    {
     "data": {
      "text/html": [
       "<div>\n",
       "<table border=\"1\" class=\"dataframe\">\n",
       "  <thead>\n",
       "    <tr style=\"text-align: right;\">\n",
       "      <th></th>\n",
       "      <th>Artist</th>\n",
       "      <th>Distance</th>\n",
       "      <th>Block_idx</th>\n",
       "      <th>Simple_idx</th>\n",
       "      <th>Shuffle_idx</th>\n",
       "    </tr>\n",
       "  </thead>\n",
       "  <tbody>\n",
       "    <tr>\n",
       "      <th>0</th>\n",
       "      <td>Sufjan Stevens</td>\n",
       "      <td>0.903825</td>\n",
       "      <td>0</td>\n",
       "      <td>0</td>\n",
       "      <td>0</td>\n",
       "    </tr>\n",
       "    <tr>\n",
       "      <th>1</th>\n",
       "      <td>The Offspring</td>\n",
       "      <td>0.974887</td>\n",
       "      <td>1</td>\n",
       "      <td>1</td>\n",
       "      <td>0</td>\n",
       "    </tr>\n",
       "    <tr>\n",
       "      <th>2</th>\n",
       "      <td>Beck</td>\n",
       "      <td>0.764417</td>\n",
       "      <td>2</td>\n",
       "      <td>2</td>\n",
       "      <td>0</td>\n",
       "    </tr>\n",
       "    <tr>\n",
       "      <th>3</th>\n",
       "      <td>Radiohead</td>\n",
       "      <td>0.176106</td>\n",
       "      <td>3</td>\n",
       "      <td>2</td>\n",
       "      <td>0</td>\n",
       "    </tr>\n",
       "    <tr>\n",
       "      <th>4</th>\n",
       "      <td>Sparta</td>\n",
       "      <td>0.746763</td>\n",
       "      <td>4</td>\n",
       "      <td>3</td>\n",
       "      <td>1</td>\n",
       "    </tr>\n",
       "    <tr>\n",
       "      <th>5</th>\n",
       "      <td>At the Drive-In</td>\n",
       "      <td>0.088306</td>\n",
       "      <td>5</td>\n",
       "      <td>3</td>\n",
       "      <td>1</td>\n",
       "    </tr>\n",
       "    <tr>\n",
       "      <th>6</th>\n",
       "      <td>At the Drive-In</td>\n",
       "      <td>0.000000</td>\n",
       "      <td>5</td>\n",
       "      <td>3</td>\n",
       "      <td>1</td>\n",
       "    </tr>\n",
       "    <tr>\n",
       "      <th>7</th>\n",
       "      <td>At the Drive-In</td>\n",
       "      <td>0.000000</td>\n",
       "      <td>5</td>\n",
       "      <td>3</td>\n",
       "      <td>1</td>\n",
       "    </tr>\n",
       "    <tr>\n",
       "      <th>8</th>\n",
       "      <td>At the Drive-In</td>\n",
       "      <td>0.000000</td>\n",
       "      <td>5</td>\n",
       "      <td>3</td>\n",
       "      <td>1</td>\n",
       "    </tr>\n",
       "    <tr>\n",
       "      <th>9</th>\n",
       "      <td>At the Drive-In</td>\n",
       "      <td>0.000000</td>\n",
       "      <td>5</td>\n",
       "      <td>3</td>\n",
       "      <td>1</td>\n",
       "    </tr>\n",
       "    <tr>\n",
       "      <th>10</th>\n",
       "      <td>At the Drive-In</td>\n",
       "      <td>0.000000</td>\n",
       "      <td>5</td>\n",
       "      <td>3</td>\n",
       "      <td>1</td>\n",
       "    </tr>\n",
       "    <tr>\n",
       "      <th>11</th>\n",
       "      <td>At the Drive-In</td>\n",
       "      <td>0.000000</td>\n",
       "      <td>5</td>\n",
       "      <td>3</td>\n",
       "      <td>1</td>\n",
       "    </tr>\n",
       "    <tr>\n",
       "      <th>12</th>\n",
       "      <td>At the Drive-In</td>\n",
       "      <td>0.000000</td>\n",
       "      <td>5</td>\n",
       "      <td>3</td>\n",
       "      <td>1</td>\n",
       "    </tr>\n",
       "    <tr>\n",
       "      <th>13</th>\n",
       "      <td>At the Drive-In</td>\n",
       "      <td>0.000000</td>\n",
       "      <td>5</td>\n",
       "      <td>3</td>\n",
       "      <td>1</td>\n",
       "    </tr>\n",
       "    <tr>\n",
       "      <th>14</th>\n",
       "      <td>At the Drive-In</td>\n",
       "      <td>0.000000</td>\n",
       "      <td>5</td>\n",
       "      <td>3</td>\n",
       "      <td>1</td>\n",
       "    </tr>\n",
       "    <tr>\n",
       "      <th>15</th>\n",
       "      <td>At the Drive-In</td>\n",
       "      <td>0.000000</td>\n",
       "      <td>5</td>\n",
       "      <td>3</td>\n",
       "      <td>1</td>\n",
       "    </tr>\n",
       "    <tr>\n",
       "      <th>16</th>\n",
       "      <td>At the Drive-In</td>\n",
       "      <td>0.000000</td>\n",
       "      <td>5</td>\n",
       "      <td>3</td>\n",
       "      <td>1</td>\n",
       "    </tr>\n",
       "    <tr>\n",
       "      <th>17</th>\n",
       "      <td>At the Drive-In</td>\n",
       "      <td>0.000000</td>\n",
       "      <td>5</td>\n",
       "      <td>3</td>\n",
       "      <td>1</td>\n",
       "    </tr>\n",
       "    <tr>\n",
       "      <th>18</th>\n",
       "      <td>Hollywood Undead</td>\n",
       "      <td>0.916317</td>\n",
       "      <td>6</td>\n",
       "      <td>4</td>\n",
       "      <td>2</td>\n",
       "    </tr>\n",
       "    <tr>\n",
       "      <th>19</th>\n",
       "      <td>Placebo</td>\n",
       "      <td>0.854387</td>\n",
       "      <td>7</td>\n",
       "      <td>5</td>\n",
       "      <td>2</td>\n",
       "    </tr>\n",
       "    <tr>\n",
       "      <th>20</th>\n",
       "      <td>At the Drive-In</td>\n",
       "      <td>0.834327</td>\n",
       "      <td>8</td>\n",
       "      <td>6</td>\n",
       "      <td>3</td>\n",
       "    </tr>\n",
       "    <tr>\n",
       "      <th>21</th>\n",
       "      <td>At the Drive-In</td>\n",
       "      <td>0.000000</td>\n",
       "      <td>8</td>\n",
       "      <td>6</td>\n",
       "      <td>3</td>\n",
       "    </tr>\n",
       "    <tr>\n",
       "      <th>22</th>\n",
       "      <td>At the Drive-In</td>\n",
       "      <td>0.000000</td>\n",
       "      <td>8</td>\n",
       "      <td>6</td>\n",
       "      <td>3</td>\n",
       "    </tr>\n",
       "    <tr>\n",
       "      <th>23</th>\n",
       "      <td>At the Drive-In</td>\n",
       "      <td>0.000000</td>\n",
       "      <td>8</td>\n",
       "      <td>6</td>\n",
       "      <td>3</td>\n",
       "    </tr>\n",
       "    <tr>\n",
       "      <th>24</th>\n",
       "      <td>At the Drive-In</td>\n",
       "      <td>0.000000</td>\n",
       "      <td>8</td>\n",
       "      <td>6</td>\n",
       "      <td>3</td>\n",
       "    </tr>\n",
       "    <tr>\n",
       "      <th>25</th>\n",
       "      <td>At the Drive-In</td>\n",
       "      <td>0.000000</td>\n",
       "      <td>8</td>\n",
       "      <td>6</td>\n",
       "      <td>3</td>\n",
       "    </tr>\n",
       "    <tr>\n",
       "      <th>26</th>\n",
       "      <td>At the Drive-In</td>\n",
       "      <td>0.000000</td>\n",
       "      <td>8</td>\n",
       "      <td>6</td>\n",
       "      <td>3</td>\n",
       "    </tr>\n",
       "    <tr>\n",
       "      <th>27</th>\n",
       "      <td>At the Drive-In</td>\n",
       "      <td>0.000000</td>\n",
       "      <td>8</td>\n",
       "      <td>6</td>\n",
       "      <td>3</td>\n",
       "    </tr>\n",
       "    <tr>\n",
       "      <th>28</th>\n",
       "      <td>At the Drive-In</td>\n",
       "      <td>0.000000</td>\n",
       "      <td>8</td>\n",
       "      <td>6</td>\n",
       "      <td>3</td>\n",
       "    </tr>\n",
       "    <tr>\n",
       "      <th>29</th>\n",
       "      <td>Caetano Veloso</td>\n",
       "      <td>0.979813</td>\n",
       "      <td>9</td>\n",
       "      <td>7</td>\n",
       "      <td>4</td>\n",
       "    </tr>\n",
       "    <tr>\n",
       "      <th>30</th>\n",
       "      <td>Caetano Veloso</td>\n",
       "      <td>0.000000</td>\n",
       "      <td>9</td>\n",
       "      <td>7</td>\n",
       "      <td>4</td>\n",
       "    </tr>\n",
       "    <tr>\n",
       "      <th>31</th>\n",
       "      <td>Caetano Veloso</td>\n",
       "      <td>0.000000</td>\n",
       "      <td>9</td>\n",
       "      <td>7</td>\n",
       "      <td>4</td>\n",
       "    </tr>\n",
       "    <tr>\n",
       "      <th>32</th>\n",
       "      <td>Caetano Veloso</td>\n",
       "      <td>0.000000</td>\n",
       "      <td>9</td>\n",
       "      <td>7</td>\n",
       "      <td>4</td>\n",
       "    </tr>\n",
       "    <tr>\n",
       "      <th>33</th>\n",
       "      <td>Caetano Veloso</td>\n",
       "      <td>0.000000</td>\n",
       "      <td>9</td>\n",
       "      <td>7</td>\n",
       "      <td>4</td>\n",
       "    </tr>\n",
       "    <tr>\n",
       "      <th>34</th>\n",
       "      <td>Caetano Veloso</td>\n",
       "      <td>0.000000</td>\n",
       "      <td>9</td>\n",
       "      <td>7</td>\n",
       "      <td>4</td>\n",
       "    </tr>\n",
       "    <tr>\n",
       "      <th>35</th>\n",
       "      <td>Caetano Veloso</td>\n",
       "      <td>0.000000</td>\n",
       "      <td>9</td>\n",
       "      <td>7</td>\n",
       "      <td>4</td>\n",
       "    </tr>\n",
       "    <tr>\n",
       "      <th>36</th>\n",
       "      <td>Caetano Veloso</td>\n",
       "      <td>0.000000</td>\n",
       "      <td>9</td>\n",
       "      <td>7</td>\n",
       "      <td>4</td>\n",
       "    </tr>\n",
       "    <tr>\n",
       "      <th>37</th>\n",
       "      <td>Caetano Veloso</td>\n",
       "      <td>0.000000</td>\n",
       "      <td>9</td>\n",
       "      <td>7</td>\n",
       "      <td>4</td>\n",
       "    </tr>\n",
       "    <tr>\n",
       "      <th>38</th>\n",
       "      <td>Antonio Carlos Jobim &amp; Elis Regina</td>\n",
       "      <td>0.066404</td>\n",
       "      <td>10</td>\n",
       "      <td>7</td>\n",
       "      <td>4</td>\n",
       "    </tr>\n",
       "    <tr>\n",
       "      <th>39</th>\n",
       "      <td>Antonio Carlos Jobim &amp; Elis Regina</td>\n",
       "      <td>0.000000</td>\n",
       "      <td>10</td>\n",
       "      <td>7</td>\n",
       "      <td>4</td>\n",
       "    </tr>\n",
       "  </tbody>\n",
       "</table>\n",
       "</div>"
      ],
      "text/plain": [
       "                                Artist  Distance  Block_idx  Simple_idx  \\\n",
       "0                       Sufjan Stevens  0.903825          0           0   \n",
       "1                        The Offspring  0.974887          1           1   \n",
       "2                                 Beck  0.764417          2           2   \n",
       "3                            Radiohead  0.176106          3           2   \n",
       "4                               Sparta  0.746763          4           3   \n",
       "5                      At the Drive-In  0.088306          5           3   \n",
       "6                      At the Drive-In  0.000000          5           3   \n",
       "7                      At the Drive-In  0.000000          5           3   \n",
       "8                      At the Drive-In  0.000000          5           3   \n",
       "9                      At the Drive-In  0.000000          5           3   \n",
       "10                     At the Drive-In  0.000000          5           3   \n",
       "11                     At the Drive-In  0.000000          5           3   \n",
       "12                     At the Drive-In  0.000000          5           3   \n",
       "13                     At the Drive-In  0.000000          5           3   \n",
       "14                     At the Drive-In  0.000000          5           3   \n",
       "15                     At the Drive-In  0.000000          5           3   \n",
       "16                     At the Drive-In  0.000000          5           3   \n",
       "17                     At the Drive-In  0.000000          5           3   \n",
       "18                    Hollywood Undead  0.916317          6           4   \n",
       "19                             Placebo  0.854387          7           5   \n",
       "20                     At the Drive-In  0.834327          8           6   \n",
       "21                     At the Drive-In  0.000000          8           6   \n",
       "22                     At the Drive-In  0.000000          8           6   \n",
       "23                     At the Drive-In  0.000000          8           6   \n",
       "24                     At the Drive-In  0.000000          8           6   \n",
       "25                     At the Drive-In  0.000000          8           6   \n",
       "26                     At the Drive-In  0.000000          8           6   \n",
       "27                     At the Drive-In  0.000000          8           6   \n",
       "28                     At the Drive-In  0.000000          8           6   \n",
       "29                      Caetano Veloso  0.979813          9           7   \n",
       "30                      Caetano Veloso  0.000000          9           7   \n",
       "31                      Caetano Veloso  0.000000          9           7   \n",
       "32                      Caetano Veloso  0.000000          9           7   \n",
       "33                      Caetano Veloso  0.000000          9           7   \n",
       "34                      Caetano Veloso  0.000000          9           7   \n",
       "35                      Caetano Veloso  0.000000          9           7   \n",
       "36                      Caetano Veloso  0.000000          9           7   \n",
       "37                      Caetano Veloso  0.000000          9           7   \n",
       "38  Antonio Carlos Jobim & Elis Regina  0.066404         10           7   \n",
       "39  Antonio Carlos Jobim & Elis Regina  0.000000         10           7   \n",
       "\n",
       "    Shuffle_idx  \n",
       "0             0  \n",
       "1             0  \n",
       "2             0  \n",
       "3             0  \n",
       "4             1  \n",
       "5             1  \n",
       "6             1  \n",
       "7             1  \n",
       "8             1  \n",
       "9             1  \n",
       "10            1  \n",
       "11            1  \n",
       "12            1  \n",
       "13            1  \n",
       "14            1  \n",
       "15            1  \n",
       "16            1  \n",
       "17            1  \n",
       "18            2  \n",
       "19            2  \n",
       "20            3  \n",
       "21            3  \n",
       "22            3  \n",
       "23            3  \n",
       "24            3  \n",
       "25            3  \n",
       "26            3  \n",
       "27            3  \n",
       "28            3  \n",
       "29            4  \n",
       "30            4  \n",
       "31            4  \n",
       "32            4  \n",
       "33            4  \n",
       "34            4  \n",
       "35            4  \n",
       "36            4  \n",
       "37            4  \n",
       "38            4  \n",
       "39            4  "
      ]
     },
     "execution_count": 138,
     "metadata": {},
     "output_type": "execute_result"
    }
   ],
   "source": [
    "pr = test[['artist_name','dist','block','patch_idx_shuffle','patch_idx_simple']][215:255].copy()\n",
    "pr['artist_name'] = pr['artist_name'].apply(formatter)\n",
    "#print pr.to_string(index=False)\n",
    "pr['block'] = pr['block']-144\n",
    "pr['patch_idx_shuffle'] = pr['patch_idx_shuffle']-8\n",
    "pr['patch_idx_simple'] = pr['patch_idx_simple']-138\n",
    "pr.columns = [['Artist','Distance','Block_idx','Shuffle_idx','Simple_idx']]\n",
    "pr.reset_index(drop=True)[['Artist','Distance','Block_idx','Simple_idx','Shuffle_idx']]"
   ]
  },
  {
   "cell_type": "code",
   "execution_count": 240,
   "metadata": {
    "collapsed": false
   },
   "outputs": [],
   "source": [
    "def grouper(ser):\n",
    "    if len(ser)<=1:\n",
    "        return 0\n",
    "    else:\n",
    "        return pdist([a for a in ser]).mean()\n",
    "div = test.dropna(subset=['artist_idx']).set_index('ts')['features'].resample('M').apply(grouper)\n",
    "cnts = test.dropna(subset=['artist_idx']).set_index('ts')['features'].resample('M').count()\n"
   ]
  },
  {
   "cell_type": "code",
   "execution_count": 237,
   "metadata": {
    "collapsed": false
   },
   "outputs": [],
   "source": [
    "centroids = test.dropna(subset=['artist_idx']).set_index('ts')['features'].resample('W').apply(np.mean,axis=0)\n",
    "centroids = pd.DataFrame({'centroid':centroids})\n",
    "centroids['prev'] = centroids.shift(1)\n",
    "centroid_dists = centroids.dropna().apply(lambda row: cosine(row['centroid'],row['prev']),axis=1)"
   ]
  },
  {
   "cell_type": "code",
   "execution_count": 242,
   "metadata": {
    "collapsed": false
   },
   "outputs": [
    {
     "data": {
      "text/plain": [
       "<matplotlib.axes._subplots.AxesSubplot at 0x14011f390>"
      ]
     },
     "execution_count": 242,
     "metadata": {},
     "output_type": "execute_result"
    },
    {
     "data": {
      "image/png": "[encoded data removed]",
      "text/plain": [
       "<matplotlib.figure.Figure at 0x13fbe2810>"
      ]
     },
     "metadata": {},
     "output_type": "display_data"
    }
   ],
   "source": [
    "fig,ax = plt.subplots(1,1)\n",
    "div.plot(ax=ax)\n",
    "#centroid_dists.plot(ax=ax)"
   ]
  },
  {
   "cell_type": "code",
   "execution_count": 347,
   "metadata": {
    "collapsed": false
   },
   "outputs": [
    {
     "data": {
      "text/plain": [
       "147"
      ]
     },
     "execution_count": 347,
     "metadata": {},
     "output_type": "execute_result"
    },
    {
     "name": "stdout",
     "output_type": "stream",
     "text": [
      "time: 4.43 ms\n"
     ]
    }
   ],
   "source": [
    "artist_idx['pantera']"
   ]
  },
  {
   "cell_type": "code",
   "execution_count": null,
   "metadata": {
    "collapsed": true
   },
   "outputs": [],
   "source": []
  }
 ],
 "metadata": {
  "kernelspec": {
   "display_name": "Python 2",
   "language": "python",
   "name": "python2"
  },
  "language_info": {
   "codemirror_mode": {
    "name": "ipython",
    "version": 2
   },
   "file_extension": ".py",
   "mimetype": "text/x-python",
   "name": "python",
   "nbconvert_exporter": "python",
   "pygments_lexer": "ipython2",
   "version": "2.7.11"
  }
 },
 "nbformat": 4,
 "nbformat_minor": 0
}
