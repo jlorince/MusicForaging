{
 "cells": [
  {
   "cell_type": "code",
   "execution_count": 296,
   "metadata": {
    "collapsed": false
   },
   "outputs": [
    {
     "name": "stderr",
     "output_type": "stream",
     "text": [
      "/Users/jaredlorince/anaconda/lib/python2.7/site-packages/IPython/core/magics/extension.py:47: UserWarning: %install_ext` is deprecated, please distribute your extension as a python package.\n",
      "  \"as a python package.\", UserWarning)\n"
     ]
    },
    {
     "name": "stdout",
     "output_type": "stream",
     "text": [
      "Installed autotime.py. To use it, type:\n",
      "  %load_ext autotime\n"
     ]
    }
   ],
   "source": [
    "import pandas as pd\n",
    "import graphlab as gl\n",
    "import numpy as np\n",
    "from IPython.core.display import display\n",
    "from scipy.spatial.distance import cosine,euclidean,pdist,squareform,sqeuclidean\n",
    "from sklearn.metrics.pairwise import pairwise_distances\n",
    "from matplotlib import pyplot as plt\n",
    "%matplotlib inline\n",
    "from scipy.stats import entropy\n",
    "from numpy.linalg import norm\n",
    "from jenks import jenks\n",
    "from itertools import chain,tee, izip\n",
    "from urllib import unquote_plus\n",
    "from titlecase import titlecase\n",
    "from itertools import combinations\n",
    "import itertools\n",
    "import seaborn\n",
    "from scikits.bootstrap import ci\n",
    "import pyclust\n",
    "\n",
    "%install_ext https://raw.github.com/cpcloud/ipython-autotime/master/autotime.py\n",
    "%load_ext autotime"
   ]
  },
  {
   "cell_type": "code",
   "execution_count": 297,
   "metadata": {
    "collapsed": false
   },
   "outputs": [
    {
     "name": "stdout",
     "output_type": "stream",
     "text": [
      "time: 1.25 ms\n"
     ]
    }
   ],
   "source": [
    "# GLOBAL PARAMS\n",
    "SESSION_THRESHOLD = 99e99 # 30 minutes\n",
    "MIN_LENGTH = 5 # Minimum number of scrobbles in a patch"
   ]
  },
  {
   "cell_type": "code",
   "execution_count": 10,
   "metadata": {
    "collapsed": false
   },
   "outputs": [],
   "source": [
    "### Load some example data\n",
    "fi = \"../testData/mylistening.txt\"\n",
    "#fi = \"../testData/test_listening_data.tsv\"\n",
    "me = pd.read_table(fi,header=None,\n",
    "            names=['user_id','item_id','artist_id','ts'],parse_dates=['ts']).sort_values(by='ts')\n",
    "### Build artist_name:artist_idx dict from \n",
    "artist_idx = {}\n",
    "for line in open('../GenreModeling/data/vocab_idx'):\n",
    "    line = line.strip().split('\\t')\n",
    "    artist_idx[line[0]] = int(line[1])\n",
    "### Load artist feature matrix\n",
    "features = np.load('../GenreModeling/data/features/lda_artists/features_190.npy')"
   ]
  },
  {
   "cell_type": "code",
   "execution_count": 11,
   "metadata": {
    "collapsed": false
   },
   "outputs": [],
   "source": [
    "### Build artist_id:artist_name and artist_name:artist_idx dicts from database data\n",
    "artist_ids = {}\n",
    "artist_names = {}\n",
    "for line in open('../GenreModeling/data/artist_ids'):\n",
    "    line = line.strip().split('\\t')\n",
    "    artist_ids[int(line[0])] = line[1]\n",
    "    artist_names[line[1]] = int(line[0])\n",
    "    \n",
    "# Lookup function to get features for a given artist ID or artist name\n",
    "def get_features(aid=None,artist_name=None):\n",
    "    if artist_name is None:\n",
    "        artist_name = artist_ids.get(aid)\n",
    "        if not artist_name: \n",
    "            return np.repeat(np.nan,features.shape[1])\n",
    "    return features[artist_idx[artist_name]]\n",
    "\n",
    "# Function for Jensen Shannon Distance (Sqrt of Jensen Shannon Divergence)\n",
    "def JSD(P, Q):\n",
    "    if np.all(np.isnan(P)) or np.all(np.isnan(Q)):\n",
    "        return np.nan\n",
    "    _P = P / norm(P, ord=1)\n",
    "    _Q = Q / norm(Q, ord=1)\n",
    "    _M = 0.5 * (_P + _Q)\n",
    "    return np.sqrt(np.clip(0.5 * (entropy(_P, _M) + entropy(_Q, _M)),0,1))\n",
    "\n",
    "# Function to calculate distance between any two artists \n",
    "def calc_sim(artist1,artist2,metric='cosine'):\n",
    "    if np.isnan(artist1) or np.isnan(artist2):\n",
    "        return np.nan\n",
    "    if artist1==artist2:\n",
    "        return 0.0\n",
    "    features1 = get_features(artist1)\n",
    "    if np.all(np.isnan(features1)): return np.nan\n",
    "    features2 = get_features(artist2)\n",
    "    if np.all(np.isnan(features2)): return np.nan\n",
    "    if metric == 'JSD':\n",
    "        return JSD(features1,features2)\n",
    "    elif metric == 'cosine':\n",
    "        return cosine(features1,features2)\n",
    "    elif metric == 'euclidean':\n",
    "        return sqeuclidean(features1,features2)\n",
    "\n",
    "# for proper formatting of artist names\n",
    "def formatter(s):\n",
    "    if s:\n",
    "        try: return titlecase(unquote_plus(s))\n",
    "        except: return s\n",
    "    return 'UNKNOWN'\n",
    "\n",
    "# Just a clean format for presenting example dataframes \n",
    "def pres_format(input_df):\n",
    "    df = input_df.copy()\n",
    "    df = df[['ts','artist_name','dist']].reset_index(drop=True)\n",
    "    df.columns = ['timestamp','artist','distance']\n",
    "    df['artist'] = df['artist'].apply(formatter)\n",
    "#    df['previous artist'] = df['previous artist'].apply(formatter)\n",
    "    return df"
   ]
  },
  {
   "cell_type": "code",
   "execution_count": 187,
   "metadata": {
    "collapsed": false
   },
   "outputs": [],
   "source": [
    "# All pre-formatting of data\n",
    "new = me.copy()\n",
    "new['artist_idx'] = new['artist_id'].apply(lambda x: artist_idx.get(artist_ids.get(x)))\n",
    "new['before'] = new.shift(1)['artist_id']\n",
    "new['td'] = new['ts']-new.shift(1)['ts']\n",
    "new['td'] = new['td'].astype(int) / 10**9\n",
    "new['artist_name'] = new.apply(lambda row: artist_ids.get(row['artist_id']),axis=1)\n",
    "new['before_name'] = new.shift(1)['artist_name']\n",
    "new = new[['ts','artist_id','before','td','artist_name','before_name']]\n",
    "new['dist'] = new.apply(lambda row: calc_sim(row['artist_id'],row['before']),axis=1)\n",
    "new['features'] = new['artist_name'].apply(lambda a: get_features(artist_name=a))\n",
    "new = new.reset_index(drop=True)"
   ]
  },
  {
   "cell_type": "code",
   "execution_count": 13,
   "metadata": {
    "collapsed": false
   },
   "outputs": [],
   "source": [
    "### Add session index information\n",
    "session_idx = 0\n",
    "session_indices = []\n",
    "for val in new['td']>=SESSION_THRESHOLD:\n",
    "    if val:\n",
    "        session_idx +=1\n",
    "    session_indices.append(session_idx)\n",
    "new['session'] = session_indices\n",
    "\n",
    "### deletes session shorter than MIN_LENGTH\n",
    "#session_counts = new['session'].value_counts()\n",
    "#new = new[new['session'].isin(session_counts[session_counts>=MIN_LENGTH].index)]"
   ]
  },
  {
   "cell_type": "code",
   "execution_count": 14,
   "metadata": {
    "collapsed": true
   },
   "outputs": [],
   "source": [
    "### Get top artist info\n",
    "\n",
    "top_artists = new['artist_id'].value_counts().reset_index()\n",
    "top_artists.columns = ['artist_id','scrobbles']\n",
    "top_artists['artist_name'] = top_artists['artist_id'].apply(lambda x: artist_ids.get(x))\n"
   ]
  },
  {
   "cell_type": "code",
   "execution_count": 15,
   "metadata": {
    "collapsed": false,
    "scrolled": false
   },
   "outputs": [],
   "source": [
    "### If we want to remove sessions with unknown artists (but let's not for now)\n",
    "def remove_sessions_with_unknowns(df):\n",
    "    if df['artist_name'].hasnans:\n",
    "        return None\n",
    "    else:\n",
    "        return df\n",
    "#new = new.groupby('session').apply(remove_sessions_with_unknowns).reset_index(drop=True)\n"
   ]
  },
  {
   "cell_type": "code",
   "execution_count": 16,
   "metadata": {
    "collapsed": false,
    "scrolled": false
   },
   "outputs": [],
   "source": [
    "### Add patch index information\n",
    "def pairwise(iterable):\n",
    "    \"s -> (s0,s1), (s1,s2), (s2, s3), ...\"\n",
    "    a, b = tee(iterable)\n",
    "    next(b, None)\n",
    "    return izip(a, b)\n",
    "\n",
    "s=20\n",
    "dist_thresh = 0.2\n",
    "\n",
    "def patch_segmenter(df,shuffle=True):\n",
    "    l = df['artist_id']\n",
    "    indices = list(np.array([len(list(v)) for g,v in itertools.groupby(l)][:-1]).cumsum())\n",
    "    new_indices = []\n",
    "\n",
    "    for b in indices:\n",
    "        try:\n",
    "            dist = cosine(df.iloc[b]['features'],df.iloc[b-1]['features'])\n",
    "        except ValueError:\n",
    "            dist = 1.\n",
    "        #print b,test.iloc[b-1]['artist_name'],test.iloc[b]['artist_name'],dist\n",
    "        if dist >= dist_thresh:\n",
    "            new_indices.append(b)\n",
    "    \n",
    "    \n",
    "    if new_indices:\n",
    "\n",
    "        last_patch = False\n",
    "        final_indices = []\n",
    "        for i,(a,b) in enumerate(pairwise([0]+new_indices+[len(df)])):\n",
    "            if b-a>=MIN_LENGTH:\n",
    "                final_indices.append(a)\n",
    "                last_patch = True\n",
    "            else:\n",
    "                if last_patch:\n",
    "                    final_indices.append(a)\n",
    "                last_patch = False\n",
    "        \n",
    "        return final_indices,new_indices\n",
    "    return new_indices,new_indices\n",
    "        \n",
    "test = new.copy()\n",
    "indices_shuffle = np.zeros(len(test),dtype=int)\n",
    "indices_simple = np.zeros(len(test),dtype=int)\n",
    "offset_shuffle = 0\n",
    "idx_shuffle=0\n",
    "offset_simple = 0\n",
    "idx_simple=0\n",
    "\n",
    "for session in test.groupby('session'):\n",
    "    result_shuffle,result_simple = patch_segmenter(session[1])\n",
    "    n=len(session[1])\n",
    "    \n",
    "    if len(result_shuffle)==0:\n",
    "        indices_shuffle[offset_shuffle:offset_shuffle+n] = idx_shuffle\n",
    "        idx_shuffle+=1\n",
    "    else:\n",
    "        indices_shuffle[offset_shuffle:offset_shuffle+result_shuffle[0]] = idx_shuffle\n",
    "        idx_shuffle+=1\n",
    "        for v, w in pairwise(result_shuffle):\n",
    "            indices_shuffle[offset_shuffle+v:offset_shuffle+w] = idx_shuffle\n",
    "            idx_shuffle+=1\n",
    "        indices_shuffle[offset_shuffle+result_shuffle[-1]:offset_shuffle+result_shuffle[-1]+n] = idx_shuffle\n",
    "        idx_shuffle+=1\n",
    "    offset_shuffle += n\n",
    "\n",
    "    if len(result_simple)==0:\n",
    "        indices_simple[offset_simple:offset_simple+n] = idx_simple\n",
    "        idx_simple+=1\n",
    "    else:\n",
    "        indices_simple[offset_simple:offset_simple+result_simple[0]] = idx_simple\n",
    "        idx_simple+=1\n",
    "        for v, w in pairwise(result_simple):\n",
    "            indices_simple[offset_simple+v:offset_simple+w] = idx_simple\n",
    "            idx_simple+=1\n",
    "        indices_simple[offset_simple+result_simple[-1]:offset_simple+result_simple[-1]+n] = idx_simple\n",
    "        idx_simple+=1\n",
    "    offset_simple += n\n",
    "\n",
    "\n",
    "    \n",
    "if result_shuffle:\n",
    "    indices_shuffle[offset_shuffle+result_shuffle[-1]:] = idx_shuffle\n",
    "else:\n",
    "    indices_shuffle[offset_shuffle:] = idx_shuffle\n",
    "    \n",
    "if result_simple:\n",
    "    indices_simple[offset_simple+result_simple[-1]:] = idx_simple\n",
    "else:\n",
    "    indices_simple[offset_simple:] = idx_simple\n",
    "\n",
    "test['patch_idx_shuffle'] = indices_shuffle\n",
    "test['patch_idx_simple'] = indices_simple"
   ]
  },
  {
   "cell_type": "code",
   "execution_count": 17,
   "metadata": {
    "collapsed": false
   },
   "outputs": [],
   "source": [
    "# add artist block info\n",
    "### https://stackoverflow.com/questions/14358567/finding-consecutive-segments-in-a-pandas-data-frame\n",
    "\n",
    "test['block'] = (test['artist_id'].shift(1) != test['artist_id']).astype(int).cumsum()\n"
   ]
  },
  {
   "cell_type": "code",
   "execution_count": 322,
   "metadata": {
    "collapsed": false
   },
   "outputs": [
    {
     "name": "stdout",
     "output_type": "stream",
     "text": [
      "time: 4.16 s\n"
     ]
    }
   ],
   "source": [
    "# patch summary data methods\n",
    "\n",
    "def patch_stats(df,agg_stats=True):\n",
    "    first = df.iloc[0]\n",
    "    n = len(df)\n",
    "    start = first['ts']\n",
    "    if agg_stats:\n",
    "        artists = df['artist_id'].values\n",
    "        if (n==1) or (len(df['artist_id'].unique())==1):\n",
    "            centroid = first['features']\n",
    "            if np.any(np.isnan(centroid)):\n",
    "                diversity = np.nan\n",
    "            else:\n",
    "                diversity = 0.\n",
    "        else:\n",
    "            #diversity = (len(df['artist_id'].unique())/float(len(df))) * df['dist'][1:].mean()\n",
    "            features = np.array([get_features(i) for i in df['artist_id']])\n",
    "            centroid = np.nanmean(features,axis=0)\n",
    "            diversity = np.nanmean(pdist(features,metric='cosine'))\n",
    "            #diversity = (((len(df['artist_id'].unique())-1)/float(len(df)-1)) + df['dist'][1:].mean())/2.\n",
    "            #centroid = np.nanmean([get_features(i) for i in df['artist_id']],axis=0)\n",
    "        \n",
    "        return pd.Series({'artists':df['artist_name'].values,'diversity':diversity,'centroid':centroid,'start_ts':start,'n':n})\n",
    "    else:\n",
    "        artist = first['artist_id']\n",
    "        return pd.Series({'start_ts':start,'n':n,'artist_idx':artist})\n",
    "    \n",
    "\n",
    "basis = 'patch_idx_shuffle'\n",
    "#basis = 'block'\n",
    "if basis=='block': agg_stats=False\n",
    "else: agg_stats = True\n",
    "result = test.groupby(basis).apply(patch_stats,agg_stats)#.reset_index(level=1,drop=True)\n",
    "result['start_idx'] = result['n'].cumsum().shift(1).fillna(0).astype(int)\n",
    "    \n",
    "\n"
   ]
  },
  {
   "cell_type": "code",
   "execution_count": 333,
   "metadata": {
    "collapsed": false
   },
   "outputs": [
    {
     "data": {
      "text/html": [
       "<div>\n",
       "<table border=\"1\" class=\"dataframe\">\n",
       "  <thead>\n",
       "    <tr style=\"text-align: right;\">\n",
       "      <th></th>\n",
       "      <th>artists</th>\n",
       "      <th>centroid</th>\n",
       "      <th>diversity</th>\n",
       "      <th>n</th>\n",
       "      <th>start_ts</th>\n",
       "      <th>start_idx</th>\n",
       "      <th>hasnans</th>\n",
       "    </tr>\n",
       "    <tr>\n",
       "      <th>patch_idx_shuffle</th>\n",
       "      <th></th>\n",
       "      <th></th>\n",
       "      <th></th>\n",
       "      <th></th>\n",
       "      <th></th>\n",
       "      <th></th>\n",
       "      <th></th>\n",
       "    </tr>\n",
       "  </thead>\n",
       "  <tbody>\n",
       "    <tr>\n",
       "      <th>0</th>\n",
       "      <td>[queens+of+the+stone+age, lupe+fiasco, black+eyed+peas, aesop+rock, at+the+drive-in, the+beatles, stone+temple+pilots, fatboy+slim, queens+of+the+stone+age, sonic+youth, incubus, the+cure, the+smiths, filter, frou+frou, beck, sigur+r%c3%b3s, the+white+stripes, modest+mouse, fatboy+slim, atmosphe...</td>\n",
       "      <td>[0.00220395499965, 0.00644255506066, 0.00795062232861, 0.0602358277526, 0.00931239083077, 0.00212124853657, 0.000912060163624, 0.00701014326012, 0.00622539380428, 0.00360955458255, 0.000620703006641, 0.00107212178776, 0.0072051818611, 0.00103023098976, 0.00860338324806, 0.0028280875034, 0.005253...</td>\n",
       "      <td>0.730417</td>\n",
       "      <td>69</td>\n",
       "      <td>2007-02-24 22:54:28</td>\n",
       "      <td>0</td>\n",
       "      <td>False</td>\n",
       "    </tr>\n",
       "    <tr>\n",
       "      <th>1</th>\n",
       "      <td>[the+mars+volta, the+mars+volta, the+mars+volta, the+mars+volta, the+mars+volta, the+mars+volta, the+mars+volta, the+mars+volta, the+mars+volta, the+mars+volta, the+mars+volta, the+mars+volta, the+mars+volta, the+mars+volta, the+mars+volta, the+mars+volta]</td>\n",
       "      <td>[5.32254464546e-06, 0.00297989085737, 9.17680111286e-08, 0.0661254776686, 0.00109785742434, 4.40302917395e-05, 0.00889555051235, 0.0821846593728, 0.00104520093955, 0.000942328999075, 0.000139927863369, 9.17680111286e-08, 9.17680111286e-08, 9.17680111286e-08, 4.99585052584e-05, 0.00109227792926, ...</td>\n",
       "      <td>0.000000</td>\n",
       "      <td>16</td>\n",
       "      <td>2007-02-26 07:07:20</td>\n",
       "      <td>69</td>\n",
       "      <td>False</td>\n",
       "    </tr>\n",
       "    <tr>\n",
       "      <th>2</th>\n",
       "      <td>[at+the+drive-in, at+the+drive-in, at+the+drive-in, at+the+drive-in, at+the+drive-in, at+the+drive-in, at+the+drive-in, at+the+drive-in, at+the+drive-in, at+the+drive-in, at+the+drive-in, at+the+drive-in, at+the+drive-in]</td>\n",
       "      <td>[1.79202689245e-07, 0.017360152999, 1.79202689245e-07, 0.0247343795019, 3.58405378489e-06, 0.000491839700901, 0.000271205349903, 0.111559444381, 2.06083092631e-05, 0.000950132658375, 1.79202689245e-07, 1.79202689245e-07, 1.79202689245e-07, 1.79202689245e-07, 0.0121160013414, 2.19702497014e-05, 1...</td>\n",
       "      <td>0.000000</td>\n",
       "      <td>13</td>\n",
       "      <td>2007-02-26 09:01:11</td>\n",
       "      <td>85</td>\n",
       "      <td>False</td>\n",
       "    </tr>\n",
       "    <tr>\n",
       "      <th>3</th>\n",
       "      <td>[system+of+a+down, system+of+a+down, system+of+a+down, system+of+a+down, black+sabbath, radiohead, orbital, the+shins, louis+armstrong, lewis+black, the+offspring, iron+&amp;+wine]</td>\n",
       "      <td>[0.00053988837863, 0.00230712601993, 0.0017630642265, 0.0473314787743, 0.0239609085906, 0.00070462599421, 0.000626210457107, 0.00342837607809, 0.0015253902483, 0.00434602458679, 0.00130260309064, 0.000577528840562, 0.00931453698202, 0.00130360685643, 0.00674372449379, 0.000555670045193, 0.001781...</td>\n",
       "      <td>0.718714</td>\n",
       "      <td>12</td>\n",
       "      <td>2007-02-26 20:55:48</td>\n",
       "      <td>98</td>\n",
       "      <td>False</td>\n",
       "    </tr>\n",
       "    <tr>\n",
       "      <th>4</th>\n",
       "      <td>[tool, tool, tool, tool, tool, tool, tool, tool]</td>\n",
       "      <td>[4.18075798112e-08, 4.18075798112e-08, 6.05708216305e-05, 0.0613921900665, 0.020610409395, 4.18075798112e-08, 0.0259105904102, 0.0484982391233, 0.000203552744585, 4.18075798112e-08, 0.000129996488665, 0.000133014995927, 5.18413989659e-07, 4.18075798112e-08, 0.000190366633912, 3.06031484218e-06, ...</td>\n",
       "      <td>0.000000</td>\n",
       "      <td>8</td>\n",
       "      <td>2007-02-27 04:25:49</td>\n",
       "      <td>110</td>\n",
       "      <td>False</td>\n",
       "    </tr>\n",
       "  </tbody>\n",
       "</table>\n",
       "</div>"
      ],
      "text/plain": [
       "                                                                                                                                                                                                                                                                                                                       artists  \\\n",
       "patch_idx_shuffle                                                                                                                                                                                                                                                                                                                \n",
       "0                  [queens+of+the+stone+age, lupe+fiasco, black+eyed+peas, aesop+rock, at+the+drive-in, the+beatles, stone+temple+pilots, fatboy+slim, queens+of+the+stone+age, sonic+youth, incubus, the+cure, the+smiths, filter, frou+frou, beck, sigur+r%c3%b3s, the+white+stripes, modest+mouse, fatboy+slim, atmosphe...   \n",
       "1                                                             [the+mars+volta, the+mars+volta, the+mars+volta, the+mars+volta, the+mars+volta, the+mars+volta, the+mars+volta, the+mars+volta, the+mars+volta, the+mars+volta, the+mars+volta, the+mars+volta, the+mars+volta, the+mars+volta, the+mars+volta, the+mars+volta]   \n",
       "2                                                                                                [at+the+drive-in, at+the+drive-in, at+the+drive-in, at+the+drive-in, at+the+drive-in, at+the+drive-in, at+the+drive-in, at+the+drive-in, at+the+drive-in, at+the+drive-in, at+the+drive-in, at+the+drive-in, at+the+drive-in]   \n",
       "3                                                                                                                                             [system+of+a+down, system+of+a+down, system+of+a+down, system+of+a+down, black+sabbath, radiohead, orbital, the+shins, louis+armstrong, lewis+black, the+offspring, iron+&+wine]   \n",
       "4                                                                                                                                                                                                                                                                             [tool, tool, tool, tool, tool, tool, tool, tool]   \n",
       "\n",
       "                                                                                                                                                                                                                                                                                                                      centroid  \\\n",
       "patch_idx_shuffle                                                                                                                                                                                                                                                                                                                \n",
       "0                  [0.00220395499965, 0.00644255506066, 0.00795062232861, 0.0602358277526, 0.00931239083077, 0.00212124853657, 0.000912060163624, 0.00701014326012, 0.00622539380428, 0.00360955458255, 0.000620703006641, 0.00107212178776, 0.0072051818611, 0.00103023098976, 0.00860338324806, 0.0028280875034, 0.005253...   \n",
       "1                  [5.32254464546e-06, 0.00297989085737, 9.17680111286e-08, 0.0661254776686, 0.00109785742434, 4.40302917395e-05, 0.00889555051235, 0.0821846593728, 0.00104520093955, 0.000942328999075, 0.000139927863369, 9.17680111286e-08, 9.17680111286e-08, 9.17680111286e-08, 4.99585052584e-05, 0.00109227792926, ...   \n",
       "2                  [1.79202689245e-07, 0.017360152999, 1.79202689245e-07, 0.0247343795019, 3.58405378489e-06, 0.000491839700901, 0.000271205349903, 0.111559444381, 2.06083092631e-05, 0.000950132658375, 1.79202689245e-07, 1.79202689245e-07, 1.79202689245e-07, 1.79202689245e-07, 0.0121160013414, 2.19702497014e-05, 1...   \n",
       "3                  [0.00053988837863, 0.00230712601993, 0.0017630642265, 0.0473314787743, 0.0239609085906, 0.00070462599421, 0.000626210457107, 0.00342837607809, 0.0015253902483, 0.00434602458679, 0.00130260309064, 0.000577528840562, 0.00931453698202, 0.00130360685643, 0.00674372449379, 0.000555670045193, 0.001781...   \n",
       "4                  [4.18075798112e-08, 4.18075798112e-08, 6.05708216305e-05, 0.0613921900665, 0.020610409395, 4.18075798112e-08, 0.0259105904102, 0.0484982391233, 0.000203552744585, 4.18075798112e-08, 0.000129996488665, 0.000133014995927, 5.18413989659e-07, 4.18075798112e-08, 0.000190366633912, 3.06031484218e-06, ...   \n",
       "\n",
       "                   diversity   n             start_ts  start_idx hasnans  \n",
       "patch_idx_shuffle                                                         \n",
       "0                   0.730417  69  2007-02-24 22:54:28          0   False  \n",
       "1                   0.000000  16  2007-02-26 07:07:20         69   False  \n",
       "2                   0.000000  13  2007-02-26 09:01:11         85   False  \n",
       "3                   0.718714  12  2007-02-26 20:55:48         98   False  \n",
       "4                   0.000000   8  2007-02-27 04:25:49        110   False  "
      ]
     },
     "execution_count": 333,
     "metadata": {},
     "output_type": "execute_result"
    },
    {
     "name": "stdout",
     "output_type": "stream",
     "text": [
      "time: 56.1 ms\n"
     ]
    }
   ],
   "source": [
    "result.head()\n",
    "result['hasnans'] = result['centroid'].apply(lambda arr: np.any(np.isnan(arr)))\n",
    "result.head()"
   ]
  },
  {
   "cell_type": "code",
   "execution_count": 110,
   "metadata": {
    "collapsed": false,
    "scrolled": false
   },
   "outputs": [
    {
     "name": "stdout",
     "output_type": "stream",
     "text": [
      "[  2.10942375e-15   2.62132607e-01   3.00786723e-01 ...,   7.78344835e-01\n",
      "   5.35706911e-01   8.26286910e-01]\n"
     ]
    },
    {
     "data": {
      "text/plain": [
       "array(['the+mars+volta', 'the+mars+volta', 'the+mars+volta',\n",
       "       'the+mars+volta', 'the+mars+volta', 'the+mars+volta'], dtype=object)"
      ]
     },
     "execution_count": 110,
     "metadata": {},
     "output_type": "execute_result"
    }
   ],
   "source": [
    "pd.options.display.max_colwidth = 300\n",
    "x = np.array([a for a in result[(result['diversity']<=0.2)&(result['n']>=MIN_LENGTH)]['centroid']])\n",
    "n=3444000.\n",
    "dists=squareform(pairwise_distances(x,metric='cosine'),checks=False)\n",
    "print pairwise_distances(x,metric='cosine')[0]\n",
    "result[(result['diversity']<=0.2)&(result['n']>=MIN_LENGTH)].iloc[1488]['artists']"
   ]
  },
  {
   "cell_type": "code",
   "execution_count": 117,
   "metadata": {
    "collapsed": false,
    "scrolled": false
   },
   "outputs": [
    {
     "data": {
      "text/plain": [
       "[<matplotlib.lines.Line2D at 0x131b36790>]"
      ]
     },
     "execution_count": 117,
     "metadata": {},
     "output_type": "execute_result"
    },
    {
     "data": {
      "image/png": "[encoded data removed]",
      "text/plain": [
       "<matplotlib.figure.Figure at 0x12f6cc810>"
      ]
     },
     "metadata": {},
     "output_type": "display_data"
    }
   ],
   "source": [
    "vals,bins = np.histogram(result[(result['n']>=5)&(result['diversity']>0)]['diversity'],bins = np.arange(0,1.01,0.01))\n",
    "plt.plot(bins[:-1],vals)\n",
    "#plt.gca().set_yscale('log')"
   ]
  },
  {
   "cell_type": "code",
   "execution_count": null,
   "metadata": {
    "collapsed": true
   },
   "outputs": [],
   "source": []
  },
  {
   "cell_type": "code",
   "execution_count": null,
   "metadata": {
    "collapsed": false
   },
   "outputs": [],
   "source": [
    "brks2 = jenks(result[result['n']>=5]['diversity'].dropna(),2)\n",
    "brks3 = jenks(result[result['n']>=5]['diversity'].dropna(),3)\n",
    "print brks2,brks3\n",
    "#ax = seaborn.distplot(result[result['n']>=5]['diversity'].dropna(),norm_hist=False,bins=25)\n",
    "ax = seaborn.distplot(result[(result['n']>=5)&(result['diversity']>0)]['diversity'].dropna(),bins=25)\n",
    "# ax.axvline(brks2[1],c='k',ls='--')\n",
    "# ax.axvline(brks3[1],c='r',ls='--')\n",
    "# ax.axvline(brks3[2],c='r',ls='--')\n",
    "#ax.axvline(brks[2],c='k',ls='--')\n",
    "#ax.set_yscale('log')\n",
    "ax.set_xlim(0,1);\n"
   ]
  },
  {
   "cell_type": "code",
   "execution_count": 239,
   "metadata": {
    "collapsed": false
   },
   "outputs": [
    {
     "data": {
      "text/plain": [
       "<matplotlib.axes._subplots.AxesSubplot at 0x1462aa490>"
      ]
     },
     "execution_count": 239,
     "metadata": {},
     "output_type": "execute_result"
    },
    {
     "data": {
      "image/png": "[encoded data removed]",
      "text/plain": [
       "<matplotlib.figure.Figure at 0x13e7a4c10>"
      ]
     },
     "metadata": {},
     "output_type": "display_data"
    }
   ],
   "source": [
    "#seaborn.distplot(new['dist'][new['dist']>0],norm_hist=False)\n",
    "seaborn.distplot(new['dist'].dropna())"
   ]
  },
  {
   "cell_type": "code",
   "execution_count": 4,
   "metadata": {
    "collapsed": false
   },
   "outputs": [
    {
     "name": "stderr",
     "output_type": "stream",
     "text": [
      "/Users/jaredlorince/anaconda/lib/python2.7/site-packages/ipykernel/__main__.py:4: DeprecationWarning: using a non-integer number instead of an integer will result in an error in the future\n",
      "/Users/jaredlorince/anaconda/lib/python2.7/site-packages/ipykernel/__main__.py:5: DeprecationWarning: using a non-integer number instead of an integer will result in an error in the future\n"
     ]
    }
   ],
   "source": [
    "def calc_dist(idx_1,idx_2,metric='cosine'):\n",
    "    if np.isnan(idx_1) or np.isnan(idx_2):\n",
    "        return np.nan\n",
    "    features1 = features[idx_1]\n",
    "    features2 = features[idx_2]\n",
    "\n",
    "    if metric == 'JSD':\n",
    "        return self.JSD(features1,features2)\n",
    "    elif metric == 'cosine':\n",
    "        return cosine(features1,features2)\n",
    "    elif metric == 'euclidean':\n",
    "        return euclidean(features1,features2)\n",
    "\n",
    "randhop = pd.DataFrame({'a':np.random.randint(0,112312,100000000)})\n",
    "randhop['prev'] = randhop['a'].shift(1)\n",
    "randhop['dist'] = randhop.apply(lambda row: calc_dist(row['a'],row['prev']),axis=1)\n",
    "#seaborn.distplot(randhop['dist'].dropna(),kde=False,norm_hist=False)"
   ]
  },
  {
   "cell_type": "code",
   "execution_count": 541,
   "metadata": {
    "collapsed": false
   },
   "outputs": [
    {
     "name": "stdout",
     "output_type": "stream",
     "text": [
      "time: 2.29 s\n"
     ]
    }
   ],
   "source": [
    "n=100\n",
    "dhash = {}\n",
    "def hash_handler(a,frst):\n",
    "    if frst>a:\n",
    "        frst,a = a,frst\n",
    "    if frst not in dhash:\n",
    "        dhash[frst] = {}\n",
    "        result = calc_sim(frst,a)\n",
    "        dhash[frst][a] = result\n",
    "    else:\n",
    "        result = dhash[frst].get(a)\n",
    "        if result is None:\n",
    "            result = calc_sim(frst,a)\n",
    "            dhash[frst][a] = result\n",
    "\n",
    "    return result\n",
    "\n",
    "def cos_nan(arr1,arr2):\n",
    "    if np.any(np.isnan(arr1)) or np.any(np.isnan(arr2)):\n",
    "        return np.nan\n",
    "    else:\n",
    "        return cosine(arr1,arr2)\n",
    "    \n",
    "\n",
    "method = 'W'\n",
    "\n",
    "### block level\n",
    "if method == 'block':\n",
    "    blocks = test[['artist_id','block']].groupby('block').first()    \n",
    "### listen level\n",
    "if method == 'listens':\n",
    "    blocks = test.copy()\n",
    "### Day / week / month level\n",
    "if method in ('D','W','M'): \n",
    "    #blocks = test[['ts','features']].set_index('ts').resample(method).apply(grouper)\n",
    "    blocks = test.set_index('ts')['features'].resample(method).aggregate(lambda ser: np.nanmean(np.vstack(ser.values),axis=0) if len(ser)>0 else np.repeat(np.nan,190))\n",
    "\n",
    "\n",
    "### RANDOMIZATION\n",
    "idx = np.array(blocks.index)\n",
    "np.random.shuffle(idx)\n",
    "random_blocks = blocks.reindex(idx)\n",
    "\n",
    "new_result = []\n",
    "\n",
    "for i in xrange(len(blocks)-n):\n",
    "        \n",
    "    if method in ('D','W','M'):\n",
    "        first = random_blocks.iloc[i]\n",
    "        new_result.append(np.array(blocks[i+1:i+n+1].apply(lambda val: cos_nan(val,first))))\n",
    "        \n",
    "    else:\n",
    "        first = random_blocks['artist_id'].iloc[i]\n",
    "        new_result.append(np.array(blocks['artist_id'][i+1:i+n+1].apply(lambda val: hash_handler(val,first))))\n",
    "\n",
    "new_result_random = []\n",
    "\n",
    "\n",
    "\n",
    "for i in xrange(len(blocks)-n):\n",
    "    \n",
    "    \n",
    "    \n",
    "    if method in ('D','W','M'):\n",
    "        first = random_blocks.iloc[i]\n",
    "        new_result_random.append(np.array(random_blocks[i+1:i+n+1].apply(lambda val: cos_nan(val,first))))\n",
    "    else:\n",
    "        first = random_blocks['artist_id'].iloc[i]\n",
    "        new_result_random.append(np.array(random_blocks['artist_id'][i+1:i+n+1].apply(lambda val: hash_handler(val,first))))"
   ]
  },
  {
   "cell_type": "code",
   "execution_count": 545,
   "metadata": {
    "collapsed": false
   },
   "outputs": [
    {
     "data": {
      "text/plain": [
       "ts\n",
       "2007-02-25    [0.0027689005522, 0.00547421439388, 0.00127175140613, 0.0623495641687, 0.00923460763018, 0.000900467747154, 0.000769571193518, 0.00752544076586, 0.0053685108724, 0.00354632161307, 8.51736845962e-05, 0.000620479926785, 0.00898254142412, 0.000906930904568, 0.00732990565876, 0.00298332419343, 0.005...\n",
       "2007-03-04    [0.00119437992882, 0.00652676935975, 0.00540316572695, 0.0614178932216, 0.0150473784793, 0.000843150857075, 0.00246283086193, 0.0279888191975, 0.0028885954482, 0.00241924255375, 0.000249973124106, 0.000521929909689, 0.00199889772482, 0.000755387040427, 0.00715836002796, 0.0038571168393, 0.002413...\n",
       "2007-03-11    [0.000737542420986, 0.0041251916614, 0.00300065760666, 0.0377389872963, 0.00417067034594, 0.00021791606222, 0.00204925469776, 0.0060934264322, 0.0259022239395, 0.00502697276152, 0.000154404803648, 0.00208025713787, 0.00261492054056, 0.000335955610848, 0.0214817860667, 0.00168051391305, 0.0035844...\n",
       "2007-03-18    [0.00187593232558, 0.00608297079985, 0.00169082659922, 0.0818923973101, 0.0097122715261, 0.000410649965563, 0.00187165750865, 0.0142548826569, 0.0149260841793, 0.00103943900496, 0.000104491081625, 0.000833587375449, 0.0010824148632, 0.000655697826338, 0.0109080772764, 0.0032115152371, 0.00206569...\n",
       "2007-03-25    [0.000888964619642, 0.00828419449933, 0.000391203215841, 0.0444871775737, 0.00830316879248, 0.000904268487214, 0.00128442634448, 0.00649710641591, 0.0144657042241, 0.0184463587822, 0.000105824694539, 0.000615282169772, 0.000380611708322, 0.000375142431933, 0.00605347331777, 0.00311054342782, 0.0...\n",
       "2007-04-01    [0.00159112943262, 0.0107446521128, 0.000843200397571, 0.0640301621927, 0.00926647485898, 0.00093789064239, 0.000882161365368, 0.00815545383982, 0.000519083049991, 0.0112201205203, 0.00011277723121, 0.000599282046039, 0.00524758265519, 0.000534115017849, 0.00978488883143, 0.0022236596687, 0.0020...\n",
       "2007-04-08    [0.00163884269585, 0.00832504659248, 0.00460400387457, 0.0610958199651, 0.0108541176563, 0.00143048869671, 0.00306046128152, 0.0115026028388, 0.0123893949026, 0.00426430407651, 0.000592414424215, 0.000716688060521, 0.00490723380484, 0.000323154244271, 0.00448528368528, 0.00200922763691, 0.002032...\n",
       "2007-04-15    [0.0023289499274, 0.0160597072681, 0.00464561205999, 0.0411116136954, 0.00819238570175, 0.000760340417824, 0.00155379061913, 0.0113543237856, 0.00323948472777, 0.0035612465366, 0.000202157013316, 0.00109578541464, 0.00229629608767, 0.000609065937964, 0.0074872459828, 0.00249072896027, 0.00361361...\n",
       "2007-04-22    [0.00248515573723, 0.00438639196348, 0.00541270728164, 0.0531981896193, 0.0101989142102, 0.000476495646775, 0.00273175078988, 0.00987618682891, 0.0110520911313, 0.00362969529395, 7.87322877823e-05, 0.00106486154325, 0.00448679535062, 0.00139542598064, 0.0040593436126, 0.00338207711808, 0.0045584...\n",
       "2007-04-29    [0.00160661159627, 0.00405092203292, 0.0059858857023, 0.0680654515264, 0.00858893762124, 0.000293975148738, 0.00257664861692, 0.00975670755452, 0.0011275341585, 0.00401422269302, 0.000217546116376, 0.000576305417854, 0.00523304433258, 0.000579203270663, 0.00843653885281, 0.00998286292519, 0.0050...\n",
       "2007-05-06    [0.0012778052306, 0.00699267982381, 0.00143272349188, 0.0617654848151, 0.0052994632212, 0.000946653409897, 0.000296348958636, 0.00120572411166, 0.000138957287345, 0.00776456531, 6.94520395146e-05, 0.000601881527447, 0.00469149791266, 0.0018211988074, 0.00487569904046, 0.00743418718053, 0.0051195...\n",
       "2007-05-13    [0.00431562958103, 0.00919972904375, 0.0134608217876, 0.052567683797, 0.00495582547505, 0.0011176069533, 0.00228674029377, 0.00692243920481, 0.0417918830047, 0.00506596907005, 0.000264584377327, 0.00170238014911, 0.0034462649584, 0.00114188093712, 0.00776451309294, 0.0109603963843, 0.00339569563...\n",
       "2007-05-20    [0.00161776254932, 0.00618002343772, 0.0208730581128, 0.0568391830941, 0.0122317428793, 0.00106770324465, 0.00255070604752, 0.00871992453222, 0.0143068673091, 0.00227150654578, 0.000105892036944, 0.000614139441896, 0.00600210894213, 0.000590510004007, 0.00717490367461, 0.00512188502854, 0.001160...\n",
       "2007-05-27    [0.0022794764277, 0.0167243227538, 0.00467631100525, 0.0543574058465, 0.0100897785675, 0.00266285283712, 0.00187124506459, 0.00848907858231, 0.00611506583671, 0.00236910142291, 0.000358883283384, 0.000654292328548, 0.00205406599041, 0.000249824410475, 0.00597970117258, 0.00166329756507, 0.002434...\n",
       "2007-06-03    [0.000687043202512, 0.00645147712336, 0.00893729725893, 0.0591029431369, 0.0121040206407, 0.00142106047933, 0.000983874067757, 0.0261925738458, 0.00028118157135, 0.00332324210556, 0.000278494084195, 0.000517067157391, 0.00461166426853, 0.000456194301888, 0.00876558140905, 0.00305391928473, 0.002...\n",
       "2007-06-10    [0.000634182567575, 0.00052214975157, 0.000607666517589, 0.0718206938263, 0.00632091063363, 0.00500794190773, 0.00477845841525, 0.0100009234763, 0.00612855086141, 0.00563473366257, 2.49525668555e-05, 0.00138104833594, 0.00471763282823, 0.000212618099557, 0.00389880170679, 0.00229118753495, 0.002...\n",
       "2007-06-17    [0.000235888138327, 0.000799645633408, 0.000232457229091, 0.101119204167, 0.00691458410765, 0.000293645011962, 0.00130738815758, 0.0240616890756, 0.00240017947442, 0.00284888030262, 3.9496427627e-05, 0.000202706755407, 0.000129563852973, 0.000297850955626, 0.0124865125995, 0.0040457480042, 0.001...\n",
       "2007-06-24    [0.00129012712519, 0.00229395849763, 0.00684497399847, 0.077374336607, 0.00921280384277, 0.00154526147222, 0.00158229694064, 0.00602920098617, 0.00711768476968, 0.00323156118405, 0.000168341719447, 0.000720853245952, 0.00286633472643, 0.000282103611255, 0.00324257281423, 0.00330346551798, 0.0029...\n",
       "2007-07-01    [0.00222166323492, 0.0147137835646, 0.00156729315554, 0.061557841056, 0.0174932791923, 0.000646267006017, 0.00141087584612, 0.0118572090062, 0.00960828372371, 0.00518019164428, 0.000266081050591, 0.00125019085194, 0.00435665493891, 0.00177099661554, 0.0116999099603, 0.00431400769707, 0.005015012...\n",
       "2007-07-08    [0.00119067421911, 0.00892380624453, 0.0424301758757, 0.0460021995506, 0.0156255722205, 0.00416500031214, 0.00130957807534, 0.00501662421427, 0.00104509147193, 0.00356701233267, 1.11648516331e-05, 0.00050290606622, 0.00163778899334, 0.000546952747258, 0.00564759604503, 0.00990446436341, 0.001264...\n",
       "2007-07-15    [0.00156118653563, 0.0054241301784, 0.00563273361416, 0.0643905895888, 0.0151673335482, 0.00076785514692, 0.0014952518114, 0.00614645845818, 0.00360739402541, 0.00284932570507, 0.000230948618583, 0.000490461206427, 0.00154486695682, 0.000576929254993, 0.00773360847185, 0.0034101081528, 0.0038284...\n",
       "2007-07-22    [0.00108625351321, 0.00296559777182, 0.00475897788787, 0.0856140681338, 0.00747310972301, 0.00011306946603, 0.00217580820492, 0.00355603552624, 0.00793861560618, 0.00481958085206, 2.92348248756e-05, 0.00046788043769, 0.00199107372187, 0.000621866343829, 0.00901188811276, 0.00690685686941, 0.0031...\n",
       "2007-07-29    [0.0015744596731, 0.00587384349796, 0.0371528702593, 0.0509587358147, 0.0087599828469, 0.00204987020328, 0.00082314783213, 0.00702153656751, 0.0109218123915, 0.00508415092265, 6.99726608809e-05, 0.000803318656912, 0.00349004212354, 0.000463196034524, 0.00581348658212, 0.00254970637552, 0.0040121...\n",
       "2007-08-05    [0.00352484079216, 0.00670342808707, 0.00529991951907, 0.0624489962301, 0.0125136647678, 0.00265446300513, 0.00163637047952, 0.00986865507915, 0.00248609259317, 0.00372047835954, 0.000297777011122, 0.000437675180138, 0.00709815722641, 0.000653559902532, 0.0108064753211, 0.0077411806433, 0.003577...\n",
       "2007-08-12    [0.00249020186824, 0.0081278545575, 0.00574621215302, 0.0524167377072, 0.0101331902203, 0.00088113948202, 0.00150743153867, 0.00669782606781, 0.004036891751, 0.00403109397535, 0.000278518458699, 0.000868356530362, 0.0106792608469, 0.000793452818905, 0.00798684139028, 0.00352648503709, 0.00317655...\n",
       "2007-08-19    [0.00316571050403, 0.0061137286451, 0.00586943680521, 0.0603305082668, 0.0150081794647, 0.000967538457186, 0.00133768463365, 0.00698244413704, 0.00172416699764, 0.00406696556723, 0.000139148872475, 0.000401354314969, 0.00745008385621, 0.000942094456653, 0.00954224058959, 0.00480700234969, 0.0037...\n",
       "2007-08-26    [0.00380333134938, 0.0273780962072, 0.00325518999533, 0.0390710642915, 0.00338445673866, 0.0017182085844, 6.11584113331e-05, 0.00697705016622, 0.000442366445201, 0.00080185763886, 0.00043963171978, 0.000579162099202, 0.00230027190182, 0.000417058267439, 0.0120169041866, 0.0014501005306, 0.005701...\n",
       "2007-09-02    [0.00179590568054, 0.00807290641354, 0.00831599018483, 0.0558620747823, 0.0116537792677, 0.00236686998784, 0.00154979717177, 0.0116147557465, 0.0158000273968, 0.0045986392601, 0.000210866701533, 0.000974020718783, 0.00659701306137, 0.000625873233453, 0.0103462931771, 0.0025965965933, 0.001985041...\n",
       "2007-09-09    [0.00184954012528, 0.00528933301282, 0.00831161021505, 0.0433381029233, 0.00633709642127, 0.000484527286327, 0.00235195880828, 0.00674418357083, 0.023346900448, 0.00646848734484, 0.000162994177814, 0.00119003724719, 0.00548599865396, 0.000616009578136, 0.00562377468476, 0.00305935944669, 0.00306...\n",
       "2007-09-16    [0.00253118009165, 0.00512905086538, 0.0336195785019, 0.0434882983282, 0.00322773407718, 0.00133053164481, 0.00144034140129, 0.00825668683549, 0.0240711548938, 0.00498080995887, 8.12882228349e-05, 0.00112609018851, 0.00477084039495, 0.000583176653559, 0.00412509393947, 0.00214067003014, 0.003253...\n",
       "                                                                                                                                                                 ...                                                                                                                                                     \n",
       "2008-06-29    [0.00141935032575, 0.00217536176391, 0.011529122415, 0.0319244400071, 0.00501842220896, 0.000613904196137, 0.00535148898996, 0.0144489882021, 0.0627811991803, 0.00374081384586, 4.60324652954e-05, 0.00104338577828, 0.00367294572164, 0.000392397914446, 0.00625560020927, 0.00222054952067, 0.0017543...\n",
       "2008-07-06    [0.00154297522808, 0.00299405928952, 0.00334275860573, 0.0295242442238, 0.00421644376521, 0.000489785594217, 0.00113420210435, 0.00397527241913, 0.012004586742, 0.00570261953757, 5.58329425773e-05, 0.000664628943504, 0.00670788653624, 0.0015235263387, 0.00612185518184, 0.00157486501714, 0.001978...\n",
       "2008-07-13    [0.00117545425568, 0.00152634885328, 0.00151541829311, 0.0479178909995, 0.00571195612216, 0.000877581658794, 0.00182199505294, 0.00365948379771, 0.00439662074434, 0.00805270771795, 2.81101575572e-05, 0.00477498182277, 0.00156250051689, 0.000310593241804, 0.00516017461895, 0.00927169186305, 0.003...\n",
       "2008-07-20    [0.00193153741442, 0.00612424559619, 0.00540100679377, 0.0472475675, 0.00691502265344, 0.000926182426765, 0.00139794268087, 0.00677570940796, 0.00713335241082, 0.00829907283793, 0.000105506025968, 0.00317591015306, 0.00431726775077, 0.000536450132377, 0.0062036010277, 0.00322989356044, 0.0044429...\n",
       "2008-07-27    [0.00173431498837, 0.00422796261756, 0.00448102372459, 0.0492165563812, 0.0162933403629, 0.000667166087469, 0.00122043058342, 0.00691081288914, 0.0104401758197, 0.00406740898507, 0.000372138762791, 0.00145381427963, 0.0162137563993, 0.000852783735516, 0.00857980238881, 0.00340169155042, 0.002769...\n",
       "2008-08-03    [0.00112218423896, 0.00571481130385, 0.00596109510356, 0.0486919800779, 0.0149456209866, 0.00141276753618, 0.00232290054216, 0.010068297183, 0.0100338017862, 0.00366428483643, 0.000126621622604, 0.00074808869106, 0.00793458836885, 0.000317739119185, 0.00584906358752, 0.00189690990761, 0.00195306...\n",
       "2008-08-10    [0.00157788623678, 0.00389101817924, 0.00710318329025, 0.0380398476796, 0.00857281940732, 0.00166050933238, 0.0024734441921, 0.00545496385647, 0.029104445594, 0.0025542379399, 0.000100233867559, 0.000774114752824, 0.00535841386798, 0.000387809604924, 0.00797122716003, 0.00301293915199, 0.0021100...\n",
       "2008-08-17    [0.000952004507196, 0.0046405978091, 0.00509263885676, 0.0449447329855, 0.0102263985341, 0.00101375664011, 0.000776323017223, 0.00784937622015, 0.00728733917552, 0.00410849887932, 0.00046562276008, 0.000469935933967, 0.0142013563067, 0.00160579052745, 0.0118724739335, 0.0056503269175, 0.00226648...\n",
       "2008-08-24    [0.00306367932269, 0.00516824626063, 0.0151466675181, 0.0357072870166, 0.00467473955656, 0.000850788581783, 0.00286293687125, 0.019275909509, 0.031446503784, 0.00430295919335, 7.11041061449e-05, 0.00237367527271, 0.00370601956698, 0.000283130485064, 0.00668798360177, 0.00183574146242, 0.00265828...\n",
       "2008-08-31    [0.00136457859422, 0.00318502569098, 0.00591329705023, 0.0405410160093, 0.00468041470008, 0.000495228296397, 0.00337198585573, 0.00917742264631, 0.0507231281991, 0.00718784166843, 0.000103163557564, 0.000616509537935, 0.00135729926192, 0.000287962004847, 0.00413173218464, 0.00670313690562, 0.001...\n",
       "2008-09-07    [0.000694457077688, 0.00369171840995, 0.0052864986324, 0.0380053323426, 0.00750799827747, 0.00030172438888, 0.00499592272182, 0.0212633143652, 0.0366966472512, 0.00605245770595, 6.09329743676e-05, 0.00177650445837, 0.00430792714802, 0.000112061886942, 0.00434207600022, 0.00220733665517, 0.000945...\n",
       "2008-09-14    [0.00148107001186, 0.00261346896917, 0.00534440104657, 0.0445337118112, 0.00713042013322, 0.00121914218286, 0.00424360905189, 0.0225435370929, 0.0430083843507, 0.004558777944, 0.000306051622977, 0.0015576217871, 0.00592308426283, 0.000362723645226, 0.0088041380528, 0.00395029886893, 0.0040514266...\n",
       "2008-09-21    [0.00104121758581, 0.00349915793834, 0.00992169799548, 0.0376084472682, 0.00825374046355, 0.000761996647657, 0.00309978965319, 0.013412714535, 0.0261858521468, 0.00479853432655, 0.000184893578185, 0.000436254420648, 0.00300101309056, 0.000238581642716, 0.00406584350293, 0.00259707797303, 0.00174...\n",
       "2008-09-28    [0.000829231558982, 0.00465386251304, 0.00460005237981, 0.0452705788069, 0.0120379480012, 0.00107515842917, 0.00372774351169, 0.0217352077697, 0.018972515149, 0.00250399835335, 0.000169989350579, 0.000722564640989, 0.0162034180601, 0.000504043294604, 0.00661923803848, 0.00255324219206, 0.0022789...\n",
       "2008-10-05    [0.00119809182169, 0.00237596818192, 0.00162356115276, 0.0358512051664, 0.00307454501319, 0.000409031987566, 0.0079096334494, 0.0175935354745, 0.0402314466559, 0.00812055714574, 8.2352723046e-05, 0.0027353842277, 0.00142631612593, 9.43880084095e-05, 0.00506986906591, 0.00092562671692, 0.00102449...\n",
       "2008-10-12    [0.000562054520145, 0.00116300264593, 0.00716243312647, 0.0268639818029, 0.00275784894438, 0.00013804540579, 0.00872873968683, 0.0137534001214, 0.0473174449552, 0.0168894697438, 1.67432427701e-05, 0.000692896461379, 0.00168029036197, 0.000100432605658, 0.0105978069393, 0.00156795842615, 0.001075...\n",
       "2008-10-19    [0.00119534108029, 0.00372265375868, 0.0128095903468, 0.0548025167594, 0.00681154923251, 0.000756084555353, 0.00285283763184, 0.00978312198335, 0.0151700200202, 0.00579698999088, 0.000249445471623, 0.00228911187939, 0.00456415021906, 0.000390124672848, 0.00894163311894, 0.0040836517974, 0.001409...\n",
       "2008-10-26    [0.00136239122287, 0.00422664898441, 0.00426956920803, 0.0341891434667, 0.00612777456903, 0.000437060112753, 0.00130324315039, 0.00906996761804, 0.0352999727327, 0.00688097241919, 0.000120096647836, 0.000989778150444, 0.00548188574666, 0.000316454981135, 0.00681552801586, 0.0014208413227, 0.0023...\n",
       "2008-11-02    [0.00168517945996, 0.00161820839725, 0.00514541659458, 0.0536661265657, 0.00627034901869, 0.000352447737765, 0.00240534167814, 0.0105809323122, 0.011588258046, 0.00836711287791, 6.03342299089e-05, 0.0021033051744, 0.00293470895119, 0.00038920736156, 0.00530075093054, 0.00555038358286, 0.00297715...\n",
       "2008-11-09    [0.00139481050532, 0.00280194914752, 0.0137396412656, 0.0294669663306, 0.00188326961107, 0.000424655870647, 0.00376856205165, 0.0109365133652, 0.027879705762, 0.00875310862949, 8.75694057008e-05, 0.00278210822422, 0.0010654968963, 0.000226637000688, 0.00435196338985, 0.00262903021421, 0.00199818...\n",
       "2008-11-16    [0.000705146769163, 0.00286722171541, 0.00954835644096, 0.0411927145156, 0.00922369315603, 0.000227261107511, 0.00362229346433, 0.00798088419801, 0.0165866241349, 0.00207357392419, 9.66131877288e-05, 0.000785582868411, 0.00868655669739, 0.000505548954001, 0.00595070983061, 0.00145804529945, 0.00...\n",
       "2008-11-23    [0.00134705557557, 0.00591157184919, 0.0143590994762, 0.0463332545282, 0.00835017427266, 0.000576411784854, 0.00366543750295, 0.0118152820525, 0.0298228847869, 0.00439439960529, 0.000182756787332, 0.00142506879363, 0.011956289035, 0.000358994092953, 0.00620626988993, 0.00527960149344, 0.00442176...\n",
       "2008-11-30    [0.000549218893957, 0.000534657286086, 0.0475062465137, 0.026555569694, 0.00127913421724, 0.00106051884364, 0.0034140854391, 0.00292351982605, 0.0458919477769, 0.00380554394257, 5.75433644874e-05, 0.00104356726789, 0.000598966519776, 0.000115310805804, 0.00107274456879, 0.000867484702799, 0.0024...\n",
       "2008-12-07    [0.00251450052873, 0.00113954119076, 0.0084255943953, 0.042070561856, 0.00277163775657, 7.48271711699e-05, 0.00432260992456, 0.00715592557581, 0.0388946780256, 0.0072854681267, 4.10025870354e-05, 0.00118450655294, 0.000417929126074, 0.000166155143801, 0.00433197055216, 0.00538210326898, 0.002994...\n",
       "2008-12-14    [0.00144174158839, 0.00513603965789, 0.00522550521133, 0.0299636197519, 0.0015803530894, 0.000847734479241, 0.00893570168589, 0.0239155650344, 0.0692114835594, 0.00483631426882, 6.65790958593e-05, 0.000509106150838, 0.00467570922008, 9.48636848491e-05, 0.00235083110264, 0.00124688703278, 0.00113...\n",
       "2008-12-21    [0.000776282572485, 0.00128570526096, 0.000486215199612, 0.0345708882755, 0.00121860911797, 0.00572935459653, 0.00502759618819, 0.0275475200276, 0.103119977736, 0.00501702940631, 2.24900571666e-05, 0.000150152349199, 0.000123289811708, 0.000375600810641, 0.00426809267243, 0.00547851880556, 0.001...\n",
       "2008-12-28    [0.00114137728372, 0.00233733461654, 0.0209576825985, 0.0416974583349, 0.000927193751753, 0.00107207454006, 0.000491250861598, 0.00113306312633, 0.00939399894689, 0.00972429507803, 1.73219533407e-05, 0.000681897169347, 0.0021601270897, 0.000341581837386, 0.0016638422602, 0.00112976357226, 0.0026...\n",
       "2009-01-04    [0.00177687150034, 0.0122041325287, 0.000855344726621, 0.0500747383666, 0.00559185984486, 0.00155370960539, 0.00242579505785, 0.0153137865506, 0.000222368466039, 0.00888805929375, 4.61503100899e-05, 0.000252950552225, 0.0083359947743, 0.000158745802298, 0.0058647743966, 0.0041193288676, 0.000770...\n",
       "2009-01-11    [0.00117851049341, 0.00225848304687, 0.00156038111172, 0.0475887605007, 0.00886336930681, 0.000403535257647, 0.00409503586857, 0.0172112754633, 0.0450030308929, 0.0063092690147, 6.05664161182e-05, 0.00232408867097, 0.00429609421932, 0.000577571296682, 0.00630125297314, 0.0072821647778, 0.0032843...\n",
       "2009-01-18    [0.00199875667773, 0.00814672747207, 0.0284534034015, 0.0396375784628, 0.00698613867366, 0.000655495630734, 0.00185778040068, 0.00772559351994, 0.0117802676904, 0.00998702385018, 7.09846929762e-05, 0.00139728548883, 0.00653145129787, 0.000495652628897, 0.00855329099676, 0.0120376808602, 0.001928...\n",
       "dtype: object"
      ]
     },
     "execution_count": 545,
     "metadata": {},
     "output_type": "execute_result"
    },
    {
     "name": "stdout",
     "output_type": "stream",
     "text": [
      "time: 86.8 ms\n"
     ]
    }
   ],
   "source": [
    "def bootstrap(data, num_samples, statistic, alpha=0.05):\n",
    "    \"\"\"Returns bootstrap estimate of 100.0*(1-alpha) CI for statistic.\"\"\"\n",
    "    n = len(data)\n",
    "    idx = np.random.randint(0, n, (num_samples, n))\n",
    "    samples = data[idx]\n",
    "    stat = np.sort(statistic(samples, 1))\n",
    "    return (stat[int((alpha/2.0)*num_samples)],\n",
    "            stat[int((1-alpha/2.0)*num_samples)])\n",
    "blocks.head(100)"
   ]
  },
  {
   "cell_type": "code",
   "execution_count": 542,
   "metadata": {
    "collapsed": false
   },
   "outputs": [
    {
     "name": "stdout",
     "output_type": "stream",
     "text": [
      "(206, 100) (206, 100)\n",
      "time: 6.2 ms\n"
     ]
    }
   ],
   "source": [
    "result_arr = np.vstack(new_result)\n",
    "result_arr_rand = np.vstack(new_result_random)\n",
    "print result_arr.shape,result_arr_rand.shape\n",
    "#result_arr\n",
    "# ci_lower = []\n",
    "# ci_upper = []\n",
    "# for i in xrange(result_arr.shape[1]):\n",
    "#     #lower,upper = ci(result_arr[:,i],statfunction=np.nanmean,n_samples=1000)\n",
    "#     lower,upper = bootstrap(result_arr[:,i],num_samples=1000,statistic=np.nanmean)\n",
    "#     ci_lower.append(lower)\n",
    "#     ci_upper.append(upper)"
   ]
  },
  {
   "cell_type": "code",
   "execution_count": 543,
   "metadata": {
    "collapsed": false
   },
   "outputs": [
    {
     "data": {
      "text/plain": [
       "<matplotlib.text.Text at 0x1501c8690>"
      ]
     },
     "execution_count": 543,
     "metadata": {},
     "output_type": "execute_result"
    },
    {
     "data": {
      "image/png": "[encoded data removed]",
      "text/plain": [
       "<matplotlib.figure.Figure at 0x171ee0990>"
      ]
     },
     "metadata": {},
     "output_type": "display_data"
    },
    {
     "name": "stdout",
     "output_type": "stream",
     "text": [
      "time: 287 ms\n"
     ]
    }
   ],
   "source": [
    "fig,ax = plt.subplots(1,1)\n",
    "ax.plot(np.nanmean(result_arr,0))\n",
    "ax.plot(np.nanmean(result_arr_rand,0),ls='--')\n",
    "#ax.fill_between(xrange(100),ci_lower,ci_upper,alpha=0.5)\n",
    "ax.set_xlabel('Listening blocks (N) since block B_0')\n",
    "ax.set_ylabel('Mean distance between block B_0 and block B+N')"
   ]
  },
  {
   "cell_type": "code",
   "execution_count": 248,
   "metadata": {
    "collapsed": false
   },
   "outputs": [
    {
     "name": "stderr",
     "output_type": "stream",
     "text": [
      "/Users/jaredlorince/anaconda/lib/python2.7/site-packages/ipykernel/__main__.py:1: FutureWarning: how in .resample() is deprecated\n",
      "the new syntax is .resample(...).mean()\n",
      "  if __name__ == '__main__':\n",
      "/Users/jaredlorince/anaconda/lib/python2.7/site-packages/ipykernel/__main__.py:2: FutureWarning: how in .resample() is deprecated\n",
      "the new syntax is .resample(...).mean()\n",
      "  from ipykernel import kernelapp as app\n"
     ]
    },
    {
     "data": {
      "text/plain": [
       "<matplotlib.axes._subplots.AxesSubplot at 0x1539f8710>"
      ]
     },
     "execution_count": 248,
     "metadata": {},
     "output_type": "execute_result"
    },
    {
     "data": {
      "image/png": "[encoded data removed]",
      "text/plain": [
       "<matplotlib.figure.Figure at 0x1474cc890>"
      ]
     },
     "metadata": {},
     "output_type": "display_data"
    },
    {
     "data": {
      "image/png": "[encoded data removed]",
      "text/plain": [
       "<matplotlib.figure.Figure at 0x1539f8f50>"
      ]
     },
     "metadata": {},
     "output_type": "display_data"
    }
   ],
   "source": [
    "test[['ts','dist']].set_index('ts').resample('M',how='mean').plot()\n",
    "test.groupby('block').first()[['ts','dist']].set_index('ts').resample('M',how='mean').plot()"
   ]
  },
  {
   "cell_type": "code",
   "execution_count": 138,
   "metadata": {
    "collapsed": false
   },
   "outputs": [
    {
     "data": {
      "text/html": [
       "<div>\n",
       "<table border=\"1\" class=\"dataframe\">\n",
       "  <thead>\n",
       "    <tr style=\"text-align: right;\">\n",
       "      <th></th>\n",
       "      <th>Artist</th>\n",
       "      <th>Distance</th>\n",
       "      <th>Block_idx</th>\n",
       "      <th>Simple_idx</th>\n",
       "      <th>Shuffle_idx</th>\n",
       "    </tr>\n",
       "  </thead>\n",
       "  <tbody>\n",
       "    <tr>\n",
       "      <th>0</th>\n",
       "      <td>Sufjan Stevens</td>\n",
       "      <td>0.903825</td>\n",
       "      <td>0</td>\n",
       "      <td>0</td>\n",
       "      <td>0</td>\n",
       "    </tr>\n",
       "    <tr>\n",
       "      <th>1</th>\n",
       "      <td>The Offspring</td>\n",
       "      <td>0.974887</td>\n",
       "      <td>1</td>\n",
       "      <td>1</td>\n",
       "      <td>0</td>\n",
       "    </tr>\n",
       "    <tr>\n",
       "      <th>2</th>\n",
       "      <td>Beck</td>\n",
       "      <td>0.764417</td>\n",
       "      <td>2</td>\n",
       "      <td>2</td>\n",
       "      <td>0</td>\n",
       "    </tr>\n",
       "    <tr>\n",
       "      <th>3</th>\n",
       "      <td>Radiohead</td>\n",
       "      <td>0.176106</td>\n",
       "      <td>3</td>\n",
       "      <td>2</td>\n",
       "      <td>0</td>\n",
       "    </tr>\n",
       "    <tr>\n",
       "      <th>4</th>\n",
       "      <td>Sparta</td>\n",
       "      <td>0.746763</td>\n",
       "      <td>4</td>\n",
       "      <td>3</td>\n",
       "      <td>1</td>\n",
       "    </tr>\n",
       "    <tr>\n",
       "      <th>5</th>\n",
       "      <td>At the Drive-In</td>\n",
       "      <td>0.088306</td>\n",
       "      <td>5</td>\n",
       "      <td>3</td>\n",
       "      <td>1</td>\n",
       "    </tr>\n",
       "    <tr>\n",
       "      <th>6</th>\n",
       "      <td>At the Drive-In</td>\n",
       "      <td>0.000000</td>\n",
       "      <td>5</td>\n",
       "      <td>3</td>\n",
       "      <td>1</td>\n",
       "    </tr>\n",
       "    <tr>\n",
       "      <th>7</th>\n",
       "      <td>At the Drive-In</td>\n",
       "      <td>0.000000</td>\n",
       "      <td>5</td>\n",
       "      <td>3</td>\n",
       "      <td>1</td>\n",
       "    </tr>\n",
       "    <tr>\n",
       "      <th>8</th>\n",
       "      <td>At the Drive-In</td>\n",
       "      <td>0.000000</td>\n",
       "      <td>5</td>\n",
       "      <td>3</td>\n",
       "      <td>1</td>\n",
       "    </tr>\n",
       "    <tr>\n",
       "      <th>9</th>\n",
       "      <td>At the Drive-In</td>\n",
       "      <td>0.000000</td>\n",
       "      <td>5</td>\n",
       "      <td>3</td>\n",
       "      <td>1</td>\n",
       "    </tr>\n",
       "    <tr>\n",
       "      <th>10</th>\n",
       "      <td>At the Drive-In</td>\n",
       "      <td>0.000000</td>\n",
       "      <td>5</td>\n",
       "      <td>3</td>\n",
       "      <td>1</td>\n",
       "    </tr>\n",
       "    <tr>\n",
       "      <th>11</th>\n",
       "      <td>At the Drive-In</td>\n",
       "      <td>0.000000</td>\n",
       "      <td>5</td>\n",
       "      <td>3</td>\n",
       "      <td>1</td>\n",
       "    </tr>\n",
       "    <tr>\n",
       "      <th>12</th>\n",
       "      <td>At the Drive-In</td>\n",
       "      <td>0.000000</td>\n",
       "      <td>5</td>\n",
       "      <td>3</td>\n",
       "      <td>1</td>\n",
       "    </tr>\n",
       "    <tr>\n",
       "      <th>13</th>\n",
       "      <td>At the Drive-In</td>\n",
       "      <td>0.000000</td>\n",
       "      <td>5</td>\n",
       "      <td>3</td>\n",
       "      <td>1</td>\n",
       "    </tr>\n",
       "    <tr>\n",
       "      <th>14</th>\n",
       "      <td>At the Drive-In</td>\n",
       "      <td>0.000000</td>\n",
       "      <td>5</td>\n",
       "      <td>3</td>\n",
       "      <td>1</td>\n",
       "    </tr>\n",
       "    <tr>\n",
       "      <th>15</th>\n",
       "      <td>At the Drive-In</td>\n",
       "      <td>0.000000</td>\n",
       "      <td>5</td>\n",
       "      <td>3</td>\n",
       "      <td>1</td>\n",
       "    </tr>\n",
       "    <tr>\n",
       "      <th>16</th>\n",
       "      <td>At the Drive-In</td>\n",
       "      <td>0.000000</td>\n",
       "      <td>5</td>\n",
       "      <td>3</td>\n",
       "      <td>1</td>\n",
       "    </tr>\n",
       "    <tr>\n",
       "      <th>17</th>\n",
       "      <td>At the Drive-In</td>\n",
       "      <td>0.000000</td>\n",
       "      <td>5</td>\n",
       "      <td>3</td>\n",
       "      <td>1</td>\n",
       "    </tr>\n",
       "    <tr>\n",
       "      <th>18</th>\n",
       "      <td>Hollywood Undead</td>\n",
       "      <td>0.916317</td>\n",
       "      <td>6</td>\n",
       "      <td>4</td>\n",
       "      <td>2</td>\n",
       "    </tr>\n",
       "    <tr>\n",
       "      <th>19</th>\n",
       "      <td>Placebo</td>\n",
       "      <td>0.854387</td>\n",
       "      <td>7</td>\n",
       "      <td>5</td>\n",
       "      <td>2</td>\n",
       "    </tr>\n",
       "    <tr>\n",
       "      <th>20</th>\n",
       "      <td>At the Drive-In</td>\n",
       "      <td>0.834327</td>\n",
       "      <td>8</td>\n",
       "      <td>6</td>\n",
       "      <td>3</td>\n",
       "    </tr>\n",
       "    <tr>\n",
       "      <th>21</th>\n",
       "      <td>At the Drive-In</td>\n",
       "      <td>0.000000</td>\n",
       "      <td>8</td>\n",
       "      <td>6</td>\n",
       "      <td>3</td>\n",
       "    </tr>\n",
       "    <tr>\n",
       "      <th>22</th>\n",
       "      <td>At the Drive-In</td>\n",
       "      <td>0.000000</td>\n",
       "      <td>8</td>\n",
       "      <td>6</td>\n",
       "      <td>3</td>\n",
       "    </tr>\n",
       "    <tr>\n",
       "      <th>23</th>\n",
       "      <td>At the Drive-In</td>\n",
       "      <td>0.000000</td>\n",
       "      <td>8</td>\n",
       "      <td>6</td>\n",
       "      <td>3</td>\n",
       "    </tr>\n",
       "    <tr>\n",
       "      <th>24</th>\n",
       "      <td>At the Drive-In</td>\n",
       "      <td>0.000000</td>\n",
       "      <td>8</td>\n",
       "      <td>6</td>\n",
       "      <td>3</td>\n",
       "    </tr>\n",
       "    <tr>\n",
       "      <th>25</th>\n",
       "      <td>At the Drive-In</td>\n",
       "      <td>0.000000</td>\n",
       "      <td>8</td>\n",
       "      <td>6</td>\n",
       "      <td>3</td>\n",
       "    </tr>\n",
       "    <tr>\n",
       "      <th>26</th>\n",
       "      <td>At the Drive-In</td>\n",
       "      <td>0.000000</td>\n",
       "      <td>8</td>\n",
       "      <td>6</td>\n",
       "      <td>3</td>\n",
       "    </tr>\n",
       "    <tr>\n",
       "      <th>27</th>\n",
       "      <td>At the Drive-In</td>\n",
       "      <td>0.000000</td>\n",
       "      <td>8</td>\n",
       "      <td>6</td>\n",
       "      <td>3</td>\n",
       "    </tr>\n",
       "    <tr>\n",
       "      <th>28</th>\n",
       "      <td>At the Drive-In</td>\n",
       "      <td>0.000000</td>\n",
       "      <td>8</td>\n",
       "      <td>6</td>\n",
       "      <td>3</td>\n",
       "    </tr>\n",
       "    <tr>\n",
       "      <th>29</th>\n",
       "      <td>Caetano Veloso</td>\n",
       "      <td>0.979813</td>\n",
       "      <td>9</td>\n",
       "      <td>7</td>\n",
       "      <td>4</td>\n",
       "    </tr>\n",
       "    <tr>\n",
       "      <th>30</th>\n",
       "      <td>Caetano Veloso</td>\n",
       "      <td>0.000000</td>\n",
       "      <td>9</td>\n",
       "      <td>7</td>\n",
       "      <td>4</td>\n",
       "    </tr>\n",
       "    <tr>\n",
       "      <th>31</th>\n",
       "      <td>Caetano Veloso</td>\n",
       "      <td>0.000000</td>\n",
       "      <td>9</td>\n",
       "      <td>7</td>\n",
       "      <td>4</td>\n",
       "    </tr>\n",
       "    <tr>\n",
       "      <th>32</th>\n",
       "      <td>Caetano Veloso</td>\n",
       "      <td>0.000000</td>\n",
       "      <td>9</td>\n",
       "      <td>7</td>\n",
       "      <td>4</td>\n",
       "    </tr>\n",
       "    <tr>\n",
       "      <th>33</th>\n",
       "      <td>Caetano Veloso</td>\n",
       "      <td>0.000000</td>\n",
       "      <td>9</td>\n",
       "      <td>7</td>\n",
       "      <td>4</td>\n",
       "    </tr>\n",
       "    <tr>\n",
       "      <th>34</th>\n",
       "      <td>Caetano Veloso</td>\n",
       "      <td>0.000000</td>\n",
       "      <td>9</td>\n",
       "      <td>7</td>\n",
       "      <td>4</td>\n",
       "    </tr>\n",
       "    <tr>\n",
       "      <th>35</th>\n",
       "      <td>Caetano Veloso</td>\n",
       "      <td>0.000000</td>\n",
       "      <td>9</td>\n",
       "      <td>7</td>\n",
       "      <td>4</td>\n",
       "    </tr>\n",
       "    <tr>\n",
       "      <th>36</th>\n",
       "      <td>Caetano Veloso</td>\n",
       "      <td>0.000000</td>\n",
       "      <td>9</td>\n",
       "      <td>7</td>\n",
       "      <td>4</td>\n",
       "    </tr>\n",
       "    <tr>\n",
       "      <th>37</th>\n",
       "      <td>Caetano Veloso</td>\n",
       "      <td>0.000000</td>\n",
       "      <td>9</td>\n",
       "      <td>7</td>\n",
       "      <td>4</td>\n",
       "    </tr>\n",
       "    <tr>\n",
       "      <th>38</th>\n",
       "      <td>Antonio Carlos Jobim &amp; Elis Regina</td>\n",
       "      <td>0.066404</td>\n",
       "      <td>10</td>\n",
       "      <td>7</td>\n",
       "      <td>4</td>\n",
       "    </tr>\n",
       "    <tr>\n",
       "      <th>39</th>\n",
       "      <td>Antonio Carlos Jobim &amp; Elis Regina</td>\n",
       "      <td>0.000000</td>\n",
       "      <td>10</td>\n",
       "      <td>7</td>\n",
       "      <td>4</td>\n",
       "    </tr>\n",
       "  </tbody>\n",
       "</table>\n",
       "</div>"
      ],
      "text/plain": [
       "                                Artist  Distance  Block_idx  Simple_idx  \\\n",
       "0                       Sufjan Stevens  0.903825          0           0   \n",
       "1                        The Offspring  0.974887          1           1   \n",
       "2                                 Beck  0.764417          2           2   \n",
       "3                            Radiohead  0.176106          3           2   \n",
       "4                               Sparta  0.746763          4           3   \n",
       "5                      At the Drive-In  0.088306          5           3   \n",
       "6                      At the Drive-In  0.000000          5           3   \n",
       "7                      At the Drive-In  0.000000          5           3   \n",
       "8                      At the Drive-In  0.000000          5           3   \n",
       "9                      At the Drive-In  0.000000          5           3   \n",
       "10                     At the Drive-In  0.000000          5           3   \n",
       "11                     At the Drive-In  0.000000          5           3   \n",
       "12                     At the Drive-In  0.000000          5           3   \n",
       "13                     At the Drive-In  0.000000          5           3   \n",
       "14                     At the Drive-In  0.000000          5           3   \n",
       "15                     At the Drive-In  0.000000          5           3   \n",
       "16                     At the Drive-In  0.000000          5           3   \n",
       "17                     At the Drive-In  0.000000          5           3   \n",
       "18                    Hollywood Undead  0.916317          6           4   \n",
       "19                             Placebo  0.854387          7           5   \n",
       "20                     At the Drive-In  0.834327          8           6   \n",
       "21                     At the Drive-In  0.000000          8           6   \n",
       "22                     At the Drive-In  0.000000          8           6   \n",
       "23                     At the Drive-In  0.000000          8           6   \n",
       "24                     At the Drive-In  0.000000          8           6   \n",
       "25                     At the Drive-In  0.000000          8           6   \n",
       "26                     At the Drive-In  0.000000          8           6   \n",
       "27                     At the Drive-In  0.000000          8           6   \n",
       "28                     At the Drive-In  0.000000          8           6   \n",
       "29                      Caetano Veloso  0.979813          9           7   \n",
       "30                      Caetano Veloso  0.000000          9           7   \n",
       "31                      Caetano Veloso  0.000000          9           7   \n",
       "32                      Caetano Veloso  0.000000          9           7   \n",
       "33                      Caetano Veloso  0.000000          9           7   \n",
       "34                      Caetano Veloso  0.000000          9           7   \n",
       "35                      Caetano Veloso  0.000000          9           7   \n",
       "36                      Caetano Veloso  0.000000          9           7   \n",
       "37                      Caetano Veloso  0.000000          9           7   \n",
       "38  Antonio Carlos Jobim & Elis Regina  0.066404         10           7   \n",
       "39  Antonio Carlos Jobim & Elis Regina  0.000000         10           7   \n",
       "\n",
       "    Shuffle_idx  \n",
       "0             0  \n",
       "1             0  \n",
       "2             0  \n",
       "3             0  \n",
       "4             1  \n",
       "5             1  \n",
       "6             1  \n",
       "7             1  \n",
       "8             1  \n",
       "9             1  \n",
       "10            1  \n",
       "11            1  \n",
       "12            1  \n",
       "13            1  \n",
       "14            1  \n",
       "15            1  \n",
       "16            1  \n",
       "17            1  \n",
       "18            2  \n",
       "19            2  \n",
       "20            3  \n",
       "21            3  \n",
       "22            3  \n",
       "23            3  \n",
       "24            3  \n",
       "25            3  \n",
       "26            3  \n",
       "27            3  \n",
       "28            3  \n",
       "29            4  \n",
       "30            4  \n",
       "31            4  \n",
       "32            4  \n",
       "33            4  \n",
       "34            4  \n",
       "35            4  \n",
       "36            4  \n",
       "37            4  \n",
       "38            4  \n",
       "39            4  "
      ]
     },
     "execution_count": 138,
     "metadata": {},
     "output_type": "execute_result"
    }
   ],
   "source": [
    "pr = test[['artist_name','dist','block','patch_idx_shuffle','patch_idx_simple']][215:255].copy()\n",
    "pr['artist_name'] = pr['artist_name'].apply(formatter)\n",
    "#print pr.to_string(index=False)\n",
    "pr['block'] = pr['block']-144\n",
    "pr['patch_idx_shuffle'] = pr['patch_idx_shuffle']-8\n",
    "pr['patch_idx_simple'] = pr['patch_idx_simple']-138\n",
    "pr.columns = [['Artist','Distance','Block_idx','Shuffle_idx','Simple_idx']]\n",
    "pr.reset_index(drop=True)[['Artist','Distance','Block_idx','Simple_idx','Shuffle_idx']]"
   ]
  },
  {
   "cell_type": "code",
   "execution_count": 240,
   "metadata": {
    "collapsed": false
   },
   "outputs": [],
   "source": [
    "def grouper(ser):\n",
    "    if len(ser)<=1:\n",
    "        return 0\n",
    "    else:\n",
    "        return pdist([a for a in ser]).mean()\n",
    "div = test.dropna(subset=['artist_idx']).set_index('ts')['features'].resample('M').apply(grouper)\n",
    "cnts = test.dropna(subset=['artist_idx']).set_index('ts')['features'].resample('M').count()\n"
   ]
  },
  {
   "cell_type": "code",
   "execution_count": 237,
   "metadata": {
    "collapsed": false
   },
   "outputs": [],
   "source": [
    "centroids = test.dropna(subset=['artist_idx']).set_index('ts')['features'].resample('W').apply(np.mean,axis=0)\n",
    "centroids = pd.DataFrame({'centroid':centroids})\n",
    "centroids['prev'] = centroids.shift(1)\n",
    "centroid_dists = centroids.dropna().apply(lambda row: cosine(row['centroid'],row['prev']),axis=1)"
   ]
  },
  {
   "cell_type": "code",
   "execution_count": 242,
   "metadata": {
    "collapsed": false
   },
   "outputs": [
    {
     "data": {
      "text/plain": [
       "<matplotlib.axes._subplots.AxesSubplot at 0x14011f390>"
      ]
     },
     "execution_count": 242,
     "metadata": {},
     "output_type": "execute_result"
    },
    {
     "data": {
      "image/png": "[encoded data removed]",
      "text/plain": [
       "<matplotlib.figure.Figure at 0x13fbe2810>"
      ]
     },
     "metadata": {},
     "output_type": "display_data"
    }
   ],
   "source": [
    "fig,ax = plt.subplots(1,1)\n",
    "div.plot(ax=ax)\n",
    "#centroid_dists.plot(ax=ax)"
   ]
  },
  {
   "cell_type": "code",
   "execution_count": 347,
   "metadata": {
    "collapsed": false
   },
   "outputs": [
    {
     "data": {
      "text/plain": [
       "147"
      ]
     },
     "execution_count": 347,
     "metadata": {},
     "output_type": "execute_result"
    },
    {
     "name": "stdout",
     "output_type": "stream",
     "text": [
      "time: 4.43 ms\n"
     ]
    }
   ],
   "source": [
    "artist_idx['pantera']"
   ]
  },
  {
   "cell_type": "code",
   "execution_count": null,
   "metadata": {
    "collapsed": true
   },
   "outputs": [],
   "source": []
  }
 ],
 "metadata": {
  "kernelspec": {
   "display_name": "Python 2",
   "language": "python",
   "name": "python2"
  },
  "language_info": {
   "codemirror_mode": {
    "name": "ipython",
    "version": 2
   },
   "file_extension": ".py",
   "mimetype": "text/x-python",
   "name": "python",
   "nbconvert_exporter": "python",
   "pygments_lexer": "ipython2",
   "version": "2.7.11"
  }
 },
 "nbformat": 4,
 "nbformat_minor": 0
}
