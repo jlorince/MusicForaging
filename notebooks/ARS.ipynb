{
 "cells": [
  {
   "cell_type": "code",
   "execution_count": 22,
   "metadata": {
    "collapsed": true
   },
   "outputs": [],
   "source": [
    "import pandas as pd\n",
    "import numpy as np\n",
    "from scipy.spatial.distance import cosine\n",
    "from matplotlib import pyplot as plt\n",
    "%matplotlib inline\n",
    "import seaborn"
   ]
  },
  {
   "cell_type": "code",
   "execution_count": 8,
   "metadata": {
    "collapsed": true
   },
   "outputs": [],
   "source": [
    "features = np.load('../GenreModeling/data/features/lda_artists/features_190.npy')\n",
    "features = {i:features[i] for i in xrange(len(features))}"
   ]
  },
  {
   "cell_type": "code",
   "execution_count": 10,
   "metadata": {
    "collapsed": false
   },
   "outputs": [],
   "source": [
    "df = pd.read_pickle('../testData/scrobbles_processed/5759068.pkl')\n",
    "def get_features(idx):\n",
    "        return features.get(idx,np.repeat(np.nan,190))\n",
    "df['features'] = df['artist_idx'].apply(lambda idx: get_features(idx))"
   ]
  },
  {
   "cell_type": "code",
   "execution_count": 11,
   "metadata": {
    "collapsed": false
   },
   "outputs": [
    {
     "data": {
      "text/html": [
       "<div>\n",
       "<table border=\"1\" class=\"dataframe\">\n",
       "  <thead>\n",
       "    <tr style=\"text-align: right;\">\n",
       "      <th></th>\n",
       "      <th>dist</th>\n",
       "      <th>artist_idx</th>\n",
       "      <th>ts</th>\n",
       "      <th>session</th>\n",
       "      <th>patch_idx_shuffle</th>\n",
       "      <th>block</th>\n",
       "      <th>patch_idx_simple</th>\n",
       "      <th>features</th>\n",
       "    </tr>\n",
       "  </thead>\n",
       "  <tbody>\n",
       "    <tr>\n",
       "      <th>0</th>\n",
       "      <td>NaN</td>\n",
       "      <td>50.0</td>\n",
       "      <td>2007-02-24 22:54:28</td>\n",
       "      <td>0</td>\n",
       "      <td>0</td>\n",
       "      <td>0</td>\n",
       "      <td>0</td>\n",
       "      <td>[4.91829124712e-08, 9.83658249424e-07, 1.05153...</td>\n",
       "    </tr>\n",
       "    <tr>\n",
       "      <th>1</th>\n",
       "      <td>0.986968</td>\n",
       "      <td>584.0</td>\n",
       "      <td>2007-02-24 22:59:07</td>\n",
       "      <td>0</td>\n",
       "      <td>0</td>\n",
       "      <td>1</td>\n",
       "      <td>1</td>\n",
       "      <td>[0.00206053967627, 0.00718731389527, 5.2858440...</td>\n",
       "    </tr>\n",
       "    <tr>\n",
       "      <th>2</th>\n",
       "      <td>0.765355</td>\n",
       "      <td>231.0</td>\n",
       "      <td>2007-02-24 23:01:54</td>\n",
       "      <td>0</td>\n",
       "      <td>0</td>\n",
       "      <td>2</td>\n",
       "      <td>2</td>\n",
       "      <td>[0.0252498142872, 0.00246156047485, 0.00116852...</td>\n",
       "    </tr>\n",
       "    <tr>\n",
       "      <th>3</th>\n",
       "      <td>0.925810</td>\n",
       "      <td>747.0</td>\n",
       "      <td>2007-02-25 01:55:39</td>\n",
       "      <td>0</td>\n",
       "      <td>0</td>\n",
       "      <td>3</td>\n",
       "      <td>3</td>\n",
       "      <td>[3.00600377109e-07, 3.57113248006e-05, 3.00600...</td>\n",
       "    </tr>\n",
       "    <tr>\n",
       "      <th>4</th>\n",
       "      <td>0.830164</td>\n",
       "      <td>405.0</td>\n",
       "      <td>2007-02-25 02:00:36</td>\n",
       "      <td>0</td>\n",
       "      <td>0</td>\n",
       "      <td>4</td>\n",
       "      <td>4</td>\n",
       "      <td>[1.79202689245e-07, 0.017360152999, 1.79202689...</td>\n",
       "    </tr>\n",
       "  </tbody>\n",
       "</table>\n",
       "</div>"
      ],
      "text/plain": [
       "       dist  artist_idx                  ts  session  patch_idx_shuffle  \\\n",
       "0       NaN        50.0 2007-02-24 22:54:28        0                  0   \n",
       "1  0.986968       584.0 2007-02-24 22:59:07        0                  0   \n",
       "2  0.765355       231.0 2007-02-24 23:01:54        0                  0   \n",
       "3  0.925810       747.0 2007-02-25 01:55:39        0                  0   \n",
       "4  0.830164       405.0 2007-02-25 02:00:36        0                  0   \n",
       "\n",
       "   block  patch_idx_simple                                           features  \n",
       "0      0                 0  [4.91829124712e-08, 9.83658249424e-07, 1.05153...  \n",
       "1      1                 1  [0.00206053967627, 0.00718731389527, 5.2858440...  \n",
       "2      2                 2  [0.0252498142872, 0.00246156047485, 0.00116852...  \n",
       "3      3                 3  [3.00600377109e-07, 3.57113248006e-05, 3.00600...  \n",
       "4      4                 4  [1.79202689245e-07, 0.017360152999, 1.79202689...  "
      ]
     },
     "execution_count": 11,
     "metadata": {},
     "output_type": "execute_result"
    }
   ],
   "source": [
    "df.head()"
   ]
  },
  {
   "cell_type": "code",
   "execution_count": 55,
   "metadata": {
    "collapsed": false
   },
   "outputs": [],
   "source": [
    "n=100\n",
    "dhash = {}\n",
    "def hash_handler(a,frst):\n",
    "    if frst>a:\n",
    "        frst,a = a,frst\n",
    "    if frst not in dhash:\n",
    "        dhash[frst] = {}\n",
    "        result = calc_sim(frst,a)\n",
    "        dhash[frst][a] = result\n",
    "    else:\n",
    "        result = dhash[frst].get(a)\n",
    "        if result is None:\n",
    "            result = calc_sim(frst,a)\n",
    "            dhash[frst][a] = result\n",
    "\n",
    "    return result\n",
    "\n",
    "def cos_nan(arr1,arr2):\n",
    "    if np.any(np.isnan(arr1)) or np.any(np.isnan(arr2)):\n",
    "        return np.nan\n",
    "    else:\n",
    "        return cosine(arr1,arr2)\n",
    "    \n",
    "\n",
    "method = 'W'\n",
    "\n",
    "### block level\n",
    "if method == 'block':\n",
    "    blocks = df[['artist_idx','block']].groupby('block').first()    \n",
    "### listen level\n",
    "if method == 'listens':\n",
    "    blocks = df.copy()\n",
    "### Day / week / month level\n",
    "if method in ('D','W','M'): \n",
    "    #blocks = test[['ts','features']].set_index('ts').resample(method).apply(grouper)\n",
    "    blocks = df.set_index('ts')['features'].resample(method).aggregate(lambda ser: np.nanmean(np.vstack(ser.values),axis=0) if len(ser)>0 else np.repeat(np.nan,190))\n",
    "\n",
    "\n",
    "### RANDOMIZATION\n",
    "idx = np.array(blocks.index)\n",
    "np.random.shuffle(idx)\n",
    "random_blocks = blocks.reindex(idx)\n",
    "\n",
    "new_result = []\n",
    "\n",
    "for i in xrange(len(blocks)-n):\n",
    "        \n",
    "    if method in ('D','W','M'):\n",
    "        first = blocks.iloc[i]\n",
    "        new_result.append(np.array(blocks[i+1:i+n+1].apply(lambda val: cos_nan(val,first))))\n",
    "        \n",
    "    else:\n",
    "        first = blocks['artist_id'].iloc[i]\n",
    "        new_result.append(np.array(blocks['artist_id'][i+1:i+n+1].apply(lambda val: hash_handler(val,first))))\n",
    "\n",
    "new_result_random = []\n",
    "\n",
    "\n",
    "\n",
    "for i in xrange(len(blocks)-n):\n",
    "    \n",
    "    \n",
    "    if method in ('D','W','M'):\n",
    "        first = random_blocks.iloc[i]\n",
    "        new_result_random.append(np.array(random_blocks[i+1:i+n+1].apply(lambda val: cos_nan(val,first))))\n",
    "    else:\n",
    "        first = random_blocks['artist_id'].iloc[i]\n",
    "        new_result_random.append(np.array(random_blocks['artist_id'][i+1:i+n+1].apply(lambda val: hash_handler(val,first))))"
   ]
  },
  {
   "cell_type": "code",
   "execution_count": 56,
   "metadata": {
    "collapsed": false
   },
   "outputs": [
    {
     "data": {
      "text/plain": [
       "[<matplotlib.lines.Line2D at 0x1281873d0>]"
      ]
     },
     "execution_count": 56,
     "metadata": {},
     "output_type": "execute_result"
    },
    {
     "data": {
      "image/png": "[encoded data removed]",
      "text/plain": [
       "<matplotlib.figure.Figure at 0x128212650>"
      ]
     },
     "metadata": {},
     "output_type": "display_data"
    }
   ],
   "source": [
    "result_arr = np.vstack(new_result)\n",
    "result_arr_rand = np.vstack(new_result_random)\n",
    "plt.plot(np.nanmean(result_arr,axis=0))\n",
    "plt.plot(np.nanmean(result_arr_rand,axis=0))\n",
    "\n",
    "#result_arr_rand = np.vstack(new_result_random)"
   ]
  },
  {
   "cell_type": "code",
   "execution_count": 45,
   "metadata": {
    "collapsed": false
   },
   "outputs": [],
   "source": [
    "result = np.zeros(10)\n",
    "for rep in xrange(100000):\n",
    "    last = None\n",
    "    seq = []\n",
    "    for x in range(10):\n",
    "        if not last:\n",
    "            roll = np.random.choice([1,2,3,4,5,6]) \n",
    "            first = roll\n",
    "        else:\n",
    "            while roll == last:\n",
    "                roll = np.random.choice([1,2,3,4,5,6]) \n",
    "        seq.append(roll)\n",
    "        last = roll\n",
    "    result += (np.array(seq)==first).astype(int)"
   ]
  },
  {
   "cell_type": "code",
   "execution_count": 57,
   "metadata": {
    "collapsed": false
   },
   "outputs": [
    {
     "data": {
      "text/html": [
       "<div>\n",
       "<table border=\"1\" class=\"dataframe\">\n",
       "  <thead>\n",
       "    <tr style=\"text-align: right;\">\n",
       "      <th></th>\n",
       "      <th>dist</th>\n",
       "      <th>artist_idx</th>\n",
       "      <th>ts</th>\n",
       "      <th>session</th>\n",
       "      <th>patch_idx_shuffle</th>\n",
       "      <th>block</th>\n",
       "      <th>patch_idx_simple</th>\n",
       "      <th>features</th>\n",
       "    </tr>\n",
       "  </thead>\n",
       "  <tbody>\n",
       "    <tr>\n",
       "      <th>0</th>\n",
       "      <td>NaN</td>\n",
       "      <td>50.0</td>\n",
       "      <td>2007-02-24 22:54:28</td>\n",
       "      <td>0</td>\n",
       "      <td>0</td>\n",
       "      <td>0</td>\n",
       "      <td>0</td>\n",
       "      <td>[4.91829124712e-08, 9.83658249424e-07, 1.05153...</td>\n",
       "    </tr>\n",
       "    <tr>\n",
       "      <th>1</th>\n",
       "      <td>0.986968</td>\n",
       "      <td>584.0</td>\n",
       "      <td>2007-02-24 22:59:07</td>\n",
       "      <td>0</td>\n",
       "      <td>0</td>\n",
       "      <td>1</td>\n",
       "      <td>1</td>\n",
       "      <td>[0.00206053967627, 0.00718731389527, 5.2858440...</td>\n",
       "    </tr>\n",
       "    <tr>\n",
       "      <th>2</th>\n",
       "      <td>0.765355</td>\n",
       "      <td>231.0</td>\n",
       "      <td>2007-02-24 23:01:54</td>\n",
       "      <td>0</td>\n",
       "      <td>0</td>\n",
       "      <td>2</td>\n",
       "      <td>2</td>\n",
       "      <td>[0.0252498142872, 0.00246156047485, 0.00116852...</td>\n",
       "    </tr>\n",
       "    <tr>\n",
       "      <th>3</th>\n",
       "      <td>0.925810</td>\n",
       "      <td>747.0</td>\n",
       "      <td>2007-02-25 01:55:39</td>\n",
       "      <td>0</td>\n",
       "      <td>0</td>\n",
       "      <td>3</td>\n",
       "      <td>3</td>\n",
       "      <td>[3.00600377109e-07, 3.57113248006e-05, 3.00600...</td>\n",
       "    </tr>\n",
       "    <tr>\n",
       "      <th>4</th>\n",
       "      <td>0.830164</td>\n",
       "      <td>405.0</td>\n",
       "      <td>2007-02-25 02:00:36</td>\n",
       "      <td>0</td>\n",
       "      <td>0</td>\n",
       "      <td>4</td>\n",
       "      <td>4</td>\n",
       "      <td>[1.79202689245e-07, 0.017360152999, 1.79202689...</td>\n",
       "    </tr>\n",
       "  </tbody>\n",
       "</table>\n",
       "</div>"
      ],
      "text/plain": [
       "       dist  artist_idx                  ts  session  patch_idx_shuffle  \\\n",
       "0       NaN        50.0 2007-02-24 22:54:28        0                  0   \n",
       "1  0.986968       584.0 2007-02-24 22:59:07        0                  0   \n",
       "2  0.765355       231.0 2007-02-24 23:01:54        0                  0   \n",
       "3  0.925810       747.0 2007-02-25 01:55:39        0                  0   \n",
       "4  0.830164       405.0 2007-02-25 02:00:36        0                  0   \n",
       "\n",
       "   block  patch_idx_simple                                           features  \n",
       "0      0                 0  [4.91829124712e-08, 9.83658249424e-07, 1.05153...  \n",
       "1      1                 1  [0.00206053967627, 0.00718731389527, 5.2858440...  \n",
       "2      2                 2  [0.0252498142872, 0.00246156047485, 0.00116852...  \n",
       "3      3                 3  [3.00600377109e-07, 3.57113248006e-05, 3.00600...  \n",
       "4      4                 4  [1.79202689245e-07, 0.017360152999, 1.79202689...  "
      ]
     },
     "execution_count": 57,
     "metadata": {},
     "output_type": "execute_result"
    }
   ],
   "source": [
    "df.head()"
   ]
  },
  {
   "cell_type": "code",
   "execution_count": null,
   "metadata": {
    "collapsed": true
   },
   "outputs": [],
   "source": []
  }
 ],
 "metadata": {
  "kernelspec": {
   "display_name": "Python 2",
   "language": "python",
   "name": "python2"
  },
  "language_info": {
   "codemirror_mode": {
    "name": "ipython",
    "version": 2
   },
   "file_extension": ".py",
   "mimetype": "text/x-python",
   "name": "python",
   "nbconvert_exporter": "python",
   "pygments_lexer": "ipython2",
   "version": "2.7.11"
  }
 },
 "nbformat": 4,
 "nbformat_minor": 0
}
