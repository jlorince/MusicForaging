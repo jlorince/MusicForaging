{
 "cells": [
  {
   "cell_type": "code",
   "execution_count": 249,
   "metadata": {
    "collapsed": true
   },
   "outputs": [],
   "source": [
    "import pandas as pd\n",
    "import numpy as np\n",
    "from matplotlib import pyplot as plt\n",
    "%matplotlib inline\n",
    "import seaborn\n",
    "from IPython.core.display import display"
   ]
  },
  {
   "cell_type": "code",
   "execution_count": 250,
   "metadata": {
    "collapsed": true
   },
   "outputs": [],
   "source": [
    "df_raw = pd.read_pickle('../testData/scrobbles_processed/5759068.pkl')\n"
   ]
  },
  {
   "cell_type": "markdown",
   "metadata": {},
   "source": [
    "# Artist basis"
   ]
  },
  {
   "cell_type": "code",
   "execution_count": 251,
   "metadata": {
    "collapsed": false
   },
   "outputs": [
    {
     "data": {
      "text/plain": [
       "58832"
      ]
     },
     "execution_count": 251,
     "metadata": {},
     "output_type": "execute_result"
    }
   ],
   "source": [
    "df_raw.index.max()"
   ]
  },
  {
   "cell_type": "code",
   "execution_count": 252,
   "metadata": {
    "collapsed": false
   },
   "outputs": [],
   "source": [
    "# def 1: final prop. listens\n",
    "vc = df_raw['artist_idx'].value_counts()\n",
    "overall_prop = vc/float(len(df))\n",
    "overall_prop.name = 'final_value'\n",
    "df_raw = df_raw.join(overall_prop,on='artist_idx')\n"
   ]
  },
  {
   "cell_type": "code",
   "execution_count": 253,
   "metadata": {
    "collapsed": false
   },
   "outputs": [],
   "source": [
    "# def 2: up-to-moment prop. listens\n",
    "def calc_c_counts(df):\n",
    "    df['index'] = range(1,len(df)+1)\n",
    "    return df\n",
    "df_raw = df_raw.groupby('artist_idx').apply(calc_c_counts)\n",
    "df_raw['overall_index'] = df_raw.index + 1\n",
    "df_raw['current_value'] = df_raw['index'] / df_raw['overall_index']"
   ]
  },
  {
   "cell_type": "code",
   "execution_count": 254,
   "metadata": {
    "collapsed": false
   },
   "outputs": [],
   "source": [
    "# def 3: global popularity\n",
    "artist_pops = pd.Series([line.split(',')[1] for line in open('../GenreModeling/data/artist_pop')],dtype=float)\n",
    "artist_pops.name = 'global_value'\n",
    "df_raw = df_raw.join(artist_pops / artist_pops.sum(),on='artist_idx')\n"
   ]
  },
  {
   "cell_type": "code",
   "execution_count": 255,
   "metadata": {
    "collapsed": false
   },
   "outputs": [],
   "source": [
    "### ADD IDF DATA\n",
    "total_users = 145148.\n",
    "idf = pd.Series(np.log(total_users / np.loadtxt('../testData/idf_data',dtype=float)))\n",
    "idf.name = 'idf'\n",
    "df_raw = df_raw.join(idf,on='artist_idx')\n"
   ]
  },
  {
   "cell_type": "code",
   "execution_count": 256,
   "metadata": {
    "collapsed": false
   },
   "outputs": [],
   "source": [
    "# def 4: tf-idf variant of final prop. listens\n",
    "df_raw['final_value_tfidf'] = df_raw['final_value'] * df_raw['idf']"
   ]
  },
  {
   "cell_type": "code",
   "execution_count": 257,
   "metadata": {
    "collapsed": false
   },
   "outputs": [],
   "source": [
    "# def 5: tf-idf variant of up-to-moment prop. listens\n",
    "df_raw['current_value_tfidf'] = df_raw['current_value'] * df_raw['idf']"
   ]
  },
  {
   "cell_type": "code",
   "execution_count": 259,
   "metadata": {
    "collapsed": false,
    "scrolled": true
   },
   "outputs": [
    {
     "data": {
      "text/html": [
       "<div>\n",
       "<table border=\"1\" class=\"dataframe\">\n",
       "  <thead>\n",
       "    <tr style=\"text-align: right;\">\n",
       "      <th></th>\n",
       "      <th>dist</th>\n",
       "      <th>artist_idx</th>\n",
       "      <th>ts</th>\n",
       "      <th>session</th>\n",
       "      <th>patch_idx_shuffle</th>\n",
       "      <th>block</th>\n",
       "      <th>patch_idx_simple</th>\n",
       "      <th>final_value</th>\n",
       "      <th>index</th>\n",
       "      <th>overall_index</th>\n",
       "      <th>current_value</th>\n",
       "      <th>global_value</th>\n",
       "      <th>idf</th>\n",
       "      <th>final_value_tfidf</th>\n",
       "      <th>current_value_tfidf</th>\n",
       "    </tr>\n",
       "  </thead>\n",
       "  <tbody>\n",
       "    <tr>\n",
       "      <th>0</th>\n",
       "      <td>NaN</td>\n",
       "      <td>50.0</td>\n",
       "      <td>2007-02-24 22:54:28</td>\n",
       "      <td>0.0</td>\n",
       "      <td>0.0</td>\n",
       "      <td>0.0</td>\n",
       "      <td>0.0</td>\n",
       "      <td>0.008686</td>\n",
       "      <td>1.0</td>\n",
       "      <td>1</td>\n",
       "      <td>1.000000</td>\n",
       "      <td>0.001344</td>\n",
       "      <td>0.872338</td>\n",
       "      <td>0.007577</td>\n",
       "      <td>0.872338</td>\n",
       "    </tr>\n",
       "    <tr>\n",
       "      <th>1</th>\n",
       "      <td>0.986968</td>\n",
       "      <td>584.0</td>\n",
       "      <td>2007-02-24 22:59:07</td>\n",
       "      <td>0.0</td>\n",
       "      <td>0.0</td>\n",
       "      <td>1.0</td>\n",
       "      <td>1.0</td>\n",
       "      <td>0.002482</td>\n",
       "      <td>1.0</td>\n",
       "      <td>2</td>\n",
       "      <td>0.500000</td>\n",
       "      <td>0.000267</td>\n",
       "      <td>1.822755</td>\n",
       "      <td>0.004523</td>\n",
       "      <td>0.911378</td>\n",
       "    </tr>\n",
       "    <tr>\n",
       "      <th>2</th>\n",
       "      <td>0.765355</td>\n",
       "      <td>231.0</td>\n",
       "      <td>2007-02-24 23:01:54</td>\n",
       "      <td>0.0</td>\n",
       "      <td>0.0</td>\n",
       "      <td>2.0</td>\n",
       "      <td>2.0</td>\n",
       "      <td>0.000119</td>\n",
       "      <td>1.0</td>\n",
       "      <td>3</td>\n",
       "      <td>0.333333</td>\n",
       "      <td>0.000539</td>\n",
       "      <td>0.954154</td>\n",
       "      <td>0.000114</td>\n",
       "      <td>0.318051</td>\n",
       "    </tr>\n",
       "    <tr>\n",
       "      <th>3</th>\n",
       "      <td>0.925810</td>\n",
       "      <td>747.0</td>\n",
       "      <td>2007-02-25 01:55:39</td>\n",
       "      <td>0.0</td>\n",
       "      <td>0.0</td>\n",
       "      <td>3.0</td>\n",
       "      <td>3.0</td>\n",
       "      <td>0.005218</td>\n",
       "      <td>1.0</td>\n",
       "      <td>4</td>\n",
       "      <td>0.250000</td>\n",
       "      <td>0.000220</td>\n",
       "      <td>2.160909</td>\n",
       "      <td>0.011276</td>\n",
       "      <td>0.540227</td>\n",
       "    </tr>\n",
       "    <tr>\n",
       "      <th>4</th>\n",
       "      <td>0.830164</td>\n",
       "      <td>405.0</td>\n",
       "      <td>2007-02-25 02:00:36</td>\n",
       "      <td>0.0</td>\n",
       "      <td>0.0</td>\n",
       "      <td>4.0</td>\n",
       "      <td>4.0</td>\n",
       "      <td>0.005830</td>\n",
       "      <td>1.0</td>\n",
       "      <td>5</td>\n",
       "      <td>0.200000</td>\n",
       "      <td>0.000368</td>\n",
       "      <td>1.704314</td>\n",
       "      <td>0.009936</td>\n",
       "      <td>0.340863</td>\n",
       "    </tr>\n",
       "  </tbody>\n",
       "</table>\n",
       "</div>"
      ],
      "text/plain": [
       "       dist  artist_idx                  ts  session  patch_idx_shuffle  \\\n",
       "0       NaN        50.0 2007-02-24 22:54:28      0.0                0.0   \n",
       "1  0.986968       584.0 2007-02-24 22:59:07      0.0                0.0   \n",
       "2  0.765355       231.0 2007-02-24 23:01:54      0.0                0.0   \n",
       "3  0.925810       747.0 2007-02-25 01:55:39      0.0                0.0   \n",
       "4  0.830164       405.0 2007-02-25 02:00:36      0.0                0.0   \n",
       "\n",
       "   block  patch_idx_simple  final_value  index  overall_index  current_value  \\\n",
       "0    0.0               0.0     0.008686    1.0              1       1.000000   \n",
       "1    1.0               1.0     0.002482    1.0              2       0.500000   \n",
       "2    2.0               2.0     0.000119    1.0              3       0.333333   \n",
       "3    3.0               3.0     0.005218    1.0              4       0.250000   \n",
       "4    4.0               4.0     0.005830    1.0              5       0.200000   \n",
       "\n",
       "   global_value       idf  final_value_tfidf  current_value_tfidf  \n",
       "0      0.001344  0.872338           0.007577             0.872338  \n",
       "1      0.000267  1.822755           0.004523             0.911378  \n",
       "2      0.000539  0.954154           0.000114             0.318051  \n",
       "3      0.000220  2.160909           0.011276             0.540227  \n",
       "4      0.000368  1.704314           0.009936             0.340863  "
      ]
     },
     "metadata": {},
     "output_type": "display_data"
    },
    {
     "data": {
      "text/html": [
       "<div>\n",
       "<table border=\"1\" class=\"dataframe\">\n",
       "  <thead>\n",
       "    <tr style=\"text-align: right;\">\n",
       "      <th></th>\n",
       "      <th>dist</th>\n",
       "      <th>artist_idx</th>\n",
       "      <th>ts</th>\n",
       "      <th>session</th>\n",
       "      <th>patch_idx_shuffle</th>\n",
       "      <th>block</th>\n",
       "      <th>patch_idx_simple</th>\n",
       "      <th>final_value</th>\n",
       "      <th>index</th>\n",
       "      <th>overall_index</th>\n",
       "      <th>current_value</th>\n",
       "      <th>global_value</th>\n",
       "      <th>idf</th>\n",
       "      <th>final_value_tfidf</th>\n",
       "      <th>current_value_tfidf</th>\n",
       "    </tr>\n",
       "  </thead>\n",
       "  <tbody>\n",
       "    <tr>\n",
       "      <th>58828</th>\n",
       "      <td>0.0</td>\n",
       "      <td>810.0</td>\n",
       "      <td>2012-12-29 22:06:38</td>\n",
       "      <td>0.0</td>\n",
       "      <td>4044.0</td>\n",
       "      <td>24313.0</td>\n",
       "      <td>22804.0</td>\n",
       "      <td>0.006969</td>\n",
       "      <td>406.0</td>\n",
       "      <td>58829</td>\n",
       "      <td>0.006901</td>\n",
       "      <td>0.000203</td>\n",
       "      <td>2.666308</td>\n",
       "      <td>0.018581</td>\n",
       "      <td>0.018401</td>\n",
       "    </tr>\n",
       "    <tr>\n",
       "      <th>58829</th>\n",
       "      <td>0.0</td>\n",
       "      <td>810.0</td>\n",
       "      <td>2012-12-29 22:09:57</td>\n",
       "      <td>0.0</td>\n",
       "      <td>4044.0</td>\n",
       "      <td>24313.0</td>\n",
       "      <td>22804.0</td>\n",
       "      <td>0.006969</td>\n",
       "      <td>407.0</td>\n",
       "      <td>58830</td>\n",
       "      <td>0.006918</td>\n",
       "      <td>0.000203</td>\n",
       "      <td>2.666308</td>\n",
       "      <td>0.018581</td>\n",
       "      <td>0.018446</td>\n",
       "    </tr>\n",
       "    <tr>\n",
       "      <th>58830</th>\n",
       "      <td>0.0</td>\n",
       "      <td>810.0</td>\n",
       "      <td>2012-12-29 22:13:33</td>\n",
       "      <td>0.0</td>\n",
       "      <td>4044.0</td>\n",
       "      <td>24313.0</td>\n",
       "      <td>22804.0</td>\n",
       "      <td>0.006969</td>\n",
       "      <td>408.0</td>\n",
       "      <td>58831</td>\n",
       "      <td>0.006935</td>\n",
       "      <td>0.000203</td>\n",
       "      <td>2.666308</td>\n",
       "      <td>0.018581</td>\n",
       "      <td>0.018491</td>\n",
       "    </tr>\n",
       "    <tr>\n",
       "      <th>58831</th>\n",
       "      <td>0.0</td>\n",
       "      <td>810.0</td>\n",
       "      <td>2012-12-29 22:16:42</td>\n",
       "      <td>0.0</td>\n",
       "      <td>4044.0</td>\n",
       "      <td>24313.0</td>\n",
       "      <td>22804.0</td>\n",
       "      <td>0.006969</td>\n",
       "      <td>409.0</td>\n",
       "      <td>58832</td>\n",
       "      <td>0.006952</td>\n",
       "      <td>0.000203</td>\n",
       "      <td>2.666308</td>\n",
       "      <td>0.018581</td>\n",
       "      <td>0.018536</td>\n",
       "    </tr>\n",
       "    <tr>\n",
       "      <th>58832</th>\n",
       "      <td>0.0</td>\n",
       "      <td>810.0</td>\n",
       "      <td>2012-12-29 22:20:38</td>\n",
       "      <td>0.0</td>\n",
       "      <td>4044.0</td>\n",
       "      <td>24313.0</td>\n",
       "      <td>22804.0</td>\n",
       "      <td>0.006969</td>\n",
       "      <td>410.0</td>\n",
       "      <td>58833</td>\n",
       "      <td>0.006969</td>\n",
       "      <td>0.000203</td>\n",
       "      <td>2.666308</td>\n",
       "      <td>0.018581</td>\n",
       "      <td>0.018581</td>\n",
       "    </tr>\n",
       "  </tbody>\n",
       "</table>\n",
       "</div>"
      ],
      "text/plain": [
       "       dist  artist_idx                  ts  session  patch_idx_shuffle  \\\n",
       "58828   0.0       810.0 2012-12-29 22:06:38      0.0             4044.0   \n",
       "58829   0.0       810.0 2012-12-29 22:09:57      0.0             4044.0   \n",
       "58830   0.0       810.0 2012-12-29 22:13:33      0.0             4044.0   \n",
       "58831   0.0       810.0 2012-12-29 22:16:42      0.0             4044.0   \n",
       "58832   0.0       810.0 2012-12-29 22:20:38      0.0             4044.0   \n",
       "\n",
       "         block  patch_idx_simple  final_value  index  overall_index  \\\n",
       "58828  24313.0           22804.0     0.006969  406.0          58829   \n",
       "58829  24313.0           22804.0     0.006969  407.0          58830   \n",
       "58830  24313.0           22804.0     0.006969  408.0          58831   \n",
       "58831  24313.0           22804.0     0.006969  409.0          58832   \n",
       "58832  24313.0           22804.0     0.006969  410.0          58833   \n",
       "\n",
       "       current_value  global_value       idf  final_value_tfidf  \\\n",
       "58828       0.006901      0.000203  2.666308           0.018581   \n",
       "58829       0.006918      0.000203  2.666308           0.018581   \n",
       "58830       0.006935      0.000203  2.666308           0.018581   \n",
       "58831       0.006952      0.000203  2.666308           0.018581   \n",
       "58832       0.006969      0.000203  2.666308           0.018581   \n",
       "\n",
       "       current_value_tfidf  \n",
       "58828             0.018401  \n",
       "58829             0.018446  \n",
       "58830             0.018491  \n",
       "58831             0.018536  \n",
       "58832             0.018581  "
      ]
     },
     "metadata": {},
     "output_type": "display_data"
    }
   ],
   "source": [
    "cols = df_raw.columns\n",
    "#cols = ['artist_idx','ts','final_value','final_value_tfidf','current_value','current_value_tfidf','global_value']\n",
    "display(df_raw[cols].head())\n",
    "display(df_raw[cols].tail())"
   ]
  },
  {
   "cell_type": "code",
   "execution_count": 190,
   "metadata": {
    "collapsed": false
   },
   "outputs": [
    {
     "data": {
      "text/plain": [
       "(0, 0.04)"
      ]
     },
     "execution_count": 190,
     "metadata": {},
     "output_type": "execute_result"
    },
    {
     "data": {
      "image/png": "[encoded data removed]",
      "text/plain": [
       "<matplotlib.figure.Figure at 0x11aa6d510>"
      ]
     },
     "metadata": {},
     "output_type": "display_data"
    }
   ],
   "source": [
    "fig,ax = plt.subplots(1,1)\n",
    "df_raw[df_raw['artist_idx']==1149][['current_value','current_value_tfidf','final_value','final_value_tfidf','global_value']].plot(ax=ax)\n",
    "ax.set_ylim(0,0.04)"
   ]
  },
  {
   "cell_type": "markdown",
   "metadata": {},
   "source": [
    "# Patch basis"
   ]
  },
  {
   "cell_type": "code",
   "execution_count": 286,
   "metadata": {
    "collapsed": true
   },
   "outputs": [],
   "source": [
    "df_patches_raw = pd.read_pickle('../testData/patches_clustered/5759068.pkl')"
   ]
  },
  {
   "cell_type": "code",
   "execution_count": 287,
   "metadata": {
    "collapsed": false
   },
   "outputs": [],
   "source": [
    "# def 1: final prop. listens\n",
    "#vc = df_patches['patch_clust'].value_counts()\n",
    "listensPerPatch = df_patches.groupby('patch_clust')['n'].sum()\n",
    "overall_prop = listensPerPatch/float(df_patches['n'].sum())\n",
    "overall_prop_exploit = listensPerPatch/float(df_patches.dropna()['n'].sum())\n",
    "overall_prop.name = 'final_value'\n",
    "overall_prop_exploit.name = 'final_value_exploit'\n",
    "df_patches_raw = df_patches_raw.join(overall_prop,on='patch_clust').join(overall_prop_exploit,on='patch_clust')\n"
   ]
  },
  {
   "cell_type": "code",
   "execution_count": 288,
   "metadata": {
    "collapsed": false
   },
   "outputs": [],
   "source": [
    "def calc_c_counts(df):\n",
    "    df['index'] = df['n'].cumsum()\n",
    "    return df\n",
    "df_patches = df_patches_raw.groupby('patch_clust').apply(calc_c_counts)\n",
    "df_patches['n'] = df_patches_raw['n']\n",
    "df_patches['overall_index'] = df_patches['n'].cumsum()\n",
    "df_patches['current_value'] = df_patches['index'] / df_patches['overall_index']\n",
    "df_patches['overall_exploit_index'] = np.where(np.isnan(df_patches['patch_clust']),0,df_patches['n']).cumsum()\n",
    "df_patches['current_value_exploit'] = df_patches['index'] / df_patches['overall_exploit_index']"
   ]
  },
  {
   "cell_type": "code",
   "execution_count": 296,
   "metadata": {
    "collapsed": false,
    "scrolled": true
   },
   "outputs": [
    {
     "data": {
      "text/html": [
       "<div>\n",
       "<table border=\"1\" class=\"dataframe\">\n",
       "  <thead>\n",
       "    <tr style=\"text-align: right;\">\n",
       "      <th></th>\n",
       "      <th>n</th>\n",
       "      <th>patch_clust</th>\n",
       "      <th>final_value</th>\n",
       "      <th>final_value_exploit</th>\n",
       "      <th>current_value</th>\n",
       "      <th>current_value_exploit</th>\n",
       "    </tr>\n",
       "  </thead>\n",
       "  <tbody>\n",
       "    <tr>\n",
       "      <th>0</th>\n",
       "      <td>69</td>\n",
       "      <td>NaN</td>\n",
       "      <td>NaN</td>\n",
       "      <td>NaN</td>\n",
       "      <td>NaN</td>\n",
       "      <td>NaN</td>\n",
       "    </tr>\n",
       "    <tr>\n",
       "      <th>1</th>\n",
       "      <td>16</td>\n",
       "      <td>91.0</td>\n",
       "      <td>0.024017</td>\n",
       "      <td>0.039736</td>\n",
       "      <td>0.188235</td>\n",
       "      <td>1.000000</td>\n",
       "    </tr>\n",
       "    <tr>\n",
       "      <th>2</th>\n",
       "      <td>13</td>\n",
       "      <td>53.0</td>\n",
       "      <td>0.008550</td>\n",
       "      <td>0.014145</td>\n",
       "      <td>0.132653</td>\n",
       "      <td>0.448276</td>\n",
       "    </tr>\n",
       "    <tr>\n",
       "      <th>3</th>\n",
       "      <td>12</td>\n",
       "      <td>NaN</td>\n",
       "      <td>NaN</td>\n",
       "      <td>NaN</td>\n",
       "      <td>NaN</td>\n",
       "      <td>NaN</td>\n",
       "    </tr>\n",
       "    <tr>\n",
       "      <th>4</th>\n",
       "      <td>8</td>\n",
       "      <td>90.0</td>\n",
       "      <td>0.015009</td>\n",
       "      <td>0.024831</td>\n",
       "      <td>0.067797</td>\n",
       "      <td>0.216216</td>\n",
       "    </tr>\n",
       "    <tr>\n",
       "      <th>5</th>\n",
       "      <td>24</td>\n",
       "      <td>128.0</td>\n",
       "      <td>0.021553</td>\n",
       "      <td>0.035658</td>\n",
       "      <td>0.169014</td>\n",
       "      <td>0.393443</td>\n",
       "    </tr>\n",
       "    <tr>\n",
       "      <th>6</th>\n",
       "      <td>3</td>\n",
       "      <td>NaN</td>\n",
       "      <td>NaN</td>\n",
       "      <td>NaN</td>\n",
       "      <td>NaN</td>\n",
       "      <td>NaN</td>\n",
       "    </tr>\n",
       "    <tr>\n",
       "      <th>7</th>\n",
       "      <td>11</td>\n",
       "      <td>128.0</td>\n",
       "      <td>0.021553</td>\n",
       "      <td>0.035658</td>\n",
       "      <td>0.224359</td>\n",
       "      <td>0.486111</td>\n",
       "    </tr>\n",
       "    <tr>\n",
       "      <th>8</th>\n",
       "      <td>63</td>\n",
       "      <td>NaN</td>\n",
       "      <td>NaN</td>\n",
       "      <td>NaN</td>\n",
       "      <td>NaN</td>\n",
       "      <td>NaN</td>\n",
       "    </tr>\n",
       "    <tr>\n",
       "      <th>9</th>\n",
       "      <td>14</td>\n",
       "      <td>53.0</td>\n",
       "      <td>0.008550</td>\n",
       "      <td>0.014145</td>\n",
       "      <td>0.115880</td>\n",
       "      <td>0.313953</td>\n",
       "    </tr>\n",
       "  </tbody>\n",
       "</table>\n",
       "</div>"
      ],
      "text/plain": [
       "    n  patch_clust  final_value  final_value_exploit  current_value  \\\n",
       "0  69          NaN          NaN                  NaN            NaN   \n",
       "1  16         91.0     0.024017             0.039736       0.188235   \n",
       "2  13         53.0     0.008550             0.014145       0.132653   \n",
       "3  12          NaN          NaN                  NaN            NaN   \n",
       "4   8         90.0     0.015009             0.024831       0.067797   \n",
       "5  24        128.0     0.021553             0.035658       0.169014   \n",
       "6   3          NaN          NaN                  NaN            NaN   \n",
       "7  11        128.0     0.021553             0.035658       0.224359   \n",
       "8  63          NaN          NaN                  NaN            NaN   \n",
       "9  14         53.0     0.008550             0.014145       0.115880   \n",
       "\n",
       "   current_value_exploit  \n",
       "0                    NaN  \n",
       "1               1.000000  \n",
       "2               0.448276  \n",
       "3                    NaN  \n",
       "4               0.216216  \n",
       "5               0.393443  \n",
       "6                    NaN  \n",
       "7               0.486111  \n",
       "8                    NaN  \n",
       "9               0.313953  "
      ]
     },
     "execution_count": 296,
     "metadata": {},
     "output_type": "execute_result"
    }
   ],
   "source": [
    "df_patches[['n','patch_clust','final_value','final_value_exploit','current_value','current_value_exploit']].head(10)"
   ]
  },
  {
   "cell_type": "code",
   "execution_count": 290,
   "metadata": {
    "collapsed": false
   },
   "outputs": [
    {
     "data": {
      "text/plain": [
       "count    2626.000000\n",
       "mean        0.015616\n",
       "std         0.013647\n",
       "min         0.000085\n",
       "25%         0.004275\n",
       "50%         0.009281\n",
       "75%         0.024017\n",
       "max         0.040369\n",
       "Name: final_value, dtype: float64"
      ]
     },
     "execution_count": 290,
     "metadata": {},
     "output_type": "execute_result"
    }
   ],
   "source": [
    "df_patches['final_value'].describe()"
   ]
  },
  {
   "cell_type": "code",
   "execution_count": 299,
   "metadata": {
    "collapsed": false
   },
   "outputs": [],
   "source": [
    "### TEST\n",
    "def calc_c_counts(df):\n",
    "    df['index'] = df['n'].cumsum()\n",
    "    return df\n",
    "\n",
    "\n",
    "\n",
    "df_raw = pd.read_pickle('../testData/patches_clustered/5759068.pkl')\n",
    "#user = fi.split('/')[-1].split('_')[0]\n",
    "\n",
    "listensPerPatch = df_raw.groupby('patch_clust')['n'].sum()\n",
    "overall_prop = listensPerPatch/float(df_raw['n'].sum())\n",
    "overall_prop_exploit = listensPerPatch/float(df_raw.dropna()['n'].sum())\n",
    "overall_prop.name = 'final_value'\n",
    "overall_prop_exploit.name = 'final_value_exploit'\n",
    "df = df_raw.join(overall_prop,on='patch_clust').join(overall_prop_exploit,on='patch_clust')\n",
    "\n",
    "df = df.groupby('patch_clust').apply(calc_c_counts)\n",
    "df['n'] = df_raw['n']\n",
    "df['overall_index'] = df['n'].cumsum()\n",
    "df['current_value'] = df['index'] / df['overall_index']\n",
    "df['overall_exploit_index'] = np.where(np.isnan(df['patch_clust']),0,df['n']).cumsum()\n",
    "df['current_value_exploit'] = df['index'] / df['overall_exploit_index']\n"
   ]
  },
  {
   "cell_type": "code",
   "execution_count": 301,
   "metadata": {
    "collapsed": false
   },
   "outputs": [
    {
     "data": {
      "text/html": [
       "<div>\n",
       "<table border=\"1\" class=\"dataframe\">\n",
       "  <thead>\n",
       "    <tr style=\"text-align: right;\">\n",
       "      <th></th>\n",
       "      <th>centroid</th>\n",
       "      <th>diversity</th>\n",
       "      <th>n</th>\n",
       "      <th>start_ts</th>\n",
       "      <th>patch_clust</th>\n",
       "      <th>final_value</th>\n",
       "      <th>final_value_exploit</th>\n",
       "      <th>index</th>\n",
       "      <th>overall_index</th>\n",
       "      <th>current_value</th>\n",
       "      <th>overall_exploit_index</th>\n",
       "      <th>current_value_exploit</th>\n",
       "    </tr>\n",
       "  </thead>\n",
       "  <tbody>\n",
       "    <tr>\n",
       "      <th>4040</th>\n",
       "      <td>[8.73599576199e-07, 8.73599576199e-07, 0.06511...</td>\n",
       "      <td>0.00000</td>\n",
       "      <td>10</td>\n",
       "      <td>2012-12-23 18:39:45</td>\n",
       "      <td>82.0</td>\n",
       "      <td>0.021739</td>\n",
       "      <td>0.035967</td>\n",
       "      <td>1279.0</td>\n",
       "      <td>58781</td>\n",
       "      <td>0.021759</td>\n",
       "      <td>35513</td>\n",
       "      <td>0.036015</td>\n",
       "    </tr>\n",
       "    <tr>\n",
       "      <th>4041</th>\n",
       "      <td>[0.035015218375, 0.00100713177281, 0.011293278...</td>\n",
       "      <td>0.04538</td>\n",
       "      <td>13</td>\n",
       "      <td>2012-12-27 06:28:31</td>\n",
       "      <td>109.0</td>\n",
       "      <td>0.002380</td>\n",
       "      <td>0.003937</td>\n",
       "      <td>140.0</td>\n",
       "      <td>58794</td>\n",
       "      <td>0.002381</td>\n",
       "      <td>35526</td>\n",
       "      <td>0.003941</td>\n",
       "    </tr>\n",
       "    <tr>\n",
       "      <th>4042</th>\n",
       "      <td>NaN</td>\n",
       "      <td>NaN</td>\n",
       "      <td>5</td>\n",
       "      <td>NaN</td>\n",
       "      <td>NaN</td>\n",
       "      <td>NaN</td>\n",
       "      <td>NaN</td>\n",
       "      <td>NaN</td>\n",
       "      <td>58799</td>\n",
       "      <td>NaN</td>\n",
       "      <td>35526</td>\n",
       "      <td>NaN</td>\n",
       "    </tr>\n",
       "    <tr>\n",
       "      <th>4043</th>\n",
       "      <td>[0.00117974237337, 0.000368630135718, 0.001656...</td>\n",
       "      <td>0.00000</td>\n",
       "      <td>26</td>\n",
       "      <td>2012-12-28 12:45:58</td>\n",
       "      <td>81.0</td>\n",
       "      <td>0.035728</td>\n",
       "      <td>0.059111</td>\n",
       "      <td>2102.0</td>\n",
       "      <td>58825</td>\n",
       "      <td>0.035733</td>\n",
       "      <td>35552</td>\n",
       "      <td>0.059125</td>\n",
       "    </tr>\n",
       "    <tr>\n",
       "      <th>4044</th>\n",
       "      <td>[3.24932422179e-07, 0.000967128861375, 0.00077...</td>\n",
       "      <td>0.00000</td>\n",
       "      <td>8</td>\n",
       "      <td>2012-12-29 21:55:51</td>\n",
       "      <td>93.0</td>\n",
       "      <td>0.006595</td>\n",
       "      <td>0.010911</td>\n",
       "      <td>388.0</td>\n",
       "      <td>58833</td>\n",
       "      <td>0.006595</td>\n",
       "      <td>35560</td>\n",
       "      <td>0.010911</td>\n",
       "    </tr>\n",
       "  </tbody>\n",
       "</table>\n",
       "</div>"
      ],
      "text/plain": [
       "                                               centroid  diversity   n  \\\n",
       "4040  [8.73599576199e-07, 8.73599576199e-07, 0.06511...    0.00000  10   \n",
       "4041  [0.035015218375, 0.00100713177281, 0.011293278...    0.04538  13   \n",
       "4042                                                NaN        NaN   5   \n",
       "4043  [0.00117974237337, 0.000368630135718, 0.001656...    0.00000  26   \n",
       "4044  [3.24932422179e-07, 0.000967128861375, 0.00077...    0.00000   8   \n",
       "\n",
       "                 start_ts  patch_clust  final_value  final_value_exploit  \\\n",
       "4040  2012-12-23 18:39:45         82.0     0.021739             0.035967   \n",
       "4041  2012-12-27 06:28:31        109.0     0.002380             0.003937   \n",
       "4042                  NaN          NaN          NaN                  NaN   \n",
       "4043  2012-12-28 12:45:58         81.0     0.035728             0.059111   \n",
       "4044  2012-12-29 21:55:51         93.0     0.006595             0.010911   \n",
       "\n",
       "       index  overall_index  current_value  overall_exploit_index  \\\n",
       "4040  1279.0          58781       0.021759                  35513   \n",
       "4041   140.0          58794       0.002381                  35526   \n",
       "4042     NaN          58799            NaN                  35526   \n",
       "4043  2102.0          58825       0.035733                  35552   \n",
       "4044   388.0          58833       0.006595                  35560   \n",
       "\n",
       "      current_value_exploit  \n",
       "4040               0.036015  \n",
       "4041               0.003941  \n",
       "4042                    NaN  \n",
       "4043               0.059125  \n",
       "4044               0.010911  "
      ]
     },
     "execution_count": 301,
     "metadata": {},
     "output_type": "execute_result"
    }
   ],
   "source": [
    "df[['n','patch_clust']]"
   ]
  },
  {
   "cell_type": "code",
   "execution_count": null,
   "metadata": {
    "collapsed": true
   },
   "outputs": [],
   "source": []
  }
 ],
 "metadata": {
  "kernelspec": {
   "display_name": "Python 2",
   "language": "python",
   "name": "python2"
  },
  "language_info": {
   "codemirror_mode": {
    "name": "ipython",
    "version": 2
   },
   "file_extension": ".py",
   "mimetype": "text/x-python",
   "name": "python",
   "nbconvert_exporter": "python",
   "pygments_lexer": "ipython2",
   "version": "2.7.11"
  }
 },
 "nbformat": 4,
 "nbformat_minor": 0
}
