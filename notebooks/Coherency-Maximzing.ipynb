{
 "cells": [
  {
   "cell_type": "code",
   "execution_count": 2,
   "metadata": {
    "collapsed": false
   },
   "outputs": [],
   "source": [
    "import pandas as pd\n",
    "import numpy as np\n",
    "#import seaborn\n",
    "from matplotlib import pyplot as plt\n",
    "%matplotlib inline\n",
    "from tqdm import tqdm_notebook as tq"
   ]
  },
  {
   "cell_type": "code",
   "execution_count": 3,
   "metadata": {
    "collapsed": false
   },
   "outputs": [],
   "source": [
    "df = pd.read_table('/Users/jaredlorince/Desktop/5759068.txt',header=None,nrows=None,names=['song_id','artist_id','ts'],parse_dates=['ts'])"
   ]
  },
  {
   "cell_type": "code",
   "execution_count": 4,
   "metadata": {
    "collapsed": false
   },
   "outputs": [],
   "source": [
    "encountered = set()\n",
    "new = []\n",
    "blocks = []\n",
    "last = None\n",
    "block_idx = -1\n",
    "for a in df.artist_id:\n",
    "    if a not in encountered:\n",
    "        new.append(1)\n",
    "        encountered.add(a)\n",
    "    else:\n",
    "        new.append(0)\n",
    "    if a != last:\n",
    "        block_idx += 1\n",
    "    blocks.append(block_idx)\n",
    "    last = a\n",
    "df['new'] = new\n",
    "df['block'] = blocks\n",
    "df['new_block'] = df['new'].cumsum()"
   ]
  },
  {
   "cell_type": "code",
   "execution_count": 117,
   "metadata": {
    "collapsed": false
   },
   "outputs": [],
   "source": [
    "df_blocked = df.groupby('block').aggregate({'artist_id':lambda x: x.iloc[0],'song_id':lambda x: len(x)})"
   ]
  },
  {
   "cell_type": "code",
   "execution_count": 118,
   "metadata": {
    "collapsed": false
   },
   "outputs": [],
   "source": [
    "new = []\n",
    "encountered = set()\n",
    "for a in df_blocked.artist_id:\n",
    "    if a not in encountered:\n",
    "        new.append(1)\n",
    "        encountered.add(a)\n",
    "    else:\n",
    "        new.append(0)\n",
    "df_blocked['new'] = new\n",
    "df_blocked.columns = ['artist_id','n','new']"
   ]
  },
  {
   "cell_type": "code",
   "execution_count": 129,
   "metadata": {
    "collapsed": false
   },
   "outputs": [
    {
     "data": {
      "text/plain": [
       "<matplotlib.axes._subplots.AxesSubplot at 0x118015710>"
      ]
     },
     "execution_count": 129,
     "metadata": {},
     "output_type": "execute_result"
    },
    {
     "data": {
      "image/png": "[encoded data removed]",
      "text/plain": [
       "<matplotlib.figure.Figure at 0x123fe1d50>"
      ]
     },
     "metadata": {},
     "output_type": "display_data"
    }
   ],
   "source": [
    "df_blocked['new_block'] = df_blocked.new.cumsum()\n",
    "df_blocked[df_blocked.new==0].groupby('new_block').n.sum().value_counts().reindex(range(1,101)).plot()"
   ]
  },
  {
   "cell_type": "code",
   "execution_count": 22,
   "metadata": {
    "collapsed": false
   },
   "outputs": [
    {
     "name": "stdout",
     "output_type": "stream",
     "text": [
      "\n"
     ]
    }
   ],
   "source": [
    "result = np.zeros((1000,100),dtype=float)\n",
    "for rep in tq(range(1000)):\n",
    "    df_shuffle = df.sample(frac=1).reset_index(drop=True)\n",
    "    encountered = set()\n",
    "    new = []\n",
    "    for a in df_shuffle.artist_id:\n",
    "        if a not in encountered:\n",
    "            new.append(1)\n",
    "            encountered.add(a)\n",
    "        else:\n",
    "            new.append(0)\n",
    "    df_shuffle['new'] = new\n",
    "    df_shuffle['new_block'] = df_shuffle['new'].cumsum()\n",
    "    #result[rep] = df_shuffle.groupby(df_shuffle.index/1000).new.mean().values\n",
    "    result[rep] = df_shuffle[df_shuffle.new==0].groupby('new_block').artist_id.count().value_counts().reindex(range(1,101),fill_value=0).values\n",
    "    break"
   ]
  },
  {
   "cell_type": "code",
   "execution_count": 130,
   "metadata": {
    "collapsed": false
   },
   "outputs": [
    {
     "name": "stdout",
     "output_type": "stream",
     "text": [
      "\n"
     ]
    }
   ],
   "source": [
    "result = np.zeros((1000,100),dtype=float)\n",
    "for rep in tq(xrange(1000)):\n",
    "    df_shuffle = df_blocked.sample(frac=1).reset_index(drop=True)\n",
    "    encountered = set()\n",
    "    new = []\n",
    "    for a in df_shuffle.artist_id:\n",
    "        if a not in encountered:\n",
    "            new.append(1)\n",
    "            encountered.add(a)\n",
    "        else:\n",
    "            new.append(0)\n",
    "    df_shuffle['new'] = new\n",
    "    df_shuffle['new_block'] = df_shuffle['new'].cumsum()\n",
    "    #result[rep] = df_shuffle.groupby(df_shuffle.index/1000).new.mean().values\n",
    "    result[rep] = df_shuffle[df_shuffle.new==0].groupby('new_block').artist_id.count().value_counts().reindex(range(1,101),fill_value=0).values"
   ]
  },
  {
   "cell_type": "code",
   "execution_count": 5,
   "metadata": {
    "collapsed": false
   },
   "outputs": [],
   "source": [
    "exploit_streak = [np.nan]\n",
    "streak = 0\n",
    "for n in df.new:\n",
    "    if n==0:\n",
    "        streak +=1 \n",
    "        exploit_streak.append(streak)\n",
    "    else:\n",
    "        exploit_streak.append(0)\n",
    "        streak = 0\n",
    "df['exploit_streak'] = exploit_streak[:-1]\n",
    "    "
   ]
  },
  {
   "cell_type": "code",
   "execution_count": 23,
   "metadata": {
    "collapsed": false
   },
   "outputs": [],
   "source": [
    "exploit_streak = [np.nan]\n",
    "streak = 0\n",
    "for n in df_shuffle.new:\n",
    "    if n==0:\n",
    "        streak +=1 \n",
    "        exploit_streak.append(streak)\n",
    "    else:\n",
    "        exploit_streak.append(0)\n",
    "        streak = 0\n",
    "df_shuffle['exploit_streak'] = exploit_streak[:-1]\n",
    "    "
   ]
  },
  {
   "cell_type": "code",
   "execution_count": 148,
   "metadata": {
    "collapsed": false
   },
   "outputs": [
    {
     "data": {
      "text/plain": [
       "<matplotlib.axes._subplots.AxesSubplot at 0x120dbf7d0>"
      ]
     },
     "execution_count": 148,
     "metadata": {},
     "output_type": "execute_result"
    },
    {
     "data": {
      "image/png": "[encoded data removed]",
      "text/plain": [
       "<matplotlib.figure.Figure at 0x120dbf410>"
      ]
     },
     "metadata": {},
     "output_type": "display_data"
    }
   ],
   "source": [
    "df.plot(kind='scatter',x='exploit_streak',y='new')"
   ]
  },
  {
   "cell_type": "code",
   "execution_count": 172,
   "metadata": {
    "collapsed": false
   },
   "outputs": [
    {
     "name": "stdout",
     "output_type": "stream",
     "text": [
      "Optimization terminated successfully.\n",
      "         Current function value: 0.138915\n",
      "         Iterations 7\n",
      "                           Logit Regression Results                           \n",
      "==============================================================================\n",
      "Dep. Variable:                    new   No. Observations:                58832\n",
      "Model:                          Logit   Df Residuals:                    58831\n",
      "Method:                           MLE   Df Model:                            0\n",
      "Date:                Tue, 17 Jan 2017   Pseudo R-squ.:                   0.000\n",
      "Time:                        12:30:30   Log-Likelihood:                -8172.6\n",
      "converged:                       True   LL-Null:                       -8172.6\n",
      "                                        LLR p-value:                       nan\n",
      "==============================================================================\n",
      "                 coef    std err          z      P>|z|      [95.0% Conf. Int.]\n",
      "------------------------------------------------------------------------------\n",
      "const         -3.4354      0.024   -144.887      0.000        -3.482    -3.389\n",
      "==============================================================================\n"
     ]
    }
   ],
   "source": [
    "import statsmodels.api as sm\n",
    "import statsmodels\n",
    "test = statsmodels.tools.add_constant(df)\n",
    "logit = sm.Logit(df['new'][1:], [testtest['const'][1:])\n",
    "result = logit.fit()\n",
    "print result.summary()"
   ]
  },
  {
   "cell_type": "code",
   "execution_count": 169,
   "metadata": {
    "collapsed": false
   },
   "outputs": [
    {
     "name": "stdout",
     "output_type": "stream",
     "text": [
      "Optimization terminated successfully.\n",
      "         Current function value: 0.264124\n",
      "         Iterations 9\n",
      "                           Logit Regression Results                           \n",
      "==============================================================================\n",
      "Dep. Variable:                    new   No. Observations:                58832\n",
      "Model:                          Logit   Df Residuals:                    58831\n",
      "Method:                           MLE   Df Model:                            0\n",
      "Date:                Tue, 17 Jan 2017   Pseudo R-squ.:                 -0.9013\n",
      "Time:                        12:29:39   Log-Likelihood:                -15539.\n",
      "converged:                       True   LL-Null:                       -8172.6\n",
      "                                        LLR p-value:                       nan\n",
      "==================================================================================\n",
      "                     coef    std err          z      P>|z|      [95.0% Conf. Int.]\n",
      "----------------------------------------------------------------------------------\n",
      "exploit_streak    -0.1099      0.001    -98.269      0.000        -0.112    -0.108\n",
      "==================================================================================\n"
     ]
    }
   ],
   "source": [
    "logit = sm.Logit(df_shuffle['new'][1:], df_shuffle['exploit_streak'][1:])\n",
    "result = logit.fit()\n",
    "print result.summary()"
   ]
  },
  {
   "cell_type": "code",
   "execution_count": 18,
   "metadata": {
    "collapsed": false
   },
   "outputs": [
    {
     "name": "stdout",
     "output_type": "stream",
     "text": [
      "Optimization terminated successfully.\n",
      "         Current function value: 0.138971\n",
      "         Iterations 7\n"
     ]
    },
    {
     "data": {
      "text/html": [
       "<table class=\"simpletable\">\n",
       "<caption>Logit Regression Results</caption>\n",
       "<tr>\n",
       "  <th>Dep. Variable:</th>        <td>new</td>       <th>  No. Observations:  </th>  <td> 58833</td> \n",
       "</tr>\n",
       "<tr>\n",
       "  <th>Model:</th>               <td>Logit</td>      <th>  Df Residuals:      </th>  <td> 58832</td> \n",
       "</tr>\n",
       "<tr>\n",
       "  <th>Method:</th>               <td>MLE</td>       <th>  Df Model:          </th>  <td>     0</td> \n",
       "</tr>\n",
       "<tr>\n",
       "  <th>Date:</th>          <td>Tue, 17 Jan 2017</td> <th>  Pseudo R-squ.:     </th>  <td> 0.000</td> \n",
       "</tr>\n",
       "<tr>\n",
       "  <th>Time:</th>              <td>13:06:34</td>     <th>  Log-Likelihood:    </th> <td> -8176.1</td>\n",
       "</tr>\n",
       "<tr>\n",
       "  <th>converged:</th>           <td>True</td>       <th>  LL-Null:           </th> <td> -8176.1</td>\n",
       "</tr>\n",
       "<tr>\n",
       "  <th> </th>                      <td> </td>        <th>  LLR p-value:       </th>  <td>   nan</td> \n",
       "</tr>\n",
       "</table>\n",
       "<table class=\"simpletable\">\n",
       "<tr>\n",
       "      <td></td>         <th>coef</th>     <th>std err</th>      <th>z</th>      <th>P>|z|</th> <th>[95.0% Conf. Int.]</th> \n",
       "</tr>\n",
       "<tr>\n",
       "  <th>Intercept</th> <td>   -3.4348</td> <td>    0.024</td> <td> -144.902</td> <td> 0.000</td> <td>   -3.481    -3.388</td>\n",
       "</tr>\n",
       "</table>"
      ],
      "text/plain": [
       "<class 'statsmodels.iolib.summary.Summary'>\n",
       "\"\"\"\n",
       "                           Logit Regression Results                           \n",
       "==============================================================================\n",
       "Dep. Variable:                    new   No. Observations:                58833\n",
       "Model:                          Logit   Df Residuals:                    58832\n",
       "Method:                           MLE   Df Model:                            0\n",
       "Date:                Tue, 17 Jan 2017   Pseudo R-squ.:                   0.000\n",
       "Time:                        13:06:34   Log-Likelihood:                -8176.1\n",
       "converged:                       True   LL-Null:                       -8176.1\n",
       "                                        LLR p-value:                       nan\n",
       "==============================================================================\n",
       "                 coef    std err          z      P>|z|      [95.0% Conf. Int.]\n",
       "------------------------------------------------------------------------------\n",
       "Intercept     -3.4348      0.024   -144.902      0.000        -3.481    -3.388\n",
       "==============================================================================\n",
       "\"\"\""
      ]
     },
     "execution_count": 18,
     "metadata": {},
     "output_type": "execute_result"
    }
   ],
   "source": [
    "from statsmodels.formula.api import logit\n",
    "l = logit(formula = 'new ~ 1', data = df).fit()\n",
    "l.summary()"
   ]
  },
  {
   "cell_type": "code",
   "execution_count": 19,
   "metadata": {
    "collapsed": false
   },
   "outputs": [
    {
     "name": "stdout",
     "output_type": "stream",
     "text": [
      "Optimization terminated successfully.\n",
      "         Current function value: 0.128932\n",
      "         Iterations 10\n"
     ]
    },
    {
     "data": {
      "text/html": [
       "<table class=\"simpletable\">\n",
       "<caption>Logit Regression Results</caption>\n",
       "<tr>\n",
       "  <th>Dep. Variable:</th>        <td>new</td>       <th>  No. Observations:  </th>   <td> 58832</td>  \n",
       "</tr>\n",
       "<tr>\n",
       "  <th>Model:</th>               <td>Logit</td>      <th>  Df Residuals:      </th>   <td> 58830</td>  \n",
       "</tr>\n",
       "<tr>\n",
       "  <th>Method:</th>               <td>MLE</td>       <th>  Df Model:          </th>   <td>     1</td>  \n",
       "</tr>\n",
       "<tr>\n",
       "  <th>Date:</th>          <td>Tue, 17 Jan 2017</td> <th>  Pseudo R-squ.:     </th>   <td>0.07186</td> \n",
       "</tr>\n",
       "<tr>\n",
       "  <th>Time:</th>              <td>13:06:44</td>     <th>  Log-Likelihood:    </th>  <td> -7585.3</td> \n",
       "</tr>\n",
       "<tr>\n",
       "  <th>converged:</th>           <td>True</td>       <th>  LL-Null:           </th>  <td> -8172.6</td> \n",
       "</tr>\n",
       "<tr>\n",
       "  <th> </th>                      <td> </td>        <th>  LLR p-value:       </th> <td>2.023e-257</td>\n",
       "</tr>\n",
       "</table>\n",
       "<table class=\"simpletable\">\n",
       "<tr>\n",
       "         <td></td>           <th>coef</th>     <th>std err</th>      <th>z</th>      <th>P>|z|</th> <th>[95.0% Conf. Int.]</th> \n",
       "</tr>\n",
       "<tr>\n",
       "  <th>Intercept</th>      <td>   -2.6427</td> <td>    0.031</td> <td>  -84.541</td> <td> 0.000</td> <td>   -2.704    -2.581</td>\n",
       "</tr>\n",
       "<tr>\n",
       "  <th>exploit_streak</th> <td>   -0.0150</td> <td>    0.001</td> <td>  -23.498</td> <td> 0.000</td> <td>   -0.016    -0.014</td>\n",
       "</tr>\n",
       "</table>"
      ],
      "text/plain": [
       "<class 'statsmodels.iolib.summary.Summary'>\n",
       "\"\"\"\n",
       "                           Logit Regression Results                           \n",
       "==============================================================================\n",
       "Dep. Variable:                    new   No. Observations:                58832\n",
       "Model:                          Logit   Df Residuals:                    58830\n",
       "Method:                           MLE   Df Model:                            1\n",
       "Date:                Tue, 17 Jan 2017   Pseudo R-squ.:                 0.07186\n",
       "Time:                        13:06:44   Log-Likelihood:                -7585.3\n",
       "converged:                       True   LL-Null:                       -8172.6\n",
       "                                        LLR p-value:                2.023e-257\n",
       "==================================================================================\n",
       "                     coef    std err          z      P>|z|      [95.0% Conf. Int.]\n",
       "----------------------------------------------------------------------------------\n",
       "Intercept         -2.6427      0.031    -84.541      0.000        -2.704    -2.581\n",
       "exploit_streak    -0.0150      0.001    -23.498      0.000        -0.016    -0.014\n",
       "==================================================================================\n",
       "\"\"\""
      ]
     },
     "execution_count": 19,
     "metadata": {},
     "output_type": "execute_result"
    }
   ],
   "source": [
    "from statsmodels.formula.api import logit\n",
    "l = logit(formula = 'new ~ exploit_streak', data = df).fit()\n",
    "l.summary()"
   ]
  },
  {
   "cell_type": "code",
   "execution_count": 24,
   "metadata": {
    "collapsed": false
   },
   "outputs": [
    {
     "name": "stdout",
     "output_type": "stream",
     "text": [
      "Optimization terminated successfully.\n",
      "         Current function value: 0.135871\n",
      "         Iterations 8\n"
     ]
    },
    {
     "data": {
      "text/html": [
       "<table class=\"simpletable\">\n",
       "<caption>Logit Regression Results</caption>\n",
       "<tr>\n",
       "  <th>Dep. Variable:</th>        <td>new</td>       <th>  No. Observations:  </th>  <td> 58832</td>  \n",
       "</tr>\n",
       "<tr>\n",
       "  <th>Model:</th>               <td>Logit</td>      <th>  Df Residuals:      </th>  <td> 58830</td>  \n",
       "</tr>\n",
       "<tr>\n",
       "  <th>Method:</th>               <td>MLE</td>       <th>  Df Model:          </th>  <td>     1</td>  \n",
       "</tr>\n",
       "<tr>\n",
       "  <th>Date:</th>          <td>Tue, 17 Jan 2017</td> <th>  Pseudo R-squ.:     </th>  <td>0.02191</td> \n",
       "</tr>\n",
       "<tr>\n",
       "  <th>Time:</th>              <td>13:08:38</td>     <th>  Log-Likelihood:    </th> <td> -7993.5</td> \n",
       "</tr>\n",
       "<tr>\n",
       "  <th>converged:</th>           <td>True</td>       <th>  LL-Null:           </th> <td> -8172.6</td> \n",
       "</tr>\n",
       "<tr>\n",
       "  <th> </th>                      <td> </td>        <th>  LLR p-value:       </th> <td>6.927e-80</td>\n",
       "</tr>\n",
       "</table>\n",
       "<table class=\"simpletable\">\n",
       "<tr>\n",
       "         <td></td>           <th>coef</th>     <th>std err</th>      <th>z</th>      <th>P>|z|</th> <th>[95.0% Conf. Int.]</th> \n",
       "</tr>\n",
       "<tr>\n",
       "  <th>Intercept</th>      <td>   -3.0160</td> <td>    0.031</td> <td>  -96.416</td> <td> 0.000</td> <td>   -3.077    -2.955</td>\n",
       "</tr>\n",
       "<tr>\n",
       "  <th>exploit_streak</th> <td>   -0.0103</td> <td>    0.001</td> <td>  -15.876</td> <td> 0.000</td> <td>   -0.012    -0.009</td>\n",
       "</tr>\n",
       "</table>"
      ],
      "text/plain": [
       "<class 'statsmodels.iolib.summary.Summary'>\n",
       "\"\"\"\n",
       "                           Logit Regression Results                           \n",
       "==============================================================================\n",
       "Dep. Variable:                    new   No. Observations:                58832\n",
       "Model:                          Logit   Df Residuals:                    58830\n",
       "Method:                           MLE   Df Model:                            1\n",
       "Date:                Tue, 17 Jan 2017   Pseudo R-squ.:                 0.02191\n",
       "Time:                        13:08:38   Log-Likelihood:                -7993.5\n",
       "converged:                       True   LL-Null:                       -8172.6\n",
       "                                        LLR p-value:                 6.927e-80\n",
       "==================================================================================\n",
       "                     coef    std err          z      P>|z|      [95.0% Conf. Int.]\n",
       "----------------------------------------------------------------------------------\n",
       "Intercept         -3.0160      0.031    -96.416      0.000        -3.077    -2.955\n",
       "exploit_streak    -0.0103      0.001    -15.876      0.000        -0.012    -0.009\n",
       "==================================================================================\n",
       "\"\"\""
      ]
     },
     "execution_count": 24,
     "metadata": {},
     "output_type": "execute_result"
    }
   ],
   "source": [
    "from statsmodels.formula.api import logit\n",
    "l = logit(formula = 'new ~ exploit_streak', data = df_shuffle).fit()\n",
    "l.summary()"
   ]
  },
  {
   "cell_type": "code",
   "execution_count": 78,
   "metadata": {
    "collapsed": false
   },
   "outputs": [
    {
     "data": {
      "text/plain": [
       "<matplotlib.axes._subplots.AxesSubplot at 0x115285080>"
      ]
     },
     "execution_count": 78,
     "metadata": {},
     "output_type": "execute_result"
    },
    {
     "data": {
      "image/png": "[encoded data removed]",
      "text/plain": [
       "<matplotlib.figure.Figure at 0x115281ba8>"
      ]
     },
     "metadata": {},
     "output_type": "display_data"
    }
   ],
   "source": [
    "df.groupby('artist_id').apply(lambda x: len(x.song_id.unique())).hist(bins=100)"
   ]
  },
  {
   "cell_type": "code",
   "execution_count": 82,
   "metadata": {
    "collapsed": false
   },
   "outputs": [
    {
     "data": {
      "text/plain": [
       "<matplotlib.axes._subplots.AxesSubplot at 0x11a18ae10>"
      ]
     },
     "execution_count": 82,
     "metadata": {},
     "output_type": "execute_result"
    },
    {
     "data": {
      "image/png": "[encoded data removed]",
      "text/plain": [
       "<matplotlib.figure.Figure at 0x11514c908>"
      ]
     },
     "metadata": {},
     "output_type": "display_data"
    }
   ],
   "source": [
    "(df.new.cumsum() / float(len(df.artist_id.unique()))).plot(grid=True)"
   ]
  },
  {
   "cell_type": "code",
   "execution_count": 96,
   "metadata": {
    "collapsed": false
   },
   "outputs": [
    {
     "data": {
      "text/plain": [
       "<matplotlib.axes._subplots.AxesSubplot at 0x11a659be0>"
      ]
     },
     "execution_count": 96,
     "metadata": {},
     "output_type": "execute_result"
    },
    {
     "data": {
      "image/png": "[encoded data removed]",
      "text/plain": [
       "<matplotlib.figure.Figure at 0x11a37a278>"
      ]
     },
     "metadata": {},
     "output_type": "display_data"
    }
   ],
   "source": [
    "df[10788:][df[10788:].new==0].groupby('new_block').song_id.count().value_counts().sort_index().reindex(range(1,101)).plot()"
   ]
  },
  {
   "cell_type": "code",
   "execution_count": 95,
   "metadata": {
    "collapsed": false
   },
   "outputs": [
    {
     "data": {
      "text/plain": [
       "10788"
      ]
     },
     "execution_count": 95,
     "metadata": {},
     "output_type": "execute_result"
    }
   ],
   "source": [
    "((df.new.cumsum() / float(len(df.artist_id.unique())))<.5).sum()"
   ]
  },
  {
   "cell_type": "code",
   "execution_count": 115,
   "metadata": {
    "collapsed": false
   },
   "outputs": [],
   "source": [
    "vcc = df[df.new==0].groupby('new_block').song_id.count().value_counts().sort_index().cumsum()"
   ]
  },
  {
   "cell_type": "code",
   "execution_count": 175,
   "metadata": {
    "collapsed": false
   },
   "outputs": [],
   "source": [
    "x = df[df.new==0].groupby('new_block').song_id.count().value_counts().sort_index()\n",
    "x = x[::-1].cumsum()[::-1]"
   ]
  },
  {
   "cell_type": "code",
   "execution_count": 158,
   "metadata": {
    "collapsed": false
   },
   "outputs": [
    {
     "data": {
      "text/plain": [
       "(0.8, 1)"
      ]
     },
     "execution_count": 158,
     "metadata": {},
     "output_type": "execute_result"
    },
    {
     "data": {
      "image/png": "[encoded data removed]",
      "text/plain": [
       "<matplotlib.figure.Figure at 0x11c428390>"
      ]
     },
     "metadata": {},
     "output_type": "display_data"
    }
   ],
   "source": [
    "fig,ax = plt.subplots(1,1)\n",
    "(x.shift(-1) / x).plot(ax=ax)\n",
    "ax.set_xlim(0,200)\n",
    "ax.set_ylim(.8,1)"
   ]
  },
  {
   "cell_type": "code",
   "execution_count": 187,
   "metadata": {
    "collapsed": false
   },
   "outputs": [],
   "source": [
    "result = (x.shift(-1) / x)"
   ]
  },
  {
   "cell_type": "code",
   "execution_count": 199,
   "metadata": {
    "collapsed": false
   },
   "outputs": [
    {
     "data": {
      "text/plain": [
       "1       1320\n",
       "2       1097\n",
       "3        978\n",
       "4        897\n",
       "5        840\n",
       "6        789\n",
       "7        751\n",
       "8        718\n",
       "9        683\n",
       "10       666\n",
       "11       648\n",
       "12       634\n",
       "13       623\n",
       "14       602\n",
       "15       584\n",
       "16       573\n",
       "17       559\n",
       "18       539\n",
       "19       532\n",
       "20       520\n",
       "21       508\n",
       "22       501\n",
       "23       491\n",
       "24       477\n",
       "25       467\n",
       "26       454\n",
       "27       447\n",
       "28       438\n",
       "29       430\n",
       "30       424\n",
       "        ... \n",
       "296       32\n",
       "297       30\n",
       "306       28\n",
       "310       27\n",
       "320       26\n",
       "324       25\n",
       "326       24\n",
       "327       23\n",
       "329       22\n",
       "333       21\n",
       "334       20\n",
       "348       19\n",
       "349       18\n",
       "354       17\n",
       "356       16\n",
       "360       15\n",
       "412       14\n",
       "419       13\n",
       "420       12\n",
       "456       11\n",
       "459       10\n",
       "466        9\n",
       "490        8\n",
       "576        7\n",
       "624        6\n",
       "679        5\n",
       "694        4\n",
       "716        3\n",
       "776        2\n",
       "1397       1\n",
       "Name: song_id, dtype: int64"
      ]
     },
     "execution_count": 199,
     "metadata": {},
     "output_type": "execute_result"
    }
   ],
   "source": [
    "x"
   ]
  },
  {
   "cell_type": "code",
   "execution_count": 198,
   "metadata": {
    "collapsed": false
   },
   "outputs": [
    {
     "data": {
      "text/plain": [
       "1       1320\n",
       "2       1097\n",
       "3        978\n",
       "4        897\n",
       "5        840\n",
       "6        789\n",
       "7        751\n",
       "8        718\n",
       "9        683\n",
       "10       666\n",
       "11       648\n",
       "12       634\n",
       "13       623\n",
       "14       602\n",
       "15       584\n",
       "16       573\n",
       "17       559\n",
       "18       539\n",
       "19       532\n",
       "20       520\n",
       "21       508\n",
       "22       501\n",
       "23       491\n",
       "24       477\n",
       "25       467\n",
       "26       454\n",
       "27       447\n",
       "28       438\n",
       "29       430\n",
       "30       424\n",
       "        ... \n",
       "296       32\n",
       "297       30\n",
       "306       28\n",
       "310       27\n",
       "320       26\n",
       "324       25\n",
       "326       24\n",
       "327       23\n",
       "329       22\n",
       "333       21\n",
       "334       20\n",
       "348       19\n",
       "349       18\n",
       "354       17\n",
       "356       16\n",
       "360       15\n",
       "412       14\n",
       "419       13\n",
       "420       12\n",
       "456       11\n",
       "459       10\n",
       "466        9\n",
       "490        8\n",
       "576        7\n",
       "624        6\n",
       "679        5\n",
       "694        4\n",
       "716        3\n",
       "776        2\n",
       "1397       1\n",
       "Name: song_id, dtype: int64"
      ]
     },
     "execution_count": 198,
     "metadata": {},
     "output_type": "execute_result"
    }
   ],
   "source": [
    "x"
   ]
  },
  {
   "cell_type": "code",
   "execution_count": null,
   "metadata": {
    "collapsed": true
   },
   "outputs": [],
   "source": []
  }
 ],
 "metadata": {
  "anaconda-cloud": {},
  "kernelspec": {
   "display_name": "Python [conda root]",
   "language": "python",
   "name": "conda-root-py"
  },
  "language_info": {
   "codemirror_mode": {
    "name": "ipython",
    "version": 3
   },
   "file_extension": ".py",
   "mimetype": "text/x-python",
   "name": "python",
   "nbconvert_exporter": "python",
   "pygments_lexer": "ipython3",
   "version": "3.5.2"
  },
  "widgets": {
   "state": {
    "f26f56c4da2b498eac12e82359cabe8b": {
     "views": [
      {
       "cell_index": 6
      }
     ]
    }
   },
   "version": "1.2.0"
  }
 },
 "nbformat": 4,
 "nbformat_minor": 0
}
